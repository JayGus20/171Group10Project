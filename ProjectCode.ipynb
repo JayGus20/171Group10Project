{
 "cells": [
  {
   "attachments": {},
   "cell_type": "markdown",
   "id": "3975cfe6",
   "metadata": {},
   "source": [
    "# Anime Recommendation System Project"
   ]
  },
  {
   "attachments": {},
   "cell_type": "markdown",
   "id": "293017f2",
   "metadata": {},
   "source": [
    "## Imported Libraries"
   ]
  },
  {
   "attachments": {},
   "cell_type": "markdown",
   "id": "01cda693",
   "metadata": {},
   "source": [
    "#### Common Data Science Libraries"
   ]
  },
  {
   "cell_type": "code",
   "execution_count": 1,
   "id": "95126b08",
   "metadata": {},
   "outputs": [],
   "source": [
    "import numpy as np\n",
    "import pandas as pd\n",
    "\n",
    "import matplotlib.pyplot as plt\n",
    "%matplotlib inline\n",
    "import seaborn as sns"
   ]
  },
  {
   "attachments": {},
   "cell_type": "markdown",
   "id": "6bd077d4",
   "metadata": {},
   "source": [
    "#### Surprise Libary (for SVD and KNN models)"
   ]
  },
  {
   "cell_type": "code",
   "execution_count": 2,
   "id": "6365d15d",
   "metadata": {},
   "outputs": [],
   "source": [
    "from surprise.model_selection import GridSearchCV\n",
    "from surprise.model_selection import cross_validate\n",
    "from surprise.prediction_algorithms import KNNWithMeans, KNNBasic, KNNBaseline\n",
    "from surprise.prediction_algorithms import SVD\n",
    "from surprise import accuracy\n",
    "from surprise import Reader\n",
    "from surprise import Dataset"
   ]
  },
  {
   "attachments": {},
   "cell_type": "markdown",
   "id": "ad91c24f",
   "metadata": {},
   "source": [
    "#### User-Defined Libraries"
   ]
  },
  {
   "cell_type": "code",
   "execution_count": 3,
   "id": "d46fda8d",
   "metadata": {},
   "outputs": [],
   "source": [
    "import finalprojutils"
   ]
  },
  {
   "attachments": {},
   "cell_type": "markdown",
   "id": "12b92884",
   "metadata": {},
   "source": [
    "## Data Preprocessing"
   ]
  },
  {
   "attachments": {},
   "cell_type": "markdown",
   "id": "834d8b2d",
   "metadata": {},
   "source": [
    "#### Main Anime Dataset (anime.csv)"
   ]
  },
  {
   "cell_type": "code",
   "execution_count": 4,
   "id": "5214f766",
   "metadata": {},
   "outputs": [
    {
     "name": "stdout",
     "output_type": "stream",
     "text": [
      "(17562, 35)\n",
      "Index(['MAL_ID', 'Name', 'Score', 'Genres', 'English name', 'Japanese name',\n",
      "       'Type', 'Episodes', 'Aired', 'Premiered', 'Producers', 'Licensors',\n",
      "       'Studios', 'Source', 'Duration', 'Rating', 'Ranked', 'Popularity',\n",
      "       'Members', 'Favorites', 'Watching', 'Completed', 'On-Hold', 'Dropped',\n",
      "       'Plan to Watch', 'Score-10', 'Score-9', 'Score-8', 'Score-7', 'Score-6',\n",
      "       'Score-5', 'Score-4', 'Score-3', 'Score-2', 'Score-1'],\n",
      "      dtype='object')\n"
     ]
    },
    {
     "data": {
      "text/html": [
       "<div>\n",
       "<style scoped>\n",
       "    .dataframe tbody tr th:only-of-type {\n",
       "        vertical-align: middle;\n",
       "    }\n",
       "\n",
       "    .dataframe tbody tr th {\n",
       "        vertical-align: top;\n",
       "    }\n",
       "\n",
       "    .dataframe thead th {\n",
       "        text-align: right;\n",
       "    }\n",
       "</style>\n",
       "<table border=\"1\" class=\"dataframe\">\n",
       "  <thead>\n",
       "    <tr style=\"text-align: right;\">\n",
       "      <th></th>\n",
       "      <th>MAL_ID</th>\n",
       "      <th>Name</th>\n",
       "      <th>Score</th>\n",
       "      <th>Genres</th>\n",
       "      <th>English name</th>\n",
       "      <th>Japanese name</th>\n",
       "      <th>Type</th>\n",
       "      <th>Episodes</th>\n",
       "      <th>Aired</th>\n",
       "      <th>Premiered</th>\n",
       "      <th>...</th>\n",
       "      <th>Score-10</th>\n",
       "      <th>Score-9</th>\n",
       "      <th>Score-8</th>\n",
       "      <th>Score-7</th>\n",
       "      <th>Score-6</th>\n",
       "      <th>Score-5</th>\n",
       "      <th>Score-4</th>\n",
       "      <th>Score-3</th>\n",
       "      <th>Score-2</th>\n",
       "      <th>Score-1</th>\n",
       "    </tr>\n",
       "  </thead>\n",
       "  <tbody>\n",
       "    <tr>\n",
       "      <th>0</th>\n",
       "      <td>1</td>\n",
       "      <td>Cowboy Bebop</td>\n",
       "      <td>8.78</td>\n",
       "      <td>Action, Adventure, Comedy, Drama, Sci-Fi, Space</td>\n",
       "      <td>Cowboy Bebop</td>\n",
       "      <td>カウボーイビバップ</td>\n",
       "      <td>TV</td>\n",
       "      <td>26</td>\n",
       "      <td>Apr 3, 1998 to Apr 24, 1999</td>\n",
       "      <td>Spring 1998</td>\n",
       "      <td>...</td>\n",
       "      <td>229170</td>\n",
       "      <td>182126</td>\n",
       "      <td>131625</td>\n",
       "      <td>62330</td>\n",
       "      <td>20688</td>\n",
       "      <td>8904</td>\n",
       "      <td>3184</td>\n",
       "      <td>1357</td>\n",
       "      <td>741</td>\n",
       "      <td>1580</td>\n",
       "    </tr>\n",
       "    <tr>\n",
       "      <th>1</th>\n",
       "      <td>5</td>\n",
       "      <td>Cowboy Bebop: Tengoku no Tobira</td>\n",
       "      <td>8.39</td>\n",
       "      <td>Action, Drama, Mystery, Sci-Fi, Space</td>\n",
       "      <td>Cowboy Bebop:The Movie</td>\n",
       "      <td>カウボーイビバップ 天国の扉</td>\n",
       "      <td>Movie</td>\n",
       "      <td>1</td>\n",
       "      <td>1-Sep-01</td>\n",
       "      <td>Unknown</td>\n",
       "      <td>...</td>\n",
       "      <td>30043</td>\n",
       "      <td>49201</td>\n",
       "      <td>49505</td>\n",
       "      <td>22632</td>\n",
       "      <td>5805</td>\n",
       "      <td>1877</td>\n",
       "      <td>577</td>\n",
       "      <td>221</td>\n",
       "      <td>109</td>\n",
       "      <td>379</td>\n",
       "    </tr>\n",
       "    <tr>\n",
       "      <th>2</th>\n",
       "      <td>6</td>\n",
       "      <td>Trigun</td>\n",
       "      <td>8.24</td>\n",
       "      <td>Action, Sci-Fi, Adventure, Comedy, Drama, Shounen</td>\n",
       "      <td>Trigun</td>\n",
       "      <td>トライガン</td>\n",
       "      <td>TV</td>\n",
       "      <td>26</td>\n",
       "      <td>Apr 1, 1998 to Sep 30, 1998</td>\n",
       "      <td>Spring 1998</td>\n",
       "      <td>...</td>\n",
       "      <td>50229</td>\n",
       "      <td>75651</td>\n",
       "      <td>86142</td>\n",
       "      <td>49432</td>\n",
       "      <td>15376</td>\n",
       "      <td>5838</td>\n",
       "      <td>1965</td>\n",
       "      <td>664</td>\n",
       "      <td>316</td>\n",
       "      <td>533</td>\n",
       "    </tr>\n",
       "    <tr>\n",
       "      <th>3</th>\n",
       "      <td>7</td>\n",
       "      <td>Witch Hunter Robin</td>\n",
       "      <td>7.27</td>\n",
       "      <td>Action, Mystery, Police, Supernatural, Drama, ...</td>\n",
       "      <td>Witch Hunter Robin</td>\n",
       "      <td>Witch Hunter ROBIN (ウイッチハンターロビン)</td>\n",
       "      <td>TV</td>\n",
       "      <td>26</td>\n",
       "      <td>Jul 2, 2002 to Dec 24, 2002</td>\n",
       "      <td>Summer 2002</td>\n",
       "      <td>...</td>\n",
       "      <td>2182</td>\n",
       "      <td>4806</td>\n",
       "      <td>10128</td>\n",
       "      <td>11618</td>\n",
       "      <td>5709</td>\n",
       "      <td>2920</td>\n",
       "      <td>1083</td>\n",
       "      <td>353</td>\n",
       "      <td>164</td>\n",
       "      <td>131</td>\n",
       "    </tr>\n",
       "    <tr>\n",
       "      <th>4</th>\n",
       "      <td>8</td>\n",
       "      <td>Bouken Ou Beet</td>\n",
       "      <td>6.98</td>\n",
       "      <td>Adventure, Fantasy, Shounen, Supernatural</td>\n",
       "      <td>Beet the Vandel Buster</td>\n",
       "      <td>冒険王ビィト</td>\n",
       "      <td>TV</td>\n",
       "      <td>52</td>\n",
       "      <td>Sep 30, 2004 to Sep 29, 2005</td>\n",
       "      <td>Fall 2004</td>\n",
       "      <td>...</td>\n",
       "      <td>312</td>\n",
       "      <td>529</td>\n",
       "      <td>1242</td>\n",
       "      <td>1713</td>\n",
       "      <td>1068</td>\n",
       "      <td>634</td>\n",
       "      <td>265</td>\n",
       "      <td>83</td>\n",
       "      <td>50</td>\n",
       "      <td>27</td>\n",
       "    </tr>\n",
       "  </tbody>\n",
       "</table>\n",
       "<p>5 rows × 35 columns</p>\n",
       "</div>"
      ],
      "text/plain": [
       "   MAL_ID                             Name Score  \\\n",
       "0       1                     Cowboy Bebop  8.78   \n",
       "1       5  Cowboy Bebop: Tengoku no Tobira  8.39   \n",
       "2       6                           Trigun  8.24   \n",
       "3       7               Witch Hunter Robin  7.27   \n",
       "4       8                   Bouken Ou Beet  6.98   \n",
       "\n",
       "                                              Genres            English name  \\\n",
       "0    Action, Adventure, Comedy, Drama, Sci-Fi, Space            Cowboy Bebop   \n",
       "1              Action, Drama, Mystery, Sci-Fi, Space  Cowboy Bebop:The Movie   \n",
       "2  Action, Sci-Fi, Adventure, Comedy, Drama, Shounen                  Trigun   \n",
       "3  Action, Mystery, Police, Supernatural, Drama, ...      Witch Hunter Robin   \n",
       "4          Adventure, Fantasy, Shounen, Supernatural  Beet the Vandel Buster   \n",
       "\n",
       "                      Japanese name   Type Episodes  \\\n",
       "0                         カウボーイビバップ     TV       26   \n",
       "1                    カウボーイビバップ 天国の扉  Movie        1   \n",
       "2                             トライガン     TV       26   \n",
       "3  Witch Hunter ROBIN (ウイッチハンターロビン)     TV       26   \n",
       "4                            冒険王ビィト     TV       52   \n",
       "\n",
       "                          Aired    Premiered  ... Score-10 Score-9 Score-8  \\\n",
       "0   Apr 3, 1998 to Apr 24, 1999  Spring 1998  ...   229170  182126  131625   \n",
       "1                      1-Sep-01      Unknown  ...    30043   49201   49505   \n",
       "2   Apr 1, 1998 to Sep 30, 1998  Spring 1998  ...    50229   75651   86142   \n",
       "3   Jul 2, 2002 to Dec 24, 2002  Summer 2002  ...     2182    4806   10128   \n",
       "4  Sep 30, 2004 to Sep 29, 2005    Fall 2004  ...      312     529    1242   \n",
       "\n",
       "  Score-7 Score-6 Score-5 Score-4  Score-3  Score-2  Score-1  \n",
       "0   62330   20688    8904    3184     1357      741     1580  \n",
       "1   22632    5805    1877     577      221      109      379  \n",
       "2   49432   15376    5838    1965      664      316      533  \n",
       "3   11618    5709    2920    1083      353      164      131  \n",
       "4    1713    1068     634     265       83       50       27  \n",
       "\n",
       "[5 rows x 35 columns]"
      ]
     },
     "execution_count": 4,
     "metadata": {},
     "output_type": "execute_result"
    }
   ],
   "source": [
    "anime_df = pd.read_csv(\"data/anime.csv\")\n",
    "\n",
    "\n",
    "print(anime_df.shape)\n",
    "print(anime_df.columns.unique())\n",
    "anime_df.head()"
   ]
  },
  {
   "attachments": {},
   "cell_type": "markdown",
   "id": "f7068e1f",
   "metadata": {},
   "source": [
    "#### Anime Ratings Dataset (rating_complete.csv)"
   ]
  },
  {
   "cell_type": "code",
   "execution_count": 5,
   "id": "30fc7799",
   "metadata": {},
   "outputs": [
    {
     "name": "stdout",
     "output_type": "stream",
     "text": [
      "(57633278, 3)\n",
      "Index(['user_id', 'anime_id', 'rating'], dtype='object')\n"
     ]
    },
    {
     "data": {
      "text/html": [
       "<div>\n",
       "<style scoped>\n",
       "    .dataframe tbody tr th:only-of-type {\n",
       "        vertical-align: middle;\n",
       "    }\n",
       "\n",
       "    .dataframe tbody tr th {\n",
       "        vertical-align: top;\n",
       "    }\n",
       "\n",
       "    .dataframe thead th {\n",
       "        text-align: right;\n",
       "    }\n",
       "</style>\n",
       "<table border=\"1\" class=\"dataframe\">\n",
       "  <thead>\n",
       "    <tr style=\"text-align: right;\">\n",
       "      <th></th>\n",
       "      <th>user_id</th>\n",
       "      <th>anime_id</th>\n",
       "      <th>rating</th>\n",
       "    </tr>\n",
       "  </thead>\n",
       "  <tbody>\n",
       "    <tr>\n",
       "      <th>0</th>\n",
       "      <td>0</td>\n",
       "      <td>430</td>\n",
       "      <td>9</td>\n",
       "    </tr>\n",
       "    <tr>\n",
       "      <th>1</th>\n",
       "      <td>0</td>\n",
       "      <td>1004</td>\n",
       "      <td>5</td>\n",
       "    </tr>\n",
       "    <tr>\n",
       "      <th>2</th>\n",
       "      <td>0</td>\n",
       "      <td>3010</td>\n",
       "      <td>7</td>\n",
       "    </tr>\n",
       "    <tr>\n",
       "      <th>3</th>\n",
       "      <td>0</td>\n",
       "      <td>570</td>\n",
       "      <td>7</td>\n",
       "    </tr>\n",
       "    <tr>\n",
       "      <th>4</th>\n",
       "      <td>0</td>\n",
       "      <td>2762</td>\n",
       "      <td>9</td>\n",
       "    </tr>\n",
       "  </tbody>\n",
       "</table>\n",
       "</div>"
      ],
      "text/plain": [
       "   user_id  anime_id  rating\n",
       "0        0       430       9\n",
       "1        0      1004       5\n",
       "2        0      3010       7\n",
       "3        0       570       7\n",
       "4        0      2762       9"
      ]
     },
     "execution_count": 5,
     "metadata": {},
     "output_type": "execute_result"
    }
   ],
   "source": [
    "ratings_df = pd.read_csv(\"data/rating_complete.csv\")\n",
    "\n",
    "print(ratings_df.shape)\n",
    "print(ratings_df.columns.unique())\n",
    "ratings_df.head()"
   ]
  },
  {
   "attachments": {},
   "cell_type": "markdown",
   "id": "2f7eb822",
   "metadata": {},
   "source": [
    "#### Dataset Cleaning"
   ]
  },
  {
   "cell_type": "code",
   "execution_count": 6,
   "id": "569129e3",
   "metadata": {},
   "outputs": [
    {
     "name": "stdout",
     "output_type": "stream",
     "text": [
      "Before:\n",
      "(17562, 35)\n",
      "(57633278, 3)\n",
      "\n",
      "After:\n",
      "(17562, 35)\n",
      "(57633278, 3)\n"
     ]
    }
   ],
   "source": [
    "print(\"Before:\")\n",
    "print(anime_df.shape)\n",
    "print(ratings_df.shape)\n",
    "\n",
    "anime_df.dropna(inplace=True)\n",
    "ratings_df.dropna(inplace=True)\n",
    "\n",
    "print(\"\\nAfter:\")\n",
    "print(anime_df.shape)\n",
    "print(ratings_df.shape)"
   ]
  },
  {
   "attachments": {},
   "cell_type": "markdown",
   "id": "b34225c4",
   "metadata": {},
   "source": [
    "#### CSV for mapping Name to ID used by app.py (id_to_name.csv)"
   ]
  },
  {
   "cell_type": "code",
   "execution_count": 7,
   "id": "fc1b9589",
   "metadata": {},
   "outputs": [],
   "source": [
    "name_to_id_df = anime_df[['MAL_ID', 'Name', 'English name']]\n",
    "name_to_id_df.to_csv('data/id_to_name.csv', index=False)"
   ]
  },
  {
   "attachments": {},
   "cell_type": "markdown",
   "id": "36bec1f1",
   "metadata": {},
   "source": [
    "#### Dictionaries for Anime ID and Name Mappings"
   ]
  },
  {
   "cell_type": "code",
   "execution_count": 8,
   "id": "b872c30d",
   "metadata": {},
   "outputs": [],
   "source": [
    "rid_to_name, name_to_rid = finalprojutils.read_item_names()"
   ]
  },
  {
   "attachments": {},
   "cell_type": "markdown",
   "id": "fad0cbd6",
   "metadata": {},
   "source": [
    "## Data Exploratory Analysis"
   ]
  },
  {
   "cell_type": "code",
   "execution_count": 9,
   "id": "2ab6ec75",
   "metadata": {},
   "outputs": [
    {
     "name": "stdout",
     "output_type": "stream",
     "text": [
      "Number of rated anime: 16872\n",
      "Total number of anime: 17562\n",
      "Percentage of rated anime: 96.07%\n"
     ]
    }
   ],
   "source": [
    "anime_ratings_counts = ratings_df['anime_id'].value_counts()\n",
    "print(f'Number of rated anime: {len(anime_ratings_counts)}')\n",
    "print(f'Total number of anime: {len(anime_df)}')\n",
    "print(f'Percentage of rated anime: {(len(anime_ratings_counts) / len(anime_df) * 100):.2f}%')"
   ]
  },
  {
   "cell_type": "code",
   "execution_count": 10,
   "id": "0a999960",
   "metadata": {},
   "outputs": [
    {
     "name": "stdout",
     "output_type": "stream",
     "text": [
      "Rating Counts:\n"
     ]
    },
    {
     "data": {
      "text/plain": [
       "8     14642156\n",
       "7     13325549\n",
       "9      9773857\n",
       "6      6849293\n",
       "10     6716048\n",
       "5      3436250\n",
       "4      1455102\n",
       "3       696048\n",
       "2       405556\n",
       "1       333419\n",
       "Name: rating, dtype: int64"
      ]
     },
     "execution_count": 10,
     "metadata": {},
     "output_type": "execute_result"
    },
    {
     "data": {
      "image/png": "[encoded data removed]",
      "text/plain": [
       "<Figure size 640x480 with 1 Axes>"
      ]
     },
     "metadata": {},
     "output_type": "display_data"
    }
   ],
   "source": [
    "rating_values = ratings_df['rating'].unique()\n",
    "rating_counts = ratings_df['rating'].value_counts()\n",
    "plt.bar(rating_counts.index, rating_counts)\n",
    "plt.xlabel(\"Rating\")\n",
    "plt.xticks(rating_values)\n",
    "plt.ylabel(\"Frequency (in millions)\")\n",
    "\n",
    "print(\"Rating Counts:\")\n",
    "rating_counts"
   ]
  },
  {
   "cell_type": "code",
   "execution_count": 11,
   "id": "2186d4cb",
   "metadata": {},
   "outputs": [],
   "source": [
    "# returns bounds to be considered outlier for a distribution based on IQR method\n",
    "def iqr_bounds(value_counts):\n",
    "    quartiles = np.percentile(value_counts, [25, 50, 75])\n",
    "    iqr = quartiles[2] - quartiles[0]\n",
    "    lower = quartiles[0] - 1.5 * iqr\n",
    "    upper = quartiles[2] + 1.5 * iqr\n",
    "    return lower, upper\n",
    "\n",
    "# plots both a histogram and boxplot for user ratings per anime and user in a 4x4 grid\n",
    "# contains an outliers parameter to keep/remove outliers from the distribution\n",
    "def plot_distributions(df, outliers):\n",
    "    fig, axs = plt.subplots(2, 2, figsize=(8, 8))\n",
    "    fig.tight_layout(pad=5)\n",
    "\n",
    "    x_labels = [\"Ratings Count Per Anime\", \"Ratings Count Per User\"]\n",
    "\n",
    "    for idx, column in enumerate(['anime_id', 'user_id']):\n",
    "        value_counts = df[column].value_counts()\n",
    "        lower, upper = iqr_bounds(value_counts)\n",
    "\n",
    "        if not outliers:\n",
    "            value_counts = value_counts[(value_counts >= lower) & (value_counts <= upper)]\n",
    "\n",
    "        axs[0, idx].hist(value_counts, bins=50, edgecolor = \"black\")\n",
    "        axs[0, idx].set_xlabel(x_labels[idx])\n",
    "        axs[0, idx].set_ylabel(\"Frequency\")\n",
    "\n",
    "        axs[1, idx].boxplot(value_counts, vert=False)\n",
    "        axs[1, idx].set_xlabel(x_labels[idx])\n",
    "        axs[1, idx].set_yticks([])"
   ]
  },
  {
   "attachments": {},
   "cell_type": "markdown",
   "id": "4d5c1a59",
   "metadata": {},
   "source": [
    "#### Ratings Distributions with Outliers"
   ]
  },
  {
   "cell_type": "code",
   "execution_count": 12,
   "id": "50ec6b38",
   "metadata": {},
   "outputs": [
    {
     "data": {
      "text/html": [
       "<div>\n",
       "<style scoped>\n",
       "    .dataframe tbody tr th:only-of-type {\n",
       "        vertical-align: middle;\n",
       "    }\n",
       "\n",
       "    .dataframe tbody tr th {\n",
       "        vertical-align: top;\n",
       "    }\n",
       "\n",
       "    .dataframe thead th {\n",
       "        text-align: right;\n",
       "    }\n",
       "</style>\n",
       "<table border=\"1\" class=\"dataframe\">\n",
       "  <thead>\n",
       "    <tr style=\"text-align: right;\">\n",
       "      <th></th>\n",
       "      <th>Rating Count/Anime</th>\n",
       "      <th>Rating Count/User</th>\n",
       "    </tr>\n",
       "  </thead>\n",
       "  <tbody>\n",
       "    <tr>\n",
       "      <th>count</th>\n",
       "      <td>16872.000000</td>\n",
       "      <td>310059.000000</td>\n",
       "    </tr>\n",
       "    <tr>\n",
       "      <th>mean</th>\n",
       "      <td>3415.912636</td>\n",
       "      <td>185.878423</td>\n",
       "    </tr>\n",
       "    <tr>\n",
       "      <th>std</th>\n",
       "      <td>10304.206874</td>\n",
       "      <td>255.290522</td>\n",
       "    </tr>\n",
       "    <tr>\n",
       "      <th>min</th>\n",
       "      <td>1.000000</td>\n",
       "      <td>1.000000</td>\n",
       "    </tr>\n",
       "    <tr>\n",
       "      <th>25%</th>\n",
       "      <td>40.000000</td>\n",
       "      <td>43.000000</td>\n",
       "    </tr>\n",
       "    <tr>\n",
       "      <th>50%</th>\n",
       "      <td>266.000000</td>\n",
       "      <td>113.000000</td>\n",
       "    </tr>\n",
       "    <tr>\n",
       "      <th>75%</th>\n",
       "      <td>1671.250000</td>\n",
       "      <td>238.000000</td>\n",
       "    </tr>\n",
       "    <tr>\n",
       "      <th>max</th>\n",
       "      <td>182375.000000</td>\n",
       "      <td>15455.000000</td>\n",
       "    </tr>\n",
       "  </tbody>\n",
       "</table>\n",
       "</div>"
      ],
      "text/plain": [
       "       Rating Count/Anime  Rating Count/User\n",
       "count        16872.000000      310059.000000\n",
       "mean          3415.912636         185.878423\n",
       "std          10304.206874         255.290522\n",
       "min              1.000000           1.000000\n",
       "25%             40.000000          43.000000\n",
       "50%            266.000000         113.000000\n",
       "75%           1671.250000         238.000000\n",
       "max         182375.000000       15455.000000"
      ]
     },
     "execution_count": 12,
     "metadata": {},
     "output_type": "execute_result"
    }
   ],
   "source": [
    "population_counts_stats = pd.concat([ratings_df['anime_id'].value_counts().describe(),\n",
    "                                     ratings_df['user_id'].value_counts().describe()],\n",
    "                                     axis=1)\n",
    "population_counts_stats.columns = ['Rating Count/Anime', 'Rating Count/User']\n",
    "population_counts_stats"
   ]
  },
  {
   "cell_type": "code",
   "execution_count": 13,
   "id": "d0289f04",
   "metadata": {},
   "outputs": [
    {
     "data": {
      "image/png": "[encoded data removed]",
      "text/plain": [
       "<Figure size 800x800 with 4 Axes>"
      ]
     },
     "metadata": {},
     "output_type": "display_data"
    }
   ],
   "source": [
    "plot_distributions(ratings_df, outliers=True)"
   ]
  },
  {
   "attachments": {},
   "cell_type": "markdown",
   "id": "b0a77e3f",
   "metadata": {},
   "source": [
    "#### Ratings Distributions without Outliers"
   ]
  },
  {
   "cell_type": "code",
   "execution_count": 14,
   "id": "163cf085",
   "metadata": {},
   "outputs": [
    {
     "data": {
      "image/png": "[encoded data removed]",
      "text/plain": [
       "<Figure size 800x800 with 4 Axes>"
      ]
     },
     "metadata": {},
     "output_type": "display_data"
    }
   ],
   "source": [
    "plot_distributions(ratings_df, outliers=False)"
   ]
  },
  {
   "attachments": {},
   "cell_type": "markdown",
   "id": "598a6005",
   "metadata": {},
   "source": [
    "#### Ratings Random Sample"
   ]
  },
  {
   "cell_type": "code",
   "execution_count": 15,
   "id": "9af8939a",
   "metadata": {},
   "outputs": [],
   "source": [
    "# From a dataframe sample all the ratings from N random users, using 'User ID'\n",
    "def sample_n_user_ratings(source_df, n):\n",
    "    users = source_df['user_id'].unique()\n",
    "    user_id_set = set(np.random.choice(users, size=n, replace=False))\n",
    "\n",
    "    result_df = source_df[source_df['user_id'].isin(user_id_set)].copy()\n",
    "    \n",
    "    return result_df\n",
    "\n",
    "ratings_sample = sample_n_user_ratings(ratings_df, 2000)"
   ]
  },
  {
   "cell_type": "code",
   "execution_count": 16,
   "id": "b930d382",
   "metadata": {},
   "outputs": [
    {
     "data": {
      "text/html": [
       "<div>\n",
       "<style scoped>\n",
       "    .dataframe tbody tr th:only-of-type {\n",
       "        vertical-align: middle;\n",
       "    }\n",
       "\n",
       "    .dataframe tbody tr th {\n",
       "        vertical-align: top;\n",
       "    }\n",
       "\n",
       "    .dataframe thead th {\n",
       "        text-align: right;\n",
       "    }\n",
       "</style>\n",
       "<table border=\"1\" class=\"dataframe\">\n",
       "  <thead>\n",
       "    <tr style=\"text-align: right;\">\n",
       "      <th></th>\n",
       "      <th>Rating Count/Anime</th>\n",
       "      <th>Rating Count/User</th>\n",
       "    </tr>\n",
       "  </thead>\n",
       "  <tbody>\n",
       "    <tr>\n",
       "      <th>count</th>\n",
       "      <td>10110.000000</td>\n",
       "      <td>2000.000000</td>\n",
       "    </tr>\n",
       "    <tr>\n",
       "      <th>mean</th>\n",
       "      <td>36.472107</td>\n",
       "      <td>184.366500</td>\n",
       "    </tr>\n",
       "    <tr>\n",
       "      <th>std</th>\n",
       "      <td>82.919354</td>\n",
       "      <td>245.986369</td>\n",
       "    </tr>\n",
       "    <tr>\n",
       "      <th>min</th>\n",
       "      <td>1.000000</td>\n",
       "      <td>1.000000</td>\n",
       "    </tr>\n",
       "    <tr>\n",
       "      <th>25%</th>\n",
       "      <td>2.000000</td>\n",
       "      <td>42.000000</td>\n",
       "    </tr>\n",
       "    <tr>\n",
       "      <th>50%</th>\n",
       "      <td>7.000000</td>\n",
       "      <td>117.000000</td>\n",
       "    </tr>\n",
       "    <tr>\n",
       "      <th>75%</th>\n",
       "      <td>30.000000</td>\n",
       "      <td>248.000000</td>\n",
       "    </tr>\n",
       "    <tr>\n",
       "      <th>max</th>\n",
       "      <td>1149.000000</td>\n",
       "      <td>4598.000000</td>\n",
       "    </tr>\n",
       "  </tbody>\n",
       "</table>\n",
       "</div>"
      ],
      "text/plain": [
       "       Rating Count/Anime  Rating Count/User\n",
       "count        10110.000000        2000.000000\n",
       "mean            36.472107         184.366500\n",
       "std             82.919354         245.986369\n",
       "min              1.000000           1.000000\n",
       "25%              2.000000          42.000000\n",
       "50%              7.000000         117.000000\n",
       "75%             30.000000         248.000000\n",
       "max           1149.000000        4598.000000"
      ]
     },
     "execution_count": 16,
     "metadata": {},
     "output_type": "execute_result"
    }
   ],
   "source": [
    "sample_counts_stats = pd.concat([ratings_sample['anime_id'].value_counts().describe(),\n",
    "                                 ratings_sample['user_id'].value_counts().describe()],\n",
    "                                 axis=1)\n",
    "sample_counts_stats.columns = ['Rating Count/Anime', 'Rating Count/User']\n",
    "sample_counts_stats"
   ]
  },
  {
   "cell_type": "code",
   "execution_count": 17,
   "id": "87e95c2b",
   "metadata": {},
   "outputs": [
    {
     "data": {
      "image/png": "[encoded data removed]",
      "text/plain": [
       "<Figure size 800x800 with 4 Axes>"
      ]
     },
     "metadata": {},
     "output_type": "display_data"
    }
   ],
   "source": [
    "plot_distributions(ratings_sample, outliers=False)"
   ]
  },
  {
   "attachments": {},
   "cell_type": "markdown",
   "id": "8bc1f19a",
   "metadata": {},
   "source": [
    "#### Ratings Sample CSV File (frontend_ratings_sample.csv)"
   ]
  },
  {
   "cell_type": "code",
   "execution_count": 18,
   "id": "c9f90997",
   "metadata": {},
   "outputs": [],
   "source": [
    "# Save as file for frontend usage\n",
    "ratings_sample.to_csv('data/frontend_ratings_sample.csv', index=False)"
   ]
  },
  {
   "attachments": {},
   "cell_type": "markdown",
   "id": "7bec2aff",
   "metadata": {},
   "source": [
    "## Singular Value Decomposition (SVD)"
   ]
  },
  {
   "attachments": {},
   "cell_type": "markdown",
   "id": "4b4af08e",
   "metadata": {},
   "source": [
    "Data Setup"
   ]
  },
  {
   "cell_type": "code",
   "execution_count": 19,
   "id": "b2e964a3",
   "metadata": {},
   "outputs": [],
   "source": [
    "svd_ratings_dataset = finalprojutils.create_dataset_from_df(ratings_sample)"
   ]
  },
  {
   "attachments": {},
   "cell_type": "markdown",
   "id": "42a59f52",
   "metadata": {},
   "source": [
    "Grid Search"
   ]
  },
  {
   "cell_type": "code",
   "execution_count": 20,
   "id": "50c3c52a",
   "metadata": {},
   "outputs": [
    {
     "name": "stderr",
     "output_type": "stream",
     "text": [
      "[Parallel(n_jobs=-1)]: Using backend LokyBackend with 16 concurrent workers.\n",
      "[Parallel(n_jobs=-1)]: Done  70 out of  75 | elapsed:  4.8min remaining:   20.5s\n"
     ]
    },
    {
     "name": "stdout",
     "output_type": "stream",
     "text": [
      "{'rmse': 1.199892756758173, 'mae': 0.9020341514852778}\n",
      "{'rmse': {'lr_all': 0.01, 'n_factors': 100, 'reg_all': 0.1, 'n_epochs': 25}, 'mae': {'lr_all': 0.01, 'n_factors': 100, 'reg_all': 0.1, 'n_epochs': 25}}\n"
     ]
    },
    {
     "name": "stderr",
     "output_type": "stream",
     "text": [
      "[Parallel(n_jobs=-1)]: Done  75 out of  75 | elapsed:  5.6min finished\n"
     ]
    }
   ],
   "source": [
    "# Grid search for optimal hyperparameters\n",
    "param_grid = {\n",
    "    'lr_all' : [.01],\n",
    "    'n_factors' : [10, 25, 50, 75, 100],\n",
    "    'reg_all': [.1],\n",
    "    'n_epochs' : [25, 50, 100]\n",
    "}\n",
    "gridsearch_svd = GridSearchCV(\n",
    "    SVD, \n",
    "    param_grid = param_grid, \n",
    "    n_jobs = -1, \n",
    "    joblib_verbose = 3)\n",
    "\n",
    "gridsearch_svd.fit(svd_ratings_dataset)\n",
    "\n",
    "print(gridsearch_svd.best_score)\n",
    "print(gridsearch_svd.best_params)"
   ]
  },
  {
   "cell_type": "code",
   "execution_count": 21,
   "id": "ef63e891",
   "metadata": {},
   "outputs": [
    {
     "name": "stdout",
     "output_type": "stream",
     "text": [
      "Index(['split0_test_rmse', 'split1_test_rmse', 'split2_test_rmse',\n",
      "       'split3_test_rmse', 'split4_test_rmse', 'mean_test_rmse',\n",
      "       'std_test_rmse', 'rank_test_rmse', 'split0_test_mae', 'split1_test_mae',\n",
      "       'split2_test_mae', 'split3_test_mae', 'split4_test_mae',\n",
      "       'mean_test_mae', 'std_test_mae', 'rank_test_mae', 'mean_fit_time',\n",
      "       'std_fit_time', 'mean_test_time', 'std_test_time', 'params',\n",
      "       'param_lr_all', 'param_n_factors', 'param_reg_all', 'param_n_epochs'],\n",
      "      dtype='object')\n"
     ]
    },
    {
     "data": {
      "image/png": "[encoded data removed]",
      "text/plain": [
       "<Figure size 640x480 with 1 Axes>"
      ]
     },
     "metadata": {},
     "output_type": "display_data"
    },
    {
     "data": {
      "image/png": "[encoded data removed]",
      "text/plain": [
       "<Figure size 640x480 with 1 Axes>"
      ]
     },
     "metadata": {},
     "output_type": "display_data"
    }
   ],
   "source": [
    "gs_results_df = pd.DataFrame.from_dict(gridsearch_svd.cv_results)\n",
    "\n",
    "print(gs_results_df.columns)\n",
    "# Train time for different n factors (embedding size)\n",
    "sns.lineplot(x='param_n_factors', y='mean_fit_time', hue='param_n_epochs', data=gs_results_df, marker='o')\n",
    "plt.show()\n",
    "\n",
    "# RMSE for different n factors\n",
    "sns.lineplot(x='param_n_factors', y='mean_test_rmse', hue='param_n_epochs', data=gs_results_df, marker='o')\n",
    "plt.show()"
   ]
  },
  {
   "cell_type": "code",
   "execution_count": 22,
   "id": "bbbabfc3",
   "metadata": {},
   "outputs": [
    {
     "name": "stdout",
     "output_type": "stream",
     "text": [
      "{'n_factors': 100, 'n_epochs': 25, 'biased': True, 'init_mean': 0, 'init_std_dev': 0.1, 'lr_bu': 0.01, 'lr_bi': 0.01, 'lr_pu': 0.01, 'lr_qi': 0.01, 'reg_bu': 0.1, 'reg_bi': 0.1, 'reg_pu': 0.1, 'reg_qi': 0.1, 'random_state': None, 'verbose': False, 'bsl_options': {}, 'sim_options': {'user_based': True}}\n"
     ]
    }
   ],
   "source": [
    "# Create model instance from grid search optimal hyperparameters\n",
    "svd_instance = gridsearch_svd.best_estimator[\"rmse\"]\n",
    "# Print Params\n",
    "print(svd_instance.__dict__)"
   ]
  },
  {
   "attachments": {},
   "cell_type": "markdown",
   "id": "d883694f",
   "metadata": {},
   "source": [
    "#### Recommendations with SVD Model"
   ]
  },
  {
   "cell_type": "code",
   "execution_count": 23,
   "id": "eea44434",
   "metadata": {},
   "outputs": [],
   "source": [
    "# Create predictions for a mew user provided their anime ratings\n",
    "# This refits the entire model with the new user appended onto the base df with a user ID of -1\n",
    "\n",
    "def create_predictions_for_user(model_instance, base_train_df, anime_ids, ratings):\n",
    "\n",
    "    # Create suprise dataset with new user\n",
    "    predict_dataset = finalprojutils.create_predict_dataset(\n",
    "        base_train_df, \n",
    "        anime_ids,\n",
    "        ratings)\n",
    "\n",
    "    # Retrain\n",
    "    model_instance.fit(predict_dataset.build_full_trainset())\n",
    "\n",
    "    # Generate predictions\n",
    "    print(\"Generating Anime IDs\")\n",
    "    predict_anime_ids = list(rid_to_name)\n",
    "\n",
    "    # Remove user provided ids from being predicted\n",
    "    predict_anime_ids = [int(id) for id in predict_anime_ids if int(id) not in anime_ids]\n",
    "    predict_anime_ids = pd.unique(predict_anime_ids)\n",
    "\n",
    "    print(\"Getting Predictions\")\n",
    "    # Generate and return predictions for all the anime\n",
    "    return finalprojutils.get_predictions(model_instance, -1, predict_anime_ids)\n",
    "\n",
    "def create_predictions_for_new_user(model_instance, base_train_df, anime_ids, ratings, print_top_25 = True):\n",
    "# No randomness between each fit\n",
    "    model_instance.random_state = 1\n",
    "\n",
    "    user_1_predictions = create_predictions_for_user(\n",
    "        model_instance,\n",
    "        base_train_df,\n",
    "        anime_ids,\n",
    "        ratings\n",
    "        )\n",
    "\n",
    "    # Print predictions\n",
    "    if print_top_25:\n",
    "        print(finalprojutils.get_top_n_string(user_1_predictions, 25, rid_to_name))"
   ]
  },
  {
   "cell_type": "code",
   "execution_count": 24,
   "id": "f4f8484d",
   "metadata": {},
   "outputs": [
    {
     "name": "stdout",
     "output_type": "stream",
     "text": [
      "Generating Anime IDs\n",
      "Getting Predictions\n",
      "Top 25 predicted scores\n",
      "1. GintamaÂ° (28977) - 9.1034\n",
      "2. Gintama': Enchousen (15417) - 9.0298\n",
      "3. Senki Zesshou Symphogear XV (32843) - 8.9798\n",
      "4. Gintama. (34096) - 8.9687\n",
      "5. Gintama (918) - 8.9195\n",
      "6. Gintama' (9969) - 8.9133\n",
      "7. Kizumonogatari III: Reiketsu-hen (31758) - 8.8943\n",
      "8. Mahou Shoujo Lyrical Nanoha: The Movie 2nd A's (10153) - 8.854\n",
      "9. Steins;Gate (9253) - 8.8516\n",
      "10. Seishun Buta Yarou wa Yumemiru Shoujo no Yume wo Minai (38329) - 8.8463\n",
      "11. Sora yori mo Tooi Basho (35839) - 8.8424\n",
      "12. Gintama Movie 2: Kanketsu-hen - Yorozuya yo Eien Nare (15335) - 8.8405\n",
      "13. Girls & Panzer Movie (18617) - 8.8375\n",
      "14. Gintama.: Shirogane no Tamashii-hen (36838) - 8.8098\n",
      "15. Aria the Origination (3297) - 8.7706\n",
      "16. Koe no Katachi (28851) - 8.7662\n",
      "17. JoJo no Kimyou na Bouken Part 5: Ougon no Kaze (37991) - 8.763\n",
      "18. Gintama Movie 1: Shinyaku Benizakura-hen (7472) - 8.7587\n",
      "19. 3-gatsu no Lion 2nd Season (35180) - 8.7545\n",
      "20. Owarimonogatari 2nd Season (35247) - 8.7515\n",
      "21. Shouwa Genroku Rakugo Shinjuu: Sukeroku Futatabi-hen (33095) - 8.7513\n",
      "22. Kaguya-sama wa Kokurasetai?: Tensai-tachi no Renai Zunousen (40591) - 8.7502\n",
      "23. Lupin III: Part 5 (35857) - 8.7268\n",
      "24. Violet Evergarden (33352) - 8.7258\n",
      "25. Tenki no Ko (38826) - 8.7254\n"
     ]
    }
   ],
   "source": [
    "# User 1 \n",
    "# Drama / romance\n",
    "user_1_anime_ids = [4224, 23273, 1723, 32281, 37450, 2167, 121]\n",
    "user_1_ratings = [10, 8, 9, 9, 10, 9, 4]\n",
    "\n",
    "create_predictions_for_new_user(svd_instance, ratings_sample, user_1_anime_ids, user_1_ratings)"
   ]
  },
  {
   "cell_type": "code",
   "execution_count": 25,
   "id": "c9d37128",
   "metadata": {},
   "outputs": [
    {
     "name": "stdout",
     "output_type": "stream",
     "text": [
      "Generating Anime IDs\n",
      "Getting Predictions\n",
      "Top 25 predicted scores\n",
      "1. GintamaÂ° (28977) - 9.7667\n",
      "2. Gintama. (34096) - 9.7477\n",
      "3. Gintama (918) - 9.6274\n",
      "4. Gintama' (9969) - 9.6076\n",
      "5. Hunter x Hunter (2011) (11061) - 9.601\n",
      "6. Kimi no Na wa. (32281) - 9.584\n",
      "7. Gintama': Enchousen (15417) - 9.5709\n",
      "8. Steins;Gate (9253) - 9.5395\n",
      "9. Gintama Movie 2: Kanketsu-hen - Yorozuya yo Eien Nare (15335) - 9.5273\n",
      "10. Haikyuu!!: Karasuno Koukou vs. Shiratorizawa Gakuen Koukou (32935) - 9.5271\n",
      "11. Fullmetal Alchemist: Brotherhood (5114) - 9.5253\n",
      "12. Ginga Eiyuu Densetsu (820) - 9.5236\n",
      "13. Shingeki no Kyojin Season 3 Part 2 (38524) - 9.5085\n",
      "14. 3-gatsu no Lion 2nd Season (35180) - 9.4938\n",
      "15. Senki Zesshou Symphogear XV (32843) - 9.4896\n",
      "16. Gintama.: Shirogane no Tamashii-hen - Kouhan-sen (37491) - 9.4891\n",
      "17. Mushishi Zoku Shou 2nd Season (24701) - 9.4807\n",
      "18. Mushishi (457) - 9.4795\n",
      "19. Haikyuu!! Second Season (28891) - 9.4596\n",
      "20. JoJo no Kimyou na Bouken Part 5: Ougon no Kaze (37991) - 9.4565\n",
      "21. Ashita no Joe 2 (2921) - 9.4304\n",
      "22. Tengen Toppa Gurren Lagann (2001) - 9.4291\n",
      "23. Gintama.: Shirogane no Tamashii-hen (36838) - 9.425\n",
      "24. Natsume Yuujinchou Roku (34591) - 9.4236\n",
      "25. JoJo no Kimyou na Bouken Part 4: Diamond wa Kudakenai (31933) - 9.4233\n"
     ]
    }
   ],
   "source": [
    "# User 2 \n",
    "# Action / Adventure\n",
    "user_2_anime_ids = [114, 31964, 32051, 34134, 38000]\n",
    "user_2_ratings = [9, 10, 8, 9, 9]\n",
    "\n",
    "create_predictions_for_new_user(svd_instance, ratings_sample, user_2_anime_ids, user_2_ratings)"
   ]
  },
  {
   "cell_type": "code",
   "execution_count": 26,
   "id": "f1bd1671",
   "metadata": {},
   "outputs": [
    {
     "name": "stdout",
     "output_type": "stream",
     "text": [
      "Generating Anime IDs\n",
      "Getting Predictions\n",
      "Top 25 predicted scores\n",
      "1. Ashita no Joe 2 (2921) - 8.2222\n",
      "2. Haibane Renmei (387) - 8.1765\n",
      "3. Mawaru Penguindrum (10721) - 7.9081\n",
      "4. Tengen Toppa Gurren Lagann (2001) - 7.8427\n",
      "5. Shouwa Genroku Rakugo Shinjuu: Sukeroku Futatabi-hen (33095) - 7.7889\n",
      "6. Senki Zesshou Symphogear XV (32843) - 7.7658\n",
      "7. Planetes (329) - 7.7622\n",
      "8. Natsume Yuujinchou Movie: Utsusemi ni Musubu (36538) - 7.7315\n",
      "9. Koukaku Kidoutai: Stand Alone Complex (467) - 7.727\n",
      "10. Aria the Origination (3297) - 7.7058\n",
      "11. Ginga Eiyuu Densetsu (820) - 7.6942\n",
      "12. Clannad: After Story (4181) - 7.687\n",
      "13. Mushishi Zoku Shou 2nd Season (24701) - 7.6655\n",
      "14. Maison Ikkoku (1453) - 7.6635\n",
      "15. Neon Genesis Evangelion (30) - 7.648\n",
      "16. Aria the OVA: Arietta (2563) - 7.6311\n",
      "17. Sarazanmai (37426) - 7.6181\n",
      "18. Uchuu Senkan Yamato 2199 (12029) - 7.6074\n",
      "19. Shinsekai yori (13125) - 7.6008\n",
      "20. Kino no Tabi: The Beautiful World (486) - 7.5992\n",
      "21. Gintama. (34096) - 7.5947\n",
      "22. Aria the Origination: Sono Choppiri Himitsu no Basho ni... (4772) - 7.5941\n",
      "23. Cowboy Bebop (1) - 7.5854\n",
      "24. Koukaku Kidoutai: Stand Alone Complex 2nd GIG (801) - 7.5636\n",
      "25. Kemono no Souja Erin (5420) - 7.5627\n"
     ]
    }
   ],
   "source": [
    "# User 3 \n",
    "# Boys Love\n",
    "user_3_anime_ids = [114, 31964, 32051, 34134, 38000, 39533, 30346, 44055, 918]\n",
    "user_3_ratings = [4, 5, 4, 6, 4, 10, 10, 9, 4]\n",
    "\n",
    "create_predictions_for_new_user(svd_instance, ratings_sample, user_3_anime_ids, user_3_ratings)"
   ]
  },
  {
   "attachments": {},
   "cell_type": "markdown",
   "id": "b3705a4c",
   "metadata": {},
   "source": [
    "#### Training/Predict Time With Scaling User Count"
   ]
  },
  {
   "cell_type": "code",
   "execution_count": 27,
   "id": "03e17181",
   "metadata": {},
   "outputs": [
    {
     "name": "stdout",
     "output_type": "stream",
     "text": [
      "Generating Anime IDs\n",
      "Getting Predictions\n",
      "Generating Anime IDs\n",
      "Getting Predictions\n",
      "Generating Anime IDs\n",
      "Getting Predictions\n",
      "Generating Anime IDs\n",
      "Getting Predictions\n",
      "Generating Anime IDs\n",
      "Getting Predictions\n",
      "Generating Anime IDs\n",
      "Getting Predictions\n",
      "Generating Anime IDs\n",
      "Getting Predictions\n",
      "Generating Anime IDs\n",
      "Getting Predictions\n",
      "Generating Anime IDs\n",
      "Getting Predictions\n"
     ]
    },
    {
     "data": {
      "image/png": "[encoded data removed]",
      "text/plain": [
       "<Figure size 640x480 with 1 Axes>"
      ]
     },
     "metadata": {},
     "output_type": "display_data"
    }
   ],
   "source": [
    "import time\n",
    "user_1_anime_ids = [4224, 23273, 1723, 32281, 37450, 2167, 121]\n",
    "user_1_ratings = [10, 8, 9, 9, 10, 9, 4]\n",
    "\n",
    "def plot_training_times(low, high, step, model_instance, anime_ids, ratings):\n",
    "    train_times = pd.DataFrame(columns = ['user_count', 'train_predict_time'])\n",
    "\n",
    "    for i in range(low, high, step):\n",
    "        test_ratings_sample = sample_n_user_ratings(ratings_df, i)\n",
    "        start = time.time()\n",
    "        create_predictions_for_new_user(model_instance, test_ratings_sample, anime_ids, ratings, False)\n",
    "        end = time.time()\n",
    "        elapsed = end - start\n",
    "        train_times.loc[len(train_times)] = [i, elapsed]\n",
    "        # print(f'sample of {i} users took {elapsed} seconds to train and predict a new user')\n",
    "\n",
    "    sns.lineplot(x='user_count', y='train_predict_time', data=train_times, markers='o')\n",
    "    plt.show()\n",
    "\n",
    "test_instance = SVD(lr_all = 0.01, n_factors = 100, reg_all = 0.1, n_epochs = 50)\n",
    "plot_training_times(500, 5000, 500, test_instance, user_1_anime_ids, user_1_ratings)"
   ]
  },
  {
   "attachments": {},
   "cell_type": "markdown",
   "id": "83648f46",
   "metadata": {},
   "source": [
    "## K-Nearest Neighbors (KNN)"
   ]
  },
  {
   "attachments": {},
   "cell_type": "markdown",
   "id": "9e358f13",
   "metadata": {},
   "source": [
    "#### Loading Sample into Dataset"
   ]
  },
  {
   "cell_type": "code",
   "execution_count": 28,
   "id": "733fbe83",
   "metadata": {},
   "outputs": [
    {
     "data": {
      "text/plain": [
       "<surprise.dataset.DatasetAutoFolds at 0x1f4816e0640>"
      ]
     },
     "execution_count": 28,
     "metadata": {},
     "output_type": "execute_result"
    }
   ],
   "source": [
    "reader = Reader(rating_scale=(1,10))\n",
    "knn_data = Dataset.load_from_df(ratings_sample, reader)\n",
    "knn_data"
   ]
  },
  {
   "attachments": {},
   "cell_type": "markdown",
   "id": "8c6f263b",
   "metadata": {},
   "source": [
    "#### KNN Basic"
   ]
  },
  {
   "cell_type": "code",
   "execution_count": 29,
   "id": "ffa04602",
   "metadata": {},
   "outputs": [
    {
     "name": "stdout",
     "output_type": "stream",
     "text": [
      "Computing the cosine similarity matrix...\n",
      "Done computing similarity matrix.\n",
      "Computing the cosine similarity matrix...\n",
      "Done computing similarity matrix.\n",
      "Computing the cosine similarity matrix...\n",
      "Done computing similarity matrix.\n",
      "Computing the cosine similarity matrix...\n",
      "Done computing similarity matrix.\n",
      "Computing the cosine similarity matrix...\n",
      "Done computing similarity matrix.\n",
      "Evaluating RMSE, MAE of algorithm KNNBasic on 5 split(s).\n",
      "\n",
      "                  Fold 1  Fold 2  Fold 3  Fold 4  Fold 5  Mean    Std     \n",
      "RMSE (testset)    1.5630  1.5512  1.5576  1.5619  1.5695  1.5606  0.0060  \n",
      "MAE (testset)     1.1929  1.1821  1.1850  1.1893  1.1919  1.1882  0.0041  \n",
      "Fit time          5.59    5.48    5.58    5.63    5.54    5.56    0.05    \n",
      "Test time         8.34    8.04    8.12    8.01    7.92    8.08    0.14    \n",
      "\n",
      "Average RMSE: 1.5606\n",
      "Average MAE: 1.1882\n"
     ]
    }
   ],
   "source": [
    "knn_basic_algo = KNNBasic(k=10, sim_options={'name': 'cosine', 'user_based': 'False'})\n",
    "\n",
    "cv_knn_basic = cross_validate(knn_basic_algo, knn_data, measures=['rmse', 'mae'], cv=5, verbose=True)\n",
    "cv_knn_basic\n",
    "\n",
    "avg_rmse_basic = np.mean(cv_knn_basic['test_rmse'])\n",
    "avg_mae_basic = np.mean(cv_knn_basic['test_mae'])\n",
    "print(\"\\nAverage RMSE:\", round(avg_rmse_basic, 4))\n",
    "print(\"Average MAE:\", round(avg_mae_basic, 4))"
   ]
  },
  {
   "attachments": {},
   "cell_type": "markdown",
   "id": "e062cce0",
   "metadata": {},
   "source": [
    "#### KNN Baseline"
   ]
  },
  {
   "cell_type": "code",
   "execution_count": 30,
   "id": "9a5032c5",
   "metadata": {},
   "outputs": [
    {
     "name": "stdout",
     "output_type": "stream",
     "text": [
      "Estimating biases using als...\n",
      "Computing the cosine similarity matrix...\n",
      "Done computing similarity matrix.\n",
      "Estimating biases using als...\n",
      "Computing the cosine similarity matrix...\n",
      "Done computing similarity matrix.\n",
      "Estimating biases using als...\n",
      "Computing the cosine similarity matrix...\n",
      "Done computing similarity matrix.\n",
      "Estimating biases using als...\n",
      "Computing the cosine similarity matrix...\n",
      "Done computing similarity matrix.\n",
      "Estimating biases using als...\n",
      "Computing the cosine similarity matrix...\n",
      "Done computing similarity matrix.\n",
      "Evaluating RMSE, MAE of algorithm KNNBaseline on 5 split(s).\n",
      "\n",
      "                  Fold 1  Fold 2  Fold 3  Fold 4  Fold 5  Mean    Std     \n",
      "RMSE (testset)    1.2650  1.2679  1.2620  1.2673  1.2618  1.2648  0.0025  \n",
      "MAE (testset)     0.9523  0.9569  0.9467  0.9560  0.9499  0.9524  0.0038  \n",
      "Fit time          6.09    6.01    6.61    6.06    6.00    6.16    0.23    \n",
      "Test time         8.55    9.59    8.87    8.64    8.86    8.90    0.37    \n",
      "\n",
      "Average RMSE: 1.2648\n",
      "Average MAE: 0.9524\n"
     ]
    }
   ],
   "source": [
    "knn_baseline_algo = KNNBaseline(k=10, sim_options={'name': 'cosine', 'user_based': 'False'})\n",
    "\n",
    "cv_knn_baseline = cross_validate(knn_baseline_algo, knn_data, measures=['rmse', 'mae'], cv=5, verbose=True)\n",
    "cv_knn_baseline\n",
    "\n",
    "avg_rmse_baseline = np.mean(cv_knn_baseline['test_rmse'])\n",
    "avg_mae_baseline = np.mean(cv_knn_baseline['test_mae'])\n",
    "print(\"\\nAverage RMSE:\", round(avg_rmse_baseline, 4))\n",
    "print(\"Average MAE:\", round(avg_mae_baseline, 4))"
   ]
  },
  {
   "attachments": {},
   "cell_type": "markdown",
   "id": "ead46986",
   "metadata": {},
   "source": [
    "#### KNN With Means"
   ]
  },
  {
   "cell_type": "code",
   "execution_count": 31,
   "id": "48af2870",
   "metadata": {},
   "outputs": [
    {
     "name": "stdout",
     "output_type": "stream",
     "text": [
      "Computing the cosine similarity matrix...\n",
      "Done computing similarity matrix.\n",
      "Computing the cosine similarity matrix...\n",
      "Done computing similarity matrix.\n",
      "Computing the cosine similarity matrix...\n",
      "Done computing similarity matrix.\n",
      "Computing the cosine similarity matrix...\n",
      "Done computing similarity matrix.\n",
      "Computing the cosine similarity matrix...\n",
      "Done computing similarity matrix.\n",
      "Evaluating RMSE, MAE of algorithm KNNWithMeans on 5 split(s).\n",
      "\n",
      "                  Fold 1  Fold 2  Fold 3  Fold 4  Fold 5  Mean    Std     \n",
      "RMSE (testset)    1.3105  1.3105  1.3106  1.3007  1.3055  1.3076  0.0039  \n",
      "MAE (testset)     0.9969  0.9933  0.9953  0.9905  0.9948  0.9942  0.0022  \n",
      "Fit time          5.97    6.56    5.66    6.05    5.70    5.99    0.32    \n",
      "Test time         9.25    8.62    8.39    8.22    9.02    8.70    0.39    \n",
      "\n",
      "Average RMSE: 1.3076\n",
      "Average MAE: 0.9942\n"
     ]
    }
   ],
   "source": [
    "knn_means_algo = KNNWithMeans(k=10, sim_options={'name': 'cosine', 'user_based': 'False'})\n",
    "\n",
    "cv_knn_means = cross_validate(knn_means_algo, knn_data, measures=['rmse', 'mae'], cv=5, verbose=True)\n",
    "cv_knn_means\n",
    "\n",
    "avg_rmse_means = np.mean(cv_knn_means['test_rmse'])\n",
    "avg_mae_means = np.mean(cv_knn_means['test_mae'])\n",
    "print(\"\\nAverage RMSE:\", round(avg_rmse_means, 4))\n",
    "print(\"Average MAE:\", round(avg_mae_means, 4))"
   ]
  },
  {
   "attachments": {},
   "cell_type": "markdown",
   "id": "a5a1b6ab",
   "metadata": {},
   "source": [
    "#### Best KNN Model"
   ]
  },
  {
   "cell_type": "code",
   "execution_count": 32,
   "id": "e95fa601",
   "metadata": {},
   "outputs": [
    {
     "name": "stdout",
     "output_type": "stream",
     "text": [
      "Best KNN Algorithm: KNN Baseline\n",
      "Best Average RMSE: 1.2648\n",
      "Best Average MAE: 0.9524\n"
     ]
    },
    {
     "data": {
      "text/html": [
       "<div>\n",
       "<style scoped>\n",
       "    .dataframe tbody tr th:only-of-type {\n",
       "        vertical-align: middle;\n",
       "    }\n",
       "\n",
       "    .dataframe tbody tr th {\n",
       "        vertical-align: top;\n",
       "    }\n",
       "\n",
       "    .dataframe thead th {\n",
       "        text-align: right;\n",
       "    }\n",
       "</style>\n",
       "<table border=\"1\" class=\"dataframe\">\n",
       "  <thead>\n",
       "    <tr style=\"text-align: right;\">\n",
       "      <th></th>\n",
       "      <th>KNN Basic</th>\n",
       "      <th>KNN Baseline</th>\n",
       "      <th>KNN With Means</th>\n",
       "    </tr>\n",
       "  </thead>\n",
       "  <tbody>\n",
       "    <tr>\n",
       "      <th>Average RMSE</th>\n",
       "      <td>1.560643</td>\n",
       "      <td>1.264786</td>\n",
       "      <td>1.307557</td>\n",
       "    </tr>\n",
       "    <tr>\n",
       "      <th>Average MAE</th>\n",
       "      <td>1.188233</td>\n",
       "      <td>0.952398</td>\n",
       "      <td>0.994161</td>\n",
       "    </tr>\n",
       "  </tbody>\n",
       "</table>\n",
       "</div>"
      ],
      "text/plain": [
       "              KNN Basic  KNN Baseline  KNN With Means\n",
       "Average RMSE   1.560643      1.264786        1.307557\n",
       "Average MAE    1.188233      0.952398        0.994161"
      ]
     },
     "execution_count": 32,
     "metadata": {},
     "output_type": "execute_result"
    }
   ],
   "source": [
    "best_knn_algo = None\n",
    "best_knn_rmse = np.min([avg_rmse_basic, avg_rmse_baseline, avg_rmse_means])\n",
    "best_knn_mae = np.min([avg_mae_basic, avg_mae_baseline, avg_mae_means])\n",
    "best_algo_type = \"\"\n",
    "\n",
    "if best_knn_rmse == avg_rmse_basic:\n",
    "    best_algo_type = \"KNN Basic\"\n",
    "    best_knn_algo = knn_basic_algo\n",
    "elif best_knn_rmse == avg_rmse_baseline:\n",
    "    best_algo_type = \"KNN Baseline\"\n",
    "    best_knn_algo = knn_baseline_algo\n",
    "else:\n",
    "    best_algo_type = \"KNN With Means\"\n",
    "    best_knn_algo = knn_means_algo\n",
    "\n",
    "print(\"Best KNN Algorithm:\", best_algo_type)\n",
    "print(\"Best Average RMSE:\", round(best_knn_rmse, 4))\n",
    "print(\"Best Average MAE:\", round(best_knn_mae, 4))\n",
    "\n",
    "knn_rmses_df = pd.DataFrame({'KNN Basic': [avg_rmse_basic, avg_mae_basic],\n",
    "                             'KNN Baseline': [avg_rmse_baseline, avg_mae_baseline],\n",
    "                             'KNN With Means': [avg_rmse_means, avg_mae_means]})\n",
    "knn_rmses_df.index = ['Average RMSE', 'Average MAE']\n",
    "knn_rmses_df"
   ]
  },
  {
   "attachments": {},
   "cell_type": "markdown",
   "id": "867b9330",
   "metadata": {},
   "source": [
    "#### Recommendations with KNN"
   ]
  },
  {
   "cell_type": "code",
   "execution_count": 34,
   "id": "a7f8f035",
   "metadata": {},
   "outputs": [
    {
     "name": "stdout",
     "output_type": "stream",
     "text": [
      "The 10 nearest neighbors of Cowboy Bebop are:\n",
      "Charlotte\n",
      "Tekken: Blood Vengeance\n",
      "Yuri!!! on Ice\n",
      "ACCA: 13-ku Kansatsu-ka\n",
      "Angel Beats!\n",
      "Inu to Hasami wa Tsukaiyou\n",
      "Fullmetal Alchemist: Brotherhood Specials\n",
      "Denpa Kyoushi (TV)\n",
      "Yami to Boushi to Hon no Tabibito\n",
      "Aki-Sora\n"
     ]
    }
   ],
   "source": [
    "# model input is a single anime, output is k nearest animes\n",
    "anime_name = \"Cowboy Bebop\"\n",
    "\n",
    "# anime name must be mapped to id for model\n",
    "anime_raw_id = int(name_to_rid[anime_name.lower()])\n",
    "anime_inner_id = best_knn_algo.trainset.to_inner_iid(anime_raw_id)\n",
    "\n",
    "anime_neighbors = best_knn_algo.get_neighbors(anime_inner_id, k=10)\n",
    "\n",
    "# print recommendations\n",
    "print(\"The 10 nearest neighbors of\", anime_name, \"are:\")\n",
    "for inner_id in anime_neighbors:\n",
    "    print(rid_to_name[str(best_knn_algo.trainset.to_raw_iid(inner_id))])"
   ]
  },
  {
   "attachments": {},
   "cell_type": "markdown",
   "id": "36b4778b",
   "metadata": {},
   "source": [
    "## Exported Models for Front-end"
   ]
  },
  {
   "cell_type": "code",
   "execution_count": 35,
   "id": "863622d3",
   "metadata": {},
   "outputs": [],
   "source": [
    "import pickle\n",
    "\n",
    "pickle.dump(best_knn_algo, open('knn_model.pkl','wb'))\n",
    "pickle.dump(svd_instance, open('svd_model.pkl','wb'))"
   ]
  }
 ],
 "metadata": {
  "kernelspec": {
   "display_name": "Python 3 (ipykernel)",
   "language": "python",
   "name": "python3"
  },
  "language_info": {
   "codemirror_mode": {
    "name": "ipython",
    "version": 3
   },
   "file_extension": ".py",
   "mimetype": "text/x-python",
   "name": "python",
   "nbconvert_exporter": "python",
   "pygments_lexer": "ipython3",
   "version": "3.9.13"
  }
 },
 "nbformat": 4,
 "nbformat_minor": 5
}
