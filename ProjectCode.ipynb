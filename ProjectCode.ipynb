{
 "cells": [
  {
   "attachments": {},
   "cell_type": "markdown",
   "id": "3975cfe6",
   "metadata": {},
   "source": [
    "# Anime Recommendation System Project"
   ]
  },
  {
   "attachments": {},
   "cell_type": "markdown",
   "id": "293017f2",
   "metadata": {},
   "source": [
    "## Imported Libraries"
   ]
  },
  {
   "cell_type": "code",
   "execution_count": 26,
   "id": "95126b08",
   "metadata": {},
   "outputs": [],
   "source": [
    "import numpy as np\n",
    "import pandas as pd\n",
    "\n",
    "import matplotlib.pyplot as plt\n",
    "%matplotlib inline\n",
    "import seaborn as sns\n",
    "\n",
    "import random\n",
    "from random import randint"
   ]
  },
  {
   "cell_type": "code",
   "execution_count": null,
   "id": "f3130890",
   "metadata": {},
   "outputs": [],
   "source": [
    "import scipy.sparse as sparse\n",
    "from scipy.sparse.linalg import spsolve\n",
    "#from sklearn.preprocessing import MinMaxScalerort sklearn as skl\n",
    "\n",
    "from scipy.sparse import csc_matrix\n",
    "from scipy.sparse.linalg import svds"
   ]
  },
  {
   "cell_type": "code",
   "execution_count": 1,
   "id": "6365d15d",
   "metadata": {},
   "outputs": [],
   "source": [
    "\n",
    "from surprise.model_selection import train_test_split\n",
    "from surprise.model_selection import GridSearchCV\n",
    "from surprise.model_selection import cross_validate\n",
    "from surprise.prediction_algorithms import KNNWithMeans, KNNBasic, KNNBaseline\n",
    "from surprise.prediction_algorithms import knns\n",
    "from surprise.prediction_algorithms import SVD\n",
    "from surprise.similarities import cosine, msd, pearson\n",
    "from surprise import accuracy\n",
    "from surprise import Reader\n",
    "from surprise import Dataset"
   ]
  },
  {
   "cell_type": "code",
   "execution_count": null,
   "id": "fb692f58",
   "metadata": {},
   "outputs": [],
   "source": [
    "\n",
    "from pyspark import SparkContext\n",
    "from pyspark.ml.recommendation import ALS\n",
    "from pyspark.sql import SparkSession ,Row\n",
    "from pyspark.sql.functions import col\n",
    "from pyspark.sql import SQLContext\n",
    "from pyspark.ml.feature import StringIndexer\n",
    "from pyspark.ml import Pipeline\n",
    "from pyspark.ml.evaluation import RegressionEvaluator\n",
    "from pyspark.sql.types import StructType,StructField,IntegerType\n",
    "\n",
    "from pyspark.ml.recommendation import ALS"
   ]
  },
  {
   "attachments": {},
   "cell_type": "markdown",
   "id": "12b92884",
   "metadata": {},
   "source": [
    "## Datasets"
   ]
  },
  {
   "attachments": {},
   "cell_type": "markdown",
   "id": "834d8b2d",
   "metadata": {},
   "source": [
    "#### Main Anime Dataset (anime.csv)"
   ]
  },
  {
   "cell_type": "code",
   "execution_count": 4,
   "id": "5214f766",
   "metadata": {},
   "outputs": [],
   "source": [
    "anime_main = pd.read_csv(\"data/anime.csv\")"
   ]
  },
  {
   "attachments": {},
   "cell_type": "markdown",
   "id": "f7068e1f",
   "metadata": {},
   "source": [
    "#### Anime Ratings Dataset (rating_complete.csv)"
   ]
  },
  {
   "cell_type": "code",
   "execution_count": 5,
   "id": "30fc7799",
   "metadata": {},
   "outputs": [],
   "source": [
    "anime_ratings = pd.read_csv(\"data/rating_complete.csv\")"
   ]
  },
  {
   "cell_type": "code",
   "execution_count": null,
   "id": "331a61ea",
   "metadata": {},
   "outputs": [],
   "source": [
    "print(anime_main.shape)\n",
    "print(anime_main.columns.unique())\n",
    "anime_main.head()"
   ]
  },
  {
   "cell_type": "code",
   "execution_count": null,
   "id": "e69a94be",
   "metadata": {},
   "outputs": [],
   "source": [
    "print(anime_ratings.shape)\n",
    "print(anime_ratings.columns.unique())\n",
    "anime_ratings.head()"
   ]
  },
  {
   "attachments": {},
   "cell_type": "markdown",
   "id": "2f7eb822",
   "metadata": {},
   "source": [
    "## Dataset Cleaning and Merging"
   ]
  },
  {
   "cell_type": "code",
   "execution_count": 6,
   "id": "e70a5364",
   "metadata": {},
   "outputs": [
    {
     "name": "stdout",
     "output_type": "stream",
     "text": [
      "(17562, 6)\n",
      "Index(['MAL_ID', 'Name', 'Score', 'Genres', 'Type', 'Episodes'], dtype='object')\n"
     ]
    },
    {
     "data": {
      "text/html": [
       "<div>\n",
       "<style scoped>\n",
       "    .dataframe tbody tr th:only-of-type {\n",
       "        vertical-align: middle;\n",
       "    }\n",
       "\n",
       "    .dataframe tbody tr th {\n",
       "        vertical-align: top;\n",
       "    }\n",
       "\n",
       "    .dataframe thead th {\n",
       "        text-align: right;\n",
       "    }\n",
       "</style>\n",
       "<table border=\"1\" class=\"dataframe\">\n",
       "  <thead>\n",
       "    <tr style=\"text-align: right;\">\n",
       "      <th></th>\n",
       "      <th>MAL_ID</th>\n",
       "      <th>Name</th>\n",
       "      <th>Score</th>\n",
       "      <th>Genres</th>\n",
       "      <th>Type</th>\n",
       "      <th>Episodes</th>\n",
       "    </tr>\n",
       "  </thead>\n",
       "  <tbody>\n",
       "    <tr>\n",
       "      <th>0</th>\n",
       "      <td>1</td>\n",
       "      <td>Cowboy Bebop</td>\n",
       "      <td>8.78</td>\n",
       "      <td>Action, Adventure, Comedy, Drama, Sci-Fi, Space</td>\n",
       "      <td>TV</td>\n",
       "      <td>26</td>\n",
       "    </tr>\n",
       "    <tr>\n",
       "      <th>1</th>\n",
       "      <td>5</td>\n",
       "      <td>Cowboy Bebop: Tengoku no Tobira</td>\n",
       "      <td>8.39</td>\n",
       "      <td>Action, Drama, Mystery, Sci-Fi, Space</td>\n",
       "      <td>Movie</td>\n",
       "      <td>1</td>\n",
       "    </tr>\n",
       "    <tr>\n",
       "      <th>2</th>\n",
       "      <td>6</td>\n",
       "      <td>Trigun</td>\n",
       "      <td>8.24</td>\n",
       "      <td>Action, Sci-Fi, Adventure, Comedy, Drama, Shounen</td>\n",
       "      <td>TV</td>\n",
       "      <td>26</td>\n",
       "    </tr>\n",
       "    <tr>\n",
       "      <th>3</th>\n",
       "      <td>7</td>\n",
       "      <td>Witch Hunter Robin</td>\n",
       "      <td>7.27</td>\n",
       "      <td>Action, Mystery, Police, Supernatural, Drama, ...</td>\n",
       "      <td>TV</td>\n",
       "      <td>26</td>\n",
       "    </tr>\n",
       "    <tr>\n",
       "      <th>4</th>\n",
       "      <td>8</td>\n",
       "      <td>Bouken Ou Beet</td>\n",
       "      <td>6.98</td>\n",
       "      <td>Adventure, Fantasy, Shounen, Supernatural</td>\n",
       "      <td>TV</td>\n",
       "      <td>52</td>\n",
       "    </tr>\n",
       "  </tbody>\n",
       "</table>\n",
       "</div>"
      ],
      "text/plain": [
       "   MAL_ID                             Name Score  \\\n",
       "0       1                     Cowboy Bebop  8.78   \n",
       "1       5  Cowboy Bebop: Tengoku no Tobira  8.39   \n",
       "2       6                           Trigun  8.24   \n",
       "3       7               Witch Hunter Robin  7.27   \n",
       "4       8                   Bouken Ou Beet  6.98   \n",
       "\n",
       "                                              Genres   Type Episodes  \n",
       "0    Action, Adventure, Comedy, Drama, Sci-Fi, Space     TV       26  \n",
       "1              Action, Drama, Mystery, Sci-Fi, Space  Movie        1  \n",
       "2  Action, Sci-Fi, Adventure, Comedy, Drama, Shounen     TV       26  \n",
       "3  Action, Mystery, Police, Supernatural, Drama, ...     TV       26  \n",
       "4          Adventure, Fantasy, Shounen, Supernatural     TV       52  "
      ]
     },
     "execution_count": 6,
     "metadata": {},
     "output_type": "execute_result"
    }
   ],
   "source": [
    "# Clean main anime dataset and keep necessary features\n",
    "anime_main = anime_main[['MAL_ID', 'Name', 'Score', 'Genres', 'Type', 'Episodes']]\n",
    "anime_main.dropna(inplace=True)\n",
    "\n",
    "print(anime_main.shape)\n",
    "print(anime_main.columns)\n",
    "anime_main.head()"
   ]
  },
  {
   "cell_type": "code",
   "execution_count": 7,
   "id": "bda1f5b6",
   "metadata": {},
   "outputs": [],
   "source": [
    "# Rename columns and merge datasets\n",
    "anime_main = anime_main.rename(columns={'MAL_ID': 'Anime ID'})\n",
    "anime_ratings = anime_ratings.rename(columns={'user_id': 'User ID', 'anime_id': 'Anime ID', 'rating': 'Rating'})\n",
    "anime_df = pd.merge(anime_main, anime_ratings, on='Anime ID')"
   ]
  },
  {
   "cell_type": "code",
   "execution_count": null,
   "id": "a3777f19",
   "metadata": {},
   "outputs": [],
   "source": [
    "print(anime_df.shape)\n",
    "print(anime_df.columns)\n",
    "anime_df.head()"
   ]
  },
  {
   "attachments": {},
   "cell_type": "markdown",
   "id": "0a7a4051",
   "metadata": {},
   "source": [
    "### Sampling User Data"
   ]
  },
  {
   "cell_type": "code",
   "execution_count": 16,
   "id": "edb9eecd",
   "metadata": {},
   "outputs": [
    {
     "data": {
      "text/html": [
       "<div>\n",
       "<style scoped>\n",
       "    .dataframe tbody tr th:only-of-type {\n",
       "        vertical-align: middle;\n",
       "    }\n",
       "\n",
       "    .dataframe tbody tr th {\n",
       "        vertical-align: top;\n",
       "    }\n",
       "\n",
       "    .dataframe thead th {\n",
       "        text-align: right;\n",
       "    }\n",
       "</style>\n",
       "<table border=\"1\" class=\"dataframe\">\n",
       "  <thead>\n",
       "    <tr style=\"text-align: right;\">\n",
       "      <th></th>\n",
       "      <th>Anime ID</th>\n",
       "      <th>Name</th>\n",
       "      <th>Score</th>\n",
       "      <th>Genres</th>\n",
       "      <th>Type</th>\n",
       "      <th>Episodes</th>\n",
       "      <th>User ID</th>\n",
       "      <th>Rating</th>\n",
       "    </tr>\n",
       "  </thead>\n",
       "  <tbody>\n",
       "    <tr>\n",
       "      <th>0</th>\n",
       "      <td>1</td>\n",
       "      <td>Cowboy Bebop</td>\n",
       "      <td>8.78</td>\n",
       "      <td>Action, Adventure, Comedy, Drama, Sci-Fi, Space</td>\n",
       "      <td>TV</td>\n",
       "      <td>26</td>\n",
       "      <td>3</td>\n",
       "      <td>9</td>\n",
       "    </tr>\n",
       "    <tr>\n",
       "      <th>1</th>\n",
       "      <td>1</td>\n",
       "      <td>Cowboy Bebop</td>\n",
       "      <td>8.78</td>\n",
       "      <td>Action, Adventure, Comedy, Drama, Sci-Fi, Space</td>\n",
       "      <td>TV</td>\n",
       "      <td>26</td>\n",
       "      <td>6</td>\n",
       "      <td>6</td>\n",
       "    </tr>\n",
       "    <tr>\n",
       "      <th>2</th>\n",
       "      <td>1</td>\n",
       "      <td>Cowboy Bebop</td>\n",
       "      <td>8.78</td>\n",
       "      <td>Action, Adventure, Comedy, Drama, Sci-Fi, Space</td>\n",
       "      <td>TV</td>\n",
       "      <td>26</td>\n",
       "      <td>14</td>\n",
       "      <td>9</td>\n",
       "    </tr>\n",
       "    <tr>\n",
       "      <th>3</th>\n",
       "      <td>1</td>\n",
       "      <td>Cowboy Bebop</td>\n",
       "      <td>8.78</td>\n",
       "      <td>Action, Adventure, Comedy, Drama, Sci-Fi, Space</td>\n",
       "      <td>TV</td>\n",
       "      <td>26</td>\n",
       "      <td>19</td>\n",
       "      <td>8</td>\n",
       "    </tr>\n",
       "    <tr>\n",
       "      <th>4</th>\n",
       "      <td>1</td>\n",
       "      <td>Cowboy Bebop</td>\n",
       "      <td>8.78</td>\n",
       "      <td>Action, Adventure, Comedy, Drama, Sci-Fi, Space</td>\n",
       "      <td>TV</td>\n",
       "      <td>26</td>\n",
       "      <td>22</td>\n",
       "      <td>9</td>\n",
       "    </tr>\n",
       "  </tbody>\n",
       "</table>\n",
       "</div>"
      ],
      "text/plain": [
       "   Anime ID          Name Score  \\\n",
       "0         1  Cowboy Bebop  8.78   \n",
       "1         1  Cowboy Bebop  8.78   \n",
       "2         1  Cowboy Bebop  8.78   \n",
       "3         1  Cowboy Bebop  8.78   \n",
       "4         1  Cowboy Bebop  8.78   \n",
       "\n",
       "                                            Genres Type Episodes  User ID  \\\n",
       "0  Action, Adventure, Comedy, Drama, Sci-Fi, Space   TV       26        3   \n",
       "1  Action, Adventure, Comedy, Drama, Sci-Fi, Space   TV       26        6   \n",
       "2  Action, Adventure, Comedy, Drama, Sci-Fi, Space   TV       26       14   \n",
       "3  Action, Adventure, Comedy, Drama, Sci-Fi, Space   TV       26       19   \n",
       "4  Action, Adventure, Comedy, Drama, Sci-Fi, Space   TV       26       22   \n",
       "\n",
       "   Rating  \n",
       "0       9  \n",
       "1       6  \n",
       "2       9  \n",
       "3       8  \n",
       "4       9  "
      ]
     },
     "execution_count": 16,
     "metadata": {},
     "output_type": "execute_result"
    }
   ],
   "source": [
    "anime_df.head(5)"
   ]
  },
  {
   "attachments": {},
   "cell_type": "markdown",
   "id": "b34225c4",
   "metadata": {},
   "source": [
    "CSV for mapping Name to ID (app.py use)"
   ]
  },
  {
   "cell_type": "code",
   "execution_count": 8,
   "id": "fc1b9589",
   "metadata": {},
   "outputs": [],
   "source": [
    "# Create csv for mapping name to ID\n",
    "animeName_id_df = anime_main[['Anime ID', 'Name']]\n",
    "animeName_id_df.to_csv('data/id_to_name.csv', index=False)"
   ]
  },
  {
   "attachments": {},
   "cell_type": "markdown",
   "id": "fad0cbd6",
   "metadata": {},
   "source": [
    "## Data Visualizations"
   ]
  },
  {
   "cell_type": "code",
   "execution_count": null,
   "id": "8e36404c",
   "metadata": {},
   "outputs": [],
   "source": [
    "sns.countplot(x='Type', data=anime_main, color='cyan')"
   ]
  },
  {
   "attachments": {},
   "cell_type": "markdown",
   "id": "452bdeaf",
   "metadata": {},
   "source": [
    "OVA = Original Video Animation, ONA = Original Net Animation"
   ]
  },
  {
   "cell_type": "code",
   "execution_count": null,
   "id": "0a999960",
   "metadata": {},
   "outputs": [],
   "source": [
    "sns.countplot(x='Rating', data=anime_ratings, color='red')"
   ]
  },
  {
   "cell_type": "code",
   "execution_count": 10,
   "id": "c5ed40b9",
   "metadata": {},
   "outputs": [
    {
     "data": {
      "text/plain": [
       "array(['Action', 'Adventure', 'Comedy', 'Slice of Life', 'Drama',\n",
       "       'Sci-Fi', 'Samurai', 'Game', 'Harem', 'Military', 'Space', 'Music',\n",
       "       'Mecha', 'Supernatural', 'Historical', 'Mystery', 'School',\n",
       "       'Hentai', 'Fantasy', 'Ecchi', 'Horror', 'Kids', 'Sports',\n",
       "       'Dementia', 'Magic', 'Romance', 'Police', 'Psychological', 'Cars',\n",
       "       'Shounen', 'Demons', 'Parody', 'Shoujo', 'Super Power', 'Vampire',\n",
       "       'Martial Arts', 'Seinen', 'Yaoi', 'Thriller', 'Josei', 'Unknown',\n",
       "       'Shounen Ai', ' Adventure', ' Drama', ' Sci-Fi', ' Mystery',\n",
       "       ' Fantasy', ' Sports', ' Comedy', ' Cars', ' Horror', ' Shounen',\n",
       "       ' Romance', ' Supernatural', ' Military', ' Mecha', ' Dementia',\n",
       "       ' Historical', ' Magic', ' Slice of Life', ' Demons', ' Harem',\n",
       "       ' School', ' Ecchi', ' Psychological', ' Game', ' Super Power',\n",
       "       ' Hentai', None, ' Parody', ' Music', ' Space', ' Shoujo',\n",
       "       ' Josei', ' Seinen', ' Samurai', ' Martial Arts', ' Police',\n",
       "       ' Kids', ' Shounen Ai', ' Yaoi', ' Yuri', ' Vampire', ' Shoujo Ai',\n",
       "       ' Thriller', ' Romdokance'], dtype=object)"
      ]
     },
     "execution_count": 10,
     "metadata": {},
     "output_type": "execute_result"
    }
   ],
   "source": [
    "# unique Genre values\n",
    "genres = anime_main['Genres']\n",
    "genres = pd.DataFrame([sub.split(\",\") for sub in genres])\n",
    "pd.unique(genres.values.ravel('K'))"
   ]
  },
  {
   "cell_type": "code",
   "execution_count": 11,
   "id": "b872c30d",
   "metadata": {},
   "outputs": [],
   "source": [
    "# Create ID to name dictionary\n",
    "def read_item_names():\n",
    "    file_name = \"data/anime.csv\"\n",
    "    rid_to_name = {}\n",
    "    name_to_rid = {}\n",
    "    with open(file_name, encoding=\"ISO-8859-1\") as f:\n",
    "        # skip header line\n",
    "        next(f)\n",
    "        for line in f:\n",
    "            line = line.split(\",\")\n",
    "            rid_to_name[line[0]] = line[1]\n",
    "            name_to_rid[line[1]] = line[0]\n",
    "\n",
    "    return rid_to_name, name_to_rid\n",
    "\n",
    "rid_to_name, name_to_rid = read_item_names()"
   ]
  },
  {
   "cell_type": "code",
   "execution_count": 180,
   "id": "9af8939a",
   "metadata": {},
   "outputs": [],
   "source": [
    "# From a dataframe sample all the ratings from N random users, using 'User ID'\n",
    "def sample_n_user_ratings(source_df, n):\n",
    "    users = source_df['User ID'].unique()\n",
    "    user_id_set = set(np.random.choice(users, size=n, replace=False))\n",
    "\n",
    "    result_df = source_df[source_df['User ID'].isin(user_id_set)].copy()\n",
    "    \n",
    "    return result_df\n"
   ]
  },
  {
   "attachments": {},
   "cell_type": "markdown",
   "id": "7bec2aff",
   "metadata": {},
   "source": [
    "## Grid Search / SVD"
   ]
  },
  {
   "attachments": {},
   "cell_type": "markdown",
   "id": "4b4af08e",
   "metadata": {},
   "source": [
    "Data Setup"
   ]
  },
  {
   "cell_type": "code",
   "execution_count": 187,
   "id": "9e8c0540",
   "metadata": {},
   "outputs": [],
   "source": [
    "# Sample subset of data\n",
    "svd_anime_sample = sample_n_user_ratings(anime_df,2000)\n",
    "svd_anime_sample = svd_anime_sample[['User ID', 'Anime ID', 'Rating']]"
   ]
  },
  {
   "cell_type": "code",
   "execution_count": 192,
   "id": "30be396a",
   "metadata": {},
   "outputs": [
    {
     "name": "stdout",
     "output_type": "stream",
     "text": [
      "2000\n"
     ]
    }
   ],
   "source": [
    "print(len(svd_anime_sample['User ID'].unique()))"
   ]
  },
  {
   "cell_type": "code",
   "execution_count": 189,
   "id": "b2e964a3",
   "metadata": {},
   "outputs": [],
   "source": [
    "def create_dataset_from_df(df):\n",
    "    reader = Reader(rating_scale=(1,10))\n",
    "    return Dataset.load_from_df(df, reader)\n",
    "\n",
    "# Read into Suprise dataset\n",
    "svd_ratings_dataset =create_dataset_from_df(svd_anime_sample)"
   ]
  },
  {
   "attachments": {},
   "cell_type": "markdown",
   "id": "42a59f52",
   "metadata": {},
   "source": [
    "Grid Search"
   ]
  },
  {
   "cell_type": "code",
   "execution_count": 190,
   "id": "50c3c52a",
   "metadata": {},
   "outputs": [
    {
     "name": "stderr",
     "output_type": "stream",
     "text": [
      "[Parallel(n_jobs=-1)]: Using backend LokyBackend with 8 concurrent workers.\n",
      "[Parallel(n_jobs=-1)]: Done  16 tasks      | elapsed:  1.1min\n"
     ]
    },
    {
     "name": "stdout",
     "output_type": "stream",
     "text": [
      "{'rmse': 1.1753345956191472, 'mae': 0.8876457991623241}\n",
      "{'rmse': {'lr_all': 0.01, 'n_factors': 100, 'reg_all': 0.1, 'n_epochs': 50}, 'mae': {'lr_all': 0.01, 'n_factors': 100, 'reg_all': 0.1, 'n_epochs': 50}}\n"
     ]
    },
    {
     "name": "stderr",
     "output_type": "stream",
     "text": [
      "[Parallel(n_jobs=-1)]: Done  45 out of  45 | elapsed:  3.7min finished\n"
     ]
    }
   ],
   "source": [
    "# Grid search for optimal hyperparameters\n",
    "param_grid = {\n",
    "    'lr_all' : [.01],\n",
    "    'n_factors' : [50, 75, 100],\n",
    "    'reg_all': [.1],\n",
    "    'n_epochs' : [50, 100, 150]\n",
    "}\n",
    "gridsearch_svd = GridSearchCV(\n",
    "    SVD, \n",
    "    param_grid = param_grid, \n",
    "    n_jobs = -1, \n",
    "    joblib_verbose = 3)\n",
    "\n",
    "gridsearch_svd.fit(svd_ratings_dataset)\n",
    "\n",
    "print(gridsearch_svd.best_score)\n",
    "print(gridsearch_svd.best_params)\n"
   ]
  },
  {
   "attachments": {},
   "cell_type": "markdown",
   "id": "d25117fd",
   "metadata": {},
   "source": [
    "Training Model Instance"
   ]
  },
  {
   "cell_type": "code",
   "execution_count": 194,
   "id": "01aacd8b",
   "metadata": {},
   "outputs": [],
   "source": [
    "# Create model instance from grid search optimal hyperparameters\n",
    "svd_instance = gridsearch_svd.best_estimator[\"rmse\"]\n",
    "# Print Params\n",
    "# print(svd_instance.__dict__)"
   ]
  },
  {
   "attachments": {},
   "cell_type": "markdown",
   "id": "7a779bcb",
   "metadata": {},
   "source": [
    "Basic SVD Rating Prediction Recommendation System"
   ]
  },
  {
   "cell_type": "code",
   "execution_count": 34,
   "id": "5bb276c8",
   "metadata": {},
   "outputs": [],
   "source": [
    "# Appends a new user to the df for refitting and predicting\n",
    "# We need to do this because suprise does not support iterative training with SVD\n",
    "def create_predict_dataset(base_df, anime_ids, ratings):\n",
    "    predictor_df = base_df.copy()\n",
    "    for i in range(len(anime_ids)):\n",
    "        predictor_df.loc[len(predictor_df)] = [-1,anime_ids[i], ratings[i]]\n",
    "    \n",
    "    return create_dataset_from_df(predictor_df)\n"
   ]
  },
  {
   "cell_type": "code",
   "execution_count": 35,
   "id": "99bbf481",
   "metadata": {},
   "outputs": [],
   "source": [
    "\n",
    "# Displays predictions for some user ID\n",
    "# TODO: Should display name of anime\n",
    "def show_predictions(model_instance, user_id, anime_ids, ratings_df):\n",
    "    for anime_id in anime_ids:\n",
    "        condition = (ratings_df['User ID'] == user_id) & (ratings_df['Anime ID'] == anime_id)\n",
    "        model_instance.predict(\n",
    "            user_id, \n",
    "            anime_id, \n",
    "            #ratings_df.loc[condition, 'Rating'],\n",
    "            verbose = True)\n",
    "\n",
    "# Creates a dataframe for the predictions\n",
    "def get_predictions(model_instance, user_id, anime_ids):\n",
    "\n",
    "    predict_ratings = pd.DataFrame(columns=['Anime ID', 'Rating'])\n",
    "\n",
    "    # Use suprise model predict method to get predictions\n",
    "    # This only works on userIDs that were in the training set\n",
    "    for anime_id in anime_ids:\n",
    "        prediction = model_instance.predict(\n",
    "            user_id, \n",
    "            anime_id)\n",
    "\n",
    "        predict_ratings.loc[len(predict_ratings)] = [anime_id, prediction.est]\n",
    "\n",
    "    return predict_ratings"
   ]
  },
  {
   "cell_type": "code",
   "execution_count": 36,
   "id": "0df42f85",
   "metadata": {},
   "outputs": [],
   "source": [
    "# print(anime_ratings[anime_ratings['User ID'] == 35])\n",
    "# show_predictions(svd_instance, 35, [64, 6707, 6547, 4898], svd_anime_sample)"
   ]
  },
  {
   "cell_type": "code",
   "execution_count": 37,
   "id": "51af1db6",
   "metadata": {},
   "outputs": [],
   "source": [
    "# Create predictions for a mew user provided their anime ratings\n",
    "# This refits the entire model with the new user appended onto the base df with a user ID of -1\n",
    "\n",
    "def create_predictions_for_user(model_instance, base_df, anime_ids, ratings):\n",
    "\n",
    "    # Create suprise dataset with new user\n",
    "    predict_dataset = create_predict_dataset(\n",
    "        base_df, \n",
    "        anime_ids,\n",
    "        ratings)\n",
    "\n",
    "    # Train on entire dataset\n",
    "    # TODO: Should we do this?\n",
    "    model_instance.fit(predict_dataset.build_full_trainset())\n",
    "    # model_instance.fit(full_trainset)\n",
    "\n",
    "    # Create a series of all the anime IDs that want to be predicted (all of them, more or less)\n",
    "    predict_anime_ids = base_df['Anime ID'];\n",
    "    predict_anime_ids = predict_anime_ids.append(pd.Series(anime_ids)).unique()\n",
    "    \n",
    "    # Show predictions for the known ratings\n",
    "    show_predictions(model_instance, -1, anime_ids, svd_anime_sample)\n",
    "\n",
    "    # Generate and return predictions for all the anime\n",
    "    return get_predictions(model_instance, -1, predict_anime_ids)\n",
    "\n",
    "# Print out information for top N predictions\n",
    "def display_top_n(predictions, n):\n",
    "    # Sort descending\n",
    "    predictions = predictions.sort_values('Rating', ascending=False)\n",
    "    \n",
    "    print(predictions)\n",
    "    print(\"Top {} predicted scores\".format(n))\n",
    "    # Print information about top n\n",
    "    for index, row in predictions.head(n).iterrows():\n",
    "        anime_id = row['Anime ID']\n",
    "        rating = row['Rating']\n",
    "        name = rid_to_name[str(int(anime_id))]\n",
    "        print(\"Anime: {} Rating: {} Name: {}\".format(anime_id, rating, name))"
   ]
  },
  {
   "cell_type": "code",
   "execution_count": 195,
   "id": "4f5af9f2",
   "metadata": {},
   "outputs": [
    {
     "name": "stderr",
     "output_type": "stream",
     "text": [
      "C:\\Users\\arthu\\AppData\\Local\\Temp\\ipykernel_21452\\2379477245.py:19: FutureWarning: The series.append method is deprecated and will be removed from pandas in a future version. Use pandas.concat instead.\n",
      "  predict_anime_ids = predict_anime_ids.append(pd.Series(anime_ids)).unique()\n"
     ]
    },
    {
     "name": "stdout",
     "output_type": "stream",
     "text": [
      "user: -1         item: 4224       r_ui = None   est = 9.10   {'was_impossible': False}\n",
      "user: -1         item: 23273      r_ui = None   est = 8.37   {'was_impossible': False}\n",
      "user: -1         item: 1723       r_ui = None   est = 8.83   {'was_impossible': False}\n",
      "user: -1         item: 32281      r_ui = None   est = 8.98   {'was_impossible': False}\n",
      "user: -1         item: 37450      r_ui = None   est = 9.12   {'was_impossible': False}\n",
      "user: -1         item: 2167       r_ui = None   est = 8.88   {'was_impossible': False}\n",
      "user: -1         item: 121        r_ui = None   est = 5.93   {'was_impossible': False}\n",
      "      Anime ID    Rating\n",
      "8906   37450.0  9.116229\n",
      "5341   12487.0  9.114820\n",
      "3194    4224.0  9.096633\n",
      "9164   38329.0  9.041346\n",
      "1634    1830.0  9.028755\n",
      "...        ...       ...\n",
      "2715    3287.0  4.417579\n",
      "7098   29980.0  4.401583\n",
      "5828   16608.0  3.961487\n",
      "4105    6953.0  3.920175\n",
      "7431   31634.0  3.618843\n",
      "\n",
      "[9926 rows x 2 columns]\n",
      "Top 25 predicted scores\n",
      "Anime: 37450.0 Rating: 9.116228706584213 Name: Seishun Buta Yarou wa Bunny Girl Senpai no Yume wo Minai\n",
      "Anime: 12487.0 Rating: 9.114819780258983 Name: Kyoukaisenjou no Horizon II\n",
      "Anime: 4224.0 Rating: 9.096632757536927 Name: Toradora!\n",
      "Anime: 38329.0 Rating: 9.041345581344778 Name: Seishun Buta Yarou wa Yumemiru Shoujo no Yume wo Minai\n",
      "Anime: 1830.0 Rating: 9.028755146690177 Name: Utawarerumono Specials\n",
      "Anime: 32281.0 Rating: 8.98300035629801 Name: Kimi no Na wa.\n",
      "Anime: 4181.0 Rating: 8.980035384907975 Name: Clannad: After Story\n",
      "Anime: 35790.0 Rating: 8.969512111872971 Name: Tate no Yuusha no Nariagari\n",
      "Anime: 7014.0 Rating: 8.954680970627477 Name: Tezuka Osamu no Buddha: Akai Sabaku yo! Utsukushiku\n",
      "Anime: 5205.0 Rating: 8.933356402222486 Name: Kara no Kyoukai 7: Satsujin Kousatsu (Go)\n",
      "Anime: 30484.0 Rating: 8.930875991124259 Name: Steins;Gate 0\n",
      "Anime: 169.0 Rating: 8.894354102530247 Name: Shingetsutan Tsukihime\n",
      "Anime: 2167.0 Rating: 8.880185841307624 Name: Clannad\n",
      "Anime: 33674.0 Rating: 8.872367405229973 Name: No Game No Life: Zero\n",
      "Anime: 37491.0 Rating: 8.856194210408752 Name: Gintama.: Shirogane no Tamashii-hen - Kouhan-sen\n",
      "Anime: 4282.0 Rating: 8.855346246742792 Name: Kara no Kyoukai 5: Mujun Rasen\n",
      "Anime: 28851.0 Rating: 8.848548110148712 Name: Koe no Katachi\n",
      "Anime: 31240.0 Rating: 8.833969279861243 Name: Re:Zero kara Hajimeru Isekai Seikatsu\n",
      "Anime: 1723.0 Rating: 8.828737337549384 Name: Clannad Movie\n",
      "Anime: 37965.0 Rating: 8.827430903457296 Name: Kaze ga Tsuyoku Fuiteiru\n",
      "Anime: 31758.0 Rating: 8.803093541780253 Name: Kizumonogatari III: Reiketsu-hen\n",
      "Anime: 2829.0 Rating: 8.795581928666872 Name: Ie Naki Ko Remy\n",
      "Anime: 7222.0 Rating: 8.787804503451081 Name: Macross F Movie 2: Sayonara no Tsubasa\n",
      "Anime: 19815.0 Rating: 8.785051592764797 Name: No Game No Life\n",
      "Anime: 31043.0 Rating: 8.782226102596272 Name: Boku dake ga Inai Machi\n"
     ]
    }
   ],
   "source": [
    "# User 1 \n",
    "# Drama / romance\n",
    "\n",
    "user_1_anime_ids = [4224, 23273, 1723, 32281, 37450, 2167, 121]\n",
    "user_1_ratings = [10, 8, 9, 9, 10, 9, 4]\n",
    "\n",
    "# No randomness between each fit\n",
    "svd_instance.random_state = 1\n",
    "\n",
    "user_1_predictions = create_predictions_for_user(\n",
    "    svd_instance,\n",
    "    svd_anime_sample,\n",
    "    user_1_anime_ids,\n",
    "    user_1_ratings\n",
    "    )\n",
    "\n",
    "display_top_n(user_1_predictions, 25)"
   ]
  },
  {
   "cell_type": "code",
   "execution_count": 196,
   "id": "3b23ffc0",
   "metadata": {},
   "outputs": [
    {
     "name": "stderr",
     "output_type": "stream",
     "text": [
      "C:\\Users\\arthu\\AppData\\Local\\Temp\\ipykernel_21452\\2379477245.py:19: FutureWarning: The series.append method is deprecated and will be removed from pandas in a future version. Use pandas.concat instead.\n",
      "  predict_anime_ids = predict_anime_ids.append(pd.Series(anime_ids)).unique()\n"
     ]
    },
    {
     "name": "stdout",
     "output_type": "stream",
     "text": [
      "user: -1         item: 114        r_ui = None   est = 9.13   {'was_impossible': False}\n",
      "user: -1         item: 31964      r_ui = None   est = 9.19   {'was_impossible': False}\n",
      "user: -1         item: 32051      r_ui = None   est = 8.05   {'was_impossible': False}\n",
      "user: -1         item: 34134      r_ui = None   est = 8.63   {'was_impossible': False}\n",
      "user: -1         item: 38000      r_ui = None   est = 9.39   {'was_impossible': False}\n",
      "      Anime ID    Rating\n",
      "1513    1695.0  9.861566\n",
      "5126   11061.0  9.858676\n",
      "3508    5114.0  9.849106\n",
      "7782   33050.0  9.785896\n",
      "7010   28977.0  9.758181\n",
      "...        ...       ...\n",
      "382      413.0  5.217306\n",
      "2715    3287.0  4.882709\n",
      "5828   16608.0  4.760934\n",
      "4105    6953.0  4.647107\n",
      "7431   31634.0  4.317752\n",
      "\n",
      "[9926 rows x 2 columns]\n",
      "Top 25 predicted scores\n",
      "Anime: 1695.0 Rating: 9.8615664599809 Name: Les MisÃ©rables: Shoujo Cosette\n",
      "Anime: 11061.0 Rating: 9.858676163618954 Name: Hunter x Hunter (2011)\n",
      "Anime: 5114.0 Rating: 9.849105903840957 Name: Fullmetal Alchemist: Brotherhood\n",
      "Anime: 33050.0 Rating: 9.785896181157202 Name: Fate/stay night Movie: Heaven's Feel - III. Spring Song\n",
      "Anime: 28977.0 Rating: 9.758181195437666 Name: GintamaÂ°\n",
      "Anime: 22583.0 Rating: 9.655203267923063 Name: Uchuu Kyoudai: Number Zero\n",
      "Anime: 9253.0 Rating: 9.64890156397168 Name: Steins;Gate\n",
      "Anime: 32281.0 Rating: 9.645943085139168 Name: Kimi no Na wa.\n",
      "Anime: 15417.0 Rating: 9.636020870316681 Name: Gintama': Enchousen\n",
      "Anime: 918.0 Rating: 9.627206179314609 Name: Gintama\n",
      "Anime: 38524.0 Rating: 9.615220491503749 Name: Shingeki no Kyojin Season 3 Part 2\n",
      "Anime: 15335.0 Rating: 9.596498197536292 Name: Gintama Movie 2: Kanketsu-hen - Yorozuya yo Eien Nare\n",
      "Anime: 32935.0 Rating: 9.581443231681632 Name: Haikyuu!!: Karasuno Koukou vs. Shiratorizawa Gakuen Koukou\n",
      "Anime: 5420.0 Rating: 9.56493186964034 Name: Kemono no Souja Erin\n",
      "Anime: 37208.0 Rating: 9.537877479698526 Name: Mo Dao Zu Shi\n",
      "Anime: 4181.0 Rating: 9.535155832429432 Name: Clannad: After Story\n",
      "Anime: 820.0 Rating: 9.532919761012362 Name: Ginga Eiyuu Densetsu\n",
      "Anime: 9969.0 Rating: 9.53001990927799 Name: Gintama'\n",
      "Anime: 36862.0 Rating: 9.528457462608568 Name: Made in Abyss Movie 3: Fukaki Tamashii no Reimei\n",
      "Anime: 263.0 Rating: 9.523604527770383 Name: Hajime no Ippo\n",
      "Anime: 2904.0 Rating: 9.522176221430717 Name: Code Geass: Hangyaku no Lelouch R2\n",
      "Anime: 34096.0 Rating: 9.518314081153596 Name: Gintama.\n",
      "Anime: 37515.0 Rating: 9.512797923010236 Name: Made in Abyss Movie 2: Hourou Suru Tasogare\n",
      "Anime: 37491.0 Rating: 9.50240861070036 Name: Gintama.: Shirogane no Tamashii-hen - Kouhan-sen\n",
      "Anime: 5258.0 Rating: 9.500250266466244 Name: Hajime no Ippo: New Challenger\n"
     ]
    }
   ],
   "source": [
    "# User 2 \n",
    "# Action / Adventure\n",
    "user_2_pred = create_predictions_for_user(\n",
    "    svd_instance,\n",
    "    svd_anime_sample,\n",
    "    [114, 31964, 32051, 34134, 38000],\n",
    "    [9, 10, 8, 9, 9]\n",
    "    )\n",
    "\n",
    "display_top_n(user_2_pred, 25)"
   ]
  },
  {
   "cell_type": "code",
   "execution_count": 197,
   "id": "dd311ec2",
   "metadata": {},
   "outputs": [
    {
     "name": "stderr",
     "output_type": "stream",
     "text": [
      "C:\\Users\\arthu\\AppData\\Local\\Temp\\ipykernel_21452\\2379477245.py:19: FutureWarning: The series.append method is deprecated and will be removed from pandas in a future version. Use pandas.concat instead.\n",
      "  predict_anime_ids = predict_anime_ids.append(pd.Series(anime_ids)).unique()\n"
     ]
    },
    {
     "name": "stdout",
     "output_type": "stream",
     "text": [
      "user: -1         item: 114        r_ui = None   est = 4.90   {'was_impossible': False}\n",
      "user: -1         item: 31964      r_ui = None   est = 5.23   {'was_impossible': False}\n",
      "user: -1         item: 32051      r_ui = None   est = 4.31   {'was_impossible': False}\n",
      "user: -1         item: 34134      r_ui = None   est = 5.51   {'was_impossible': False}\n",
      "user: -1         item: 38000      r_ui = None   est = 5.55   {'was_impossible': False}\n",
      "user: -1         item: 39533      r_ui = None   est = 8.82   {'was_impossible': False}\n",
      "user: -1         item: 30346      r_ui = None   est = 9.32   {'was_impossible': False}\n",
      "user: -1         item: 44055      r_ui = None   est = 8.90   {'was_impossible': False}\n",
      "user: -1         item: 918        r_ui = None   est = 4.89   {'was_impossible': False}\n",
      "      Anime ID    Rating\n",
      "7152   30346.0  9.315407\n",
      "9926   44055.0  8.902190\n",
      "9445   39533.0  8.819841\n",
      "6145   19511.0  7.952705\n",
      "3921    6383.0  7.944589\n",
      "...        ...       ...\n",
      "1416    1585.0  3.122066\n",
      "7431   31634.0  3.108210\n",
      "5808   16436.0  3.087073\n",
      "4105    6953.0  2.855015\n",
      "7098   29980.0  2.845264\n",
      "\n",
      "[9927 rows x 2 columns]\n",
      "Top 25 predicted scores\n",
      "Anime: 30346.0 Rating: 9.315406504122784 Name: Doukyuusei (Movie)\n",
      "Anime: 44055.0 Rating: 8.902189759118944 Name: Sasaki to Miyano\n",
      "Anime: 39533.0 Rating: 8.819840667862088 Name: Given\n",
      "Anime: 19511.0 Rating: 7.95270528763006 Name: Naruto: Shippuuden - Sunny Side Battle\n",
      "Anime: 6383.0 Rating: 7.9445886225898406 Name: Chargeman Ken!\n",
      "Anime: 22583.0 Rating: 7.930069228418532 Name: Uchuu Kyoudai: Number Zero\n",
      "Anime: 3088.0 Rating: 7.923319777621294 Name: Tokyo Marble Chocolate\n",
      "Anime: 1013.0 Rating: 7.909087622413077 Name: Le Chevalier D'Eon\n",
      "Anime: 143.0 Rating: 7.89513912072123 Name: Kannazuki no Miko\n",
      "Anime: 10507.0 Rating: 7.8065210947366195 Name: Inazuma Eleven Go\n",
      "Anime: 6280.0 Rating: 7.725549801887976 Name: Cat Shit One\n",
      "Anime: 10721.0 Rating: 7.7223852323402316 Name: Mawaru Penguindrum\n",
      "Anime: 7559.0 Rating: 7.698929179126118 Name: Fate/stay night TV Reproduction\n",
      "Anime: 12029.0 Rating: 7.696050042765974 Name: Uchuu Senkan Yamato 2199\n",
      "Anime: 8934.0 Rating: 7.680920818732525 Name: Star Driver: Kagayaki no Takuto\n",
      "Anime: 37379.0 Rating: 7.665621615260251 Name: Chihayafuru 3\n",
      "Anime: 1021.0 Rating: 7.658564957609981 Name: Kaikan Phrase\n",
      "Anime: 27387.0 Rating: 7.649710524871464 Name: Under the Dog\n",
      "Anime: 33323.0 Rating: 7.64697053937813 Name: \"Kamisama Hajimemashita: Kamisama\n",
      "Anime: 25015.0 Rating: 7.6088382028201655 Name: Kyoukai no Kanata Movie 1: I'll Be Here - Kako-hen\n",
      "Anime: 3784.0 Rating: 7.590741872634956 Name: Evangelion: 2.0 You Can (Not) Advance\n",
      "Anime: 325.0 Rating: 7.5772860243923414 Name: Peach Girl\n",
      "Anime: 36220.0 Rating: 7.576246178438378 Name: Itsudatte Bokura no Koi wa 10 cm Datta.\n",
      "Anime: 37965.0 Rating: 7.569866526054684 Name: Kaze ga Tsuyoku Fuiteiru\n",
      "Anime: 31433.0 Rating: 7.566367627478998 Name: Ginga Eiyuu Densetsu: Die Neue These - Kaikou\n"
     ]
    }
   ],
   "source": [
    "# User 3 \n",
    "# Boys Love\n",
    "user_3_anime_ids = [114, 31964, 32051, 34134, 38000, 39533, 30346, 44055, 918]\n",
    "user_3_ratings = [4, 5, 4, 6, 4, 10, 10, 9, 4]\n",
    "\n",
    "user_3_predictions = create_predictions_for_user(\n",
    "    svd_instance,\n",
    "    svd_anime_sample,\n",
    "    user_3_anime_ids,\n",
    "    user_3_ratings\n",
    ")\n",
    "\n",
    "display_top_n(user_3_predictions, 25)"
   ]
  },
  {
   "cell_type": "code",
   "execution_count": null,
   "id": "e4145fc5",
   "metadata": {},
   "outputs": [],
   "source": [
    "# from collections import defaultdict\n",
    "\n",
    "# def get_top_n(predictions, n = 10):\n",
    "#     top_n = defaultdict(list)\n",
    "#     for uid, iid, true_r, est, _ in predictions:\n",
    "#         top_n[uid].append((iid, est))\n",
    "\n",
    "#     # Then sort the predictions for each user and retrieve the k highest ones.\n",
    "#     for uid, user_ratings in top_n.items():\n",
    "#         user_ratings.sort(key=lambda x: x[1], reverse=True)\n",
    "#         top_n[uid] = user_ratings[:n]\n",
    "\n",
    "#     return top_n"
   ]
  },
  {
   "cell_type": "code",
   "execution_count": null,
   "id": "d266fd4d",
   "metadata": {},
   "outputs": [],
   "source": [
    "# top_anime = get_top_n(anime_predictions,n=10)\n",
    "\n",
    "# for uid, user_ratings in top_anime.items():\n",
    "#     if len([iid for (iid, _) in user_ratings]) == 10:\n",
    "#         print(uid, [iid for (iid, _) in user_ratings])"
   ]
  },
  {
   "cell_type": "code",
   "execution_count": null,
   "id": "2cf1b89f",
   "metadata": {},
   "outputs": [],
   "source": [
    "# user_id = -1\n",
    "# anime_ids = []\n",
    "# for uid, user_ratings in top_anime.items():\n",
    "#     if len([iid for (iid, _) in user_ratings]) == 10:\n",
    "#         user_id = uid\n",
    "#         anime_ids = [iid for (iid, _) in user_ratings]\n",
    "#         break\n",
    "# print(user_id, anime_ids)"
   ]
  },
  {
   "cell_type": "code",
   "execution_count": null,
   "id": "96ed04a6",
   "metadata": {},
   "outputs": [],
   "source": [
    "# for anime_id in anime_ids:\n",
    "#     print(anime_main.loc[anime_main['Anime ID'] == anime_id]['Name'].to_string(index=False))"
   ]
  },
  {
   "attachments": {},
   "cell_type": "markdown",
   "id": "83648f46",
   "metadata": {},
   "source": [
    "## KNN "
   ]
  },
  {
   "cell_type": "code",
   "execution_count": 55,
   "id": "733fbe83",
   "metadata": {},
   "outputs": [],
   "source": [
    "knn_anime_sample = anime_sample.copy()\n",
    "knn_anime_sample = knn_anime_sample[['User ID', 'Anime ID', 'Rating']]\n",
    "\n",
    "reader = Reader(rating_scale=(1,10))\n",
    "knn_anime_data = Dataset.load_from_df(knn_anime_sample, reader)\n",
    "\n",
    "knn_anime_trainset = knn_anime_data.build_full_trainset()\n",
    "knn_anime_testset = knn_anime_trainset.build_anti_testset()"
   ]
  },
  {
   "cell_type": "code",
   "execution_count": 87,
   "id": "82b38078",
   "metadata": {},
   "outputs": [
    {
     "name": "stdout",
     "output_type": "stream",
     "text": [
      "Computing the msd similarity matrix...\n",
      "Done computing similarity matrix.\n",
      "Cowboy Bebop\n",
      "Mushibugyou\n",
      "Ballroom e Youkoso\n",
      "Highschool of the Dead\n",
      "Full Metal Panic!\n",
      "\"Ore\n",
      "Amagi Brilliant Park\n",
      "Mobile Suit Gundam F91\n",
      "IS: Infinite Stratos 2\n",
      "Itazura The Animation\n",
      "Shigofumi\n"
     ]
    }
   ],
   "source": [
    "simulation_variables = {\"Name\" : \"pearson_baseline\", \"user_based\" : True, \"min_support\" : 4}\n",
    "knn_baseline = KNNBasic(sim_options = simulation_variables)\n",
    "knn_baseline.fit(knn_anime_trainset)\n",
    "\n",
    "anime_name = \"Cowboy Bebop\"\n",
    "anime_raw_id = int(name_to_rid[anime_name])\n",
    "anime_inner_id = knn_baseline.trainset.to_inner_iid(anime_raw_id)\n",
    "\n",
    "print(rid_to_name[str(knn_baseline.trainset.to_raw_iid(anime_inner_id))])\n",
    "\n",
    "anime_neighbors = knn_baseline.get_neighbors(anime_inner_id, k=10)\n",
    "\n",
    "for inner_id in anime_neighbors:\n",
    "    print(rid_to_name[str(knn_baseline.trainset.to_raw_iid(inner_id))])\n",
    "\n",
    "anime_neighbors = (\n",
    "    knn_baseline.trainset.to_raw_iid(inner_id) for inner_id in anime_neighbors\n",
    ")\n",
    "\n",
    "anime_neighbors = (rid_to_name[str(rid)] for rid in anime_neighbors)"
   ]
  },
  {
   "cell_type": "code",
   "execution_count": 64,
   "id": "b8d5e7e5",
   "metadata": {},
   "outputs": [
    {
     "name": "stdout",
     "output_type": "stream",
     "text": [
      "2167\n"
     ]
    }
   ],
   "source": [
    "print(anime_raw_id)"
   ]
  },
  {
   "cell_type": "code",
   "execution_count": 65,
   "id": "e71a7fde",
   "metadata": {},
   "outputs": [
    {
     "name": "stdout",
     "output_type": "stream",
     "text": [
      "The 10 nearest neighbors of Clannad are:\n",
      "Shin Captain Tsubasa\n",
      "Oni-Tensei\n",
      "Tsui no Sora\n",
      "Haru wo Daite Ita\n",
      "Super Lovers OVA\n",
      "Super Lovers 2\n",
      "Green Legend Ran\n",
      "Saber Marionette R\n",
      "Mahou Yuugi 3D\n",
      "Grenadier: Hohoemi no Senshi Specials\n"
     ]
    }
   ],
   "source": [
    "print(\"The 10 nearest neighbors of\", anime_name, \"are:\")\n",
    "for anime in anime_neighbors:\n",
    "    print(anime)"
   ]
  },
  {
   "attachments": {},
   "cell_type": "markdown",
   "id": "2eafe5dd",
   "metadata": {},
   "source": [
    "## Cross Validation"
   ]
  },
  {
   "cell_type": "code",
   "execution_count": null,
   "id": "ffa04602",
   "metadata": {},
   "outputs": [],
   "source": [
    "knn_basic = KNNBasic(sim_options = {'name':'pearson','user_based':True})\n",
    "\n",
    "cv_knn_baseline = cross_validate(knn_basic, knn_anime_data, n_jobs=-1)\n",
    "print(np.mean(cv_knn_baseline['test_rmse']))"
   ]
  },
  {
   "cell_type": "code",
   "execution_count": null,
   "id": "5968a38b",
   "metadata": {},
   "outputs": [],
   "source": [
    "cv_knn_baseline"
   ]
  },
  {
   "attachments": {},
   "cell_type": "markdown",
   "id": "36b4778b",
   "metadata": {},
   "source": [
    "## Pickle"
   ]
  },
  {
   "cell_type": "code",
   "execution_count": null,
   "id": "863622d3",
   "metadata": {},
   "outputs": [],
   "source": [
    "import pickle"
   ]
  },
  {
   "cell_type": "code",
   "execution_count": null,
   "id": "0c2f7e06",
   "metadata": {},
   "outputs": [],
   "source": [
    "pickle.dump(knn_baseline, open('knn_model.pkl','wb'))"
   ]
  },
  {
   "cell_type": "code",
   "execution_count": null,
   "id": "05e89941",
   "metadata": {},
   "outputs": [],
   "source": [
    "pickle.dump(svd_instance, open('svd_model.pkl','wb'))"
   ]
  }
 ],
 "metadata": {
  "kernelspec": {
   "display_name": "base",
   "language": "python",
   "name": "python3"
  },
  "language_info": {
   "codemirror_mode": {
    "name": "ipython",
    "version": 3
   },
   "file_extension": ".py",
   "mimetype": "text/x-python",
   "name": "python",
   "nbconvert_exporter": "python",
   "pygments_lexer": "ipython3",
   "version": "3.10.9"
  }
 },
 "nbformat": 4,
 "nbformat_minor": 5
}
