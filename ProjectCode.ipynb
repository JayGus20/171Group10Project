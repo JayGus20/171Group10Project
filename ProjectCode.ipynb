{
 "cells": [
  {
   "attachments": {},
   "cell_type": "markdown",
   "id": "3975cfe6",
   "metadata": {},
   "source": [
    "# Anime Recommendation System Project"
   ]
  },
  {
   "attachments": {},
   "cell_type": "markdown",
   "id": "293017f2",
   "metadata": {},
   "source": [
    "## Imported Libraries"
   ]
  },
  {
   "cell_type": "code",
   "execution_count": 1,
   "id": "255b86fb",
   "metadata": {},
   "outputs": [],
   "source": [
    "import numpy as np\n",
    "import pandas as pd\n",
    "\n",
    "import matplotlib.pyplot as plt\n",
    "%matplotlib inline\n",
    "import seaborn as sns\n",
    "\n",
    "import random\n",
    "from random import randint"
   ]
  },
  {
   "cell_type": "code",
   "execution_count": 2,
   "id": "75356d3f",
   "metadata": {},
   "outputs": [],
   "source": [
    "\n",
    "import scipy.sparse as sparse\n",
    "from scipy.sparse.linalg import spsolve\n",
    "#from sklearn.preprocessing import MinMaxScalerort sklearn as skl\n",
    "\n",
    "from scipy.sparse import csc_matrix\n",
    "from scipy.sparse.linalg import svds"
   ]
  },
  {
   "cell_type": "code",
   "execution_count": 3,
   "id": "6365d15d",
   "metadata": {},
   "outputs": [],
   "source": [
    "\n",
    "from surprise.model_selection import train_test_split\n",
    "from surprise.model_selection import GridSearchCV\n",
    "from surprise.model_selection import cross_validate\n",
    "from surprise.prediction_algorithms import KNNWithMeans, KNNBasic, KNNBaseline\n",
    "from surprise.prediction_algorithms import knns\n",
    "from surprise.prediction_algorithms import SVD\n",
    "from surprise.similarities import cosine, msd, pearson\n",
    "from surprise import accuracy\n",
    "from surprise import Reader\n",
    "from surprise import Dataset\n"
   ]
  },
  {
   "cell_type": "code",
   "execution_count": 4,
   "id": "fb692f58",
   "metadata": {},
   "outputs": [],
   "source": [
    "\n",
    "from pyspark import SparkContext\n",
    "from pyspark.ml.recommendation import ALS\n",
    "from pyspark.sql import SparkSession ,Row\n",
    "from pyspark.sql.functions import col\n",
    "from pyspark.sql import SQLContext\n",
    "from pyspark.ml.feature import StringIndexer\n",
    "from pyspark.ml import Pipeline\n",
    "from pyspark.ml.evaluation import RegressionEvaluator\n",
    "from pyspark.sql.types import StructType,StructField,IntegerType\n",
    "\n",
    "from pyspark.ml.recommendation import ALS"
   ]
  },
  {
   "attachments": {},
   "cell_type": "markdown",
   "id": "12b92884",
   "metadata": {},
   "source": [
    "## Datasets"
   ]
  },
  {
   "attachments": {},
   "cell_type": "markdown",
   "id": "834d8b2d",
   "metadata": {},
   "source": [
    "#### Main Anime Dataset (anime.csv)"
   ]
  },
  {
   "cell_type": "code",
   "execution_count": 5,
   "id": "5214f766",
   "metadata": {},
   "outputs": [],
   "source": [
    "anime_main = pd.read_csv(\"data/anime.csv\")"
   ]
  },
  {
   "attachments": {},
   "cell_type": "markdown",
   "id": "f7068e1f",
   "metadata": {},
   "source": [
    "#### Anime Ratings Dataset (rating_complete.csv)"
   ]
  },
  {
   "cell_type": "code",
   "execution_count": 6,
   "id": "30fc7799",
   "metadata": {},
   "outputs": [],
   "source": [
    "anime_ratings = pd.read_csv(\"data/rating_complete.csv\")"
   ]
  },
  {
   "cell_type": "code",
   "execution_count": 7,
   "id": "331a61ea",
   "metadata": {},
   "outputs": [
    {
     "name": "stdout",
     "output_type": "stream",
     "text": [
      "(17562, 35)\n",
      "Index(['MAL_ID', 'Name', 'Score', 'Genres', 'English name', 'Japanese name',\n",
      "       'Type', 'Episodes', 'Aired', 'Premiered', 'Producers', 'Licensors',\n",
      "       'Studios', 'Source', 'Duration', 'Rating', 'Ranked', 'Popularity',\n",
      "       'Members', 'Favorites', 'Watching', 'Completed', 'On-Hold', 'Dropped',\n",
      "       'Plan to Watch', 'Score-10', 'Score-9', 'Score-8', 'Score-7', 'Score-6',\n",
      "       'Score-5', 'Score-4', 'Score-3', 'Score-2', 'Score-1'],\n",
      "      dtype='object')\n"
     ]
    },
    {
     "data": {
      "text/html": [
       "<div>\n",
       "<style scoped>\n",
       "    .dataframe tbody tr th:only-of-type {\n",
       "        vertical-align: middle;\n",
       "    }\n",
       "\n",
       "    .dataframe tbody tr th {\n",
       "        vertical-align: top;\n",
       "    }\n",
       "\n",
       "    .dataframe thead th {\n",
       "        text-align: right;\n",
       "    }\n",
       "</style>\n",
       "<table border=\"1\" class=\"dataframe\">\n",
       "  <thead>\n",
       "    <tr style=\"text-align: right;\">\n",
       "      <th></th>\n",
       "      <th>MAL_ID</th>\n",
       "      <th>Name</th>\n",
       "      <th>Score</th>\n",
       "      <th>Genres</th>\n",
       "      <th>English name</th>\n",
       "      <th>Japanese name</th>\n",
       "      <th>Type</th>\n",
       "      <th>Episodes</th>\n",
       "      <th>Aired</th>\n",
       "      <th>Premiered</th>\n",
       "      <th>...</th>\n",
       "      <th>Score-10</th>\n",
       "      <th>Score-9</th>\n",
       "      <th>Score-8</th>\n",
       "      <th>Score-7</th>\n",
       "      <th>Score-6</th>\n",
       "      <th>Score-5</th>\n",
       "      <th>Score-4</th>\n",
       "      <th>Score-3</th>\n",
       "      <th>Score-2</th>\n",
       "      <th>Score-1</th>\n",
       "    </tr>\n",
       "  </thead>\n",
       "  <tbody>\n",
       "    <tr>\n",
       "      <th>0</th>\n",
       "      <td>1</td>\n",
       "      <td>Cowboy Bebop</td>\n",
       "      <td>8.78</td>\n",
       "      <td>Action, Adventure, Comedy, Drama, Sci-Fi, Space</td>\n",
       "      <td>Cowboy Bebop</td>\n",
       "      <td>カウボーイビバップ</td>\n",
       "      <td>TV</td>\n",
       "      <td>26</td>\n",
       "      <td>Apr 3, 1998 to Apr 24, 1999</td>\n",
       "      <td>Spring 1998</td>\n",
       "      <td>...</td>\n",
       "      <td>229170.0</td>\n",
       "      <td>182126.0</td>\n",
       "      <td>131625.0</td>\n",
       "      <td>62330.0</td>\n",
       "      <td>20688.0</td>\n",
       "      <td>8904.0</td>\n",
       "      <td>3184.0</td>\n",
       "      <td>1357.0</td>\n",
       "      <td>741.0</td>\n",
       "      <td>1580.0</td>\n",
       "    </tr>\n",
       "    <tr>\n",
       "      <th>1</th>\n",
       "      <td>5</td>\n",
       "      <td>Cowboy Bebop: Tengoku no Tobira</td>\n",
       "      <td>8.39</td>\n",
       "      <td>Action, Drama, Mystery, Sci-Fi, Space</td>\n",
       "      <td>Cowboy Bebop:The Movie</td>\n",
       "      <td>カウボーイビバップ 天国の扉</td>\n",
       "      <td>Movie</td>\n",
       "      <td>1</td>\n",
       "      <td>Sep 1, 2001</td>\n",
       "      <td>Unknown</td>\n",
       "      <td>...</td>\n",
       "      <td>30043.0</td>\n",
       "      <td>49201.0</td>\n",
       "      <td>49505.0</td>\n",
       "      <td>22632.0</td>\n",
       "      <td>5805.0</td>\n",
       "      <td>1877.0</td>\n",
       "      <td>577.0</td>\n",
       "      <td>221.0</td>\n",
       "      <td>109.0</td>\n",
       "      <td>379.0</td>\n",
       "    </tr>\n",
       "    <tr>\n",
       "      <th>2</th>\n",
       "      <td>6</td>\n",
       "      <td>Trigun</td>\n",
       "      <td>8.24</td>\n",
       "      <td>Action, Sci-Fi, Adventure, Comedy, Drama, Shounen</td>\n",
       "      <td>Trigun</td>\n",
       "      <td>トライガン</td>\n",
       "      <td>TV</td>\n",
       "      <td>26</td>\n",
       "      <td>Apr 1, 1998 to Sep 30, 1998</td>\n",
       "      <td>Spring 1998</td>\n",
       "      <td>...</td>\n",
       "      <td>50229.0</td>\n",
       "      <td>75651.0</td>\n",
       "      <td>86142.0</td>\n",
       "      <td>49432.0</td>\n",
       "      <td>15376.0</td>\n",
       "      <td>5838.0</td>\n",
       "      <td>1965.0</td>\n",
       "      <td>664.0</td>\n",
       "      <td>316.0</td>\n",
       "      <td>533.0</td>\n",
       "    </tr>\n",
       "    <tr>\n",
       "      <th>3</th>\n",
       "      <td>7</td>\n",
       "      <td>Witch Hunter Robin</td>\n",
       "      <td>7.27</td>\n",
       "      <td>Action, Mystery, Police, Supernatural, Drama, ...</td>\n",
       "      <td>Witch Hunter Robin</td>\n",
       "      <td>Witch Hunter ROBIN (ウイッチハンターロビン)</td>\n",
       "      <td>TV</td>\n",
       "      <td>26</td>\n",
       "      <td>Jul 2, 2002 to Dec 24, 2002</td>\n",
       "      <td>Summer 2002</td>\n",
       "      <td>...</td>\n",
       "      <td>2182.0</td>\n",
       "      <td>4806.0</td>\n",
       "      <td>10128.0</td>\n",
       "      <td>11618.0</td>\n",
       "      <td>5709.0</td>\n",
       "      <td>2920.0</td>\n",
       "      <td>1083.0</td>\n",
       "      <td>353.0</td>\n",
       "      <td>164.0</td>\n",
       "      <td>131.0</td>\n",
       "    </tr>\n",
       "    <tr>\n",
       "      <th>4</th>\n",
       "      <td>8</td>\n",
       "      <td>Bouken Ou Beet</td>\n",
       "      <td>6.98</td>\n",
       "      <td>Adventure, Fantasy, Shounen, Supernatural</td>\n",
       "      <td>Beet the Vandel Buster</td>\n",
       "      <td>冒険王ビィト</td>\n",
       "      <td>TV</td>\n",
       "      <td>52</td>\n",
       "      <td>Sep 30, 2004 to Sep 29, 2005</td>\n",
       "      <td>Fall 2004</td>\n",
       "      <td>...</td>\n",
       "      <td>312.0</td>\n",
       "      <td>529.0</td>\n",
       "      <td>1242.0</td>\n",
       "      <td>1713.0</td>\n",
       "      <td>1068.0</td>\n",
       "      <td>634.0</td>\n",
       "      <td>265.0</td>\n",
       "      <td>83.0</td>\n",
       "      <td>50.0</td>\n",
       "      <td>27.0</td>\n",
       "    </tr>\n",
       "  </tbody>\n",
       "</table>\n",
       "<p>5 rows × 35 columns</p>\n",
       "</div>"
      ],
      "text/plain": [
       "   MAL_ID                             Name Score  \\\n",
       "0       1                     Cowboy Bebop  8.78   \n",
       "1       5  Cowboy Bebop: Tengoku no Tobira  8.39   \n",
       "2       6                           Trigun  8.24   \n",
       "3       7               Witch Hunter Robin  7.27   \n",
       "4       8                   Bouken Ou Beet  6.98   \n",
       "\n",
       "                                              Genres            English name  \\\n",
       "0    Action, Adventure, Comedy, Drama, Sci-Fi, Space            Cowboy Bebop   \n",
       "1              Action, Drama, Mystery, Sci-Fi, Space  Cowboy Bebop:The Movie   \n",
       "2  Action, Sci-Fi, Adventure, Comedy, Drama, Shounen                  Trigun   \n",
       "3  Action, Mystery, Police, Supernatural, Drama, ...      Witch Hunter Robin   \n",
       "4          Adventure, Fantasy, Shounen, Supernatural  Beet the Vandel Buster   \n",
       "\n",
       "                      Japanese name   Type Episodes  \\\n",
       "0                         カウボーイビバップ     TV       26   \n",
       "1                    カウボーイビバップ 天国の扉  Movie        1   \n",
       "2                             トライガン     TV       26   \n",
       "3  Witch Hunter ROBIN (ウイッチハンターロビン)     TV       26   \n",
       "4                            冒険王ビィト     TV       52   \n",
       "\n",
       "                          Aired    Premiered  ...  Score-10   Score-9  \\\n",
       "0   Apr 3, 1998 to Apr 24, 1999  Spring 1998  ...  229170.0  182126.0   \n",
       "1                   Sep 1, 2001      Unknown  ...   30043.0   49201.0   \n",
       "2   Apr 1, 1998 to Sep 30, 1998  Spring 1998  ...   50229.0   75651.0   \n",
       "3   Jul 2, 2002 to Dec 24, 2002  Summer 2002  ...    2182.0    4806.0   \n",
       "4  Sep 30, 2004 to Sep 29, 2005    Fall 2004  ...     312.0     529.0   \n",
       "\n",
       "    Score-8  Score-7  Score-6 Score-5 Score-4  Score-3  Score-2  Score-1  \n",
       "0  131625.0  62330.0  20688.0  8904.0  3184.0   1357.0    741.0   1580.0  \n",
       "1   49505.0  22632.0   5805.0  1877.0   577.0    221.0    109.0    379.0  \n",
       "2   86142.0  49432.0  15376.0  5838.0  1965.0    664.0    316.0    533.0  \n",
       "3   10128.0  11618.0   5709.0  2920.0  1083.0    353.0    164.0    131.0  \n",
       "4    1242.0   1713.0   1068.0   634.0   265.0     83.0     50.0     27.0  \n",
       "\n",
       "[5 rows x 35 columns]"
      ]
     },
     "execution_count": 7,
     "metadata": {},
     "output_type": "execute_result"
    }
   ],
   "source": [
    "print(anime_main.shape)\n",
    "print(anime_main.columns.unique())\n",
    "anime_main.head()"
   ]
  },
  {
   "cell_type": "code",
   "execution_count": 8,
   "id": "e69a94be",
   "metadata": {},
   "outputs": [
    {
     "name": "stdout",
     "output_type": "stream",
     "text": [
      "(57633278, 3)\n",
      "Index(['user_id', 'anime_id', 'rating'], dtype='object')\n"
     ]
    },
    {
     "data": {
      "text/html": [
       "<div>\n",
       "<style scoped>\n",
       "    .dataframe tbody tr th:only-of-type {\n",
       "        vertical-align: middle;\n",
       "    }\n",
       "\n",
       "    .dataframe tbody tr th {\n",
       "        vertical-align: top;\n",
       "    }\n",
       "\n",
       "    .dataframe thead th {\n",
       "        text-align: right;\n",
       "    }\n",
       "</style>\n",
       "<table border=\"1\" class=\"dataframe\">\n",
       "  <thead>\n",
       "    <tr style=\"text-align: right;\">\n",
       "      <th></th>\n",
       "      <th>user_id</th>\n",
       "      <th>anime_id</th>\n",
       "      <th>rating</th>\n",
       "    </tr>\n",
       "  </thead>\n",
       "  <tbody>\n",
       "    <tr>\n",
       "      <th>0</th>\n",
       "      <td>0</td>\n",
       "      <td>430</td>\n",
       "      <td>9</td>\n",
       "    </tr>\n",
       "    <tr>\n",
       "      <th>1</th>\n",
       "      <td>0</td>\n",
       "      <td>1004</td>\n",
       "      <td>5</td>\n",
       "    </tr>\n",
       "    <tr>\n",
       "      <th>2</th>\n",
       "      <td>0</td>\n",
       "      <td>3010</td>\n",
       "      <td>7</td>\n",
       "    </tr>\n",
       "    <tr>\n",
       "      <th>3</th>\n",
       "      <td>0</td>\n",
       "      <td>570</td>\n",
       "      <td>7</td>\n",
       "    </tr>\n",
       "    <tr>\n",
       "      <th>4</th>\n",
       "      <td>0</td>\n",
       "      <td>2762</td>\n",
       "      <td>9</td>\n",
       "    </tr>\n",
       "  </tbody>\n",
       "</table>\n",
       "</div>"
      ],
      "text/plain": [
       "   user_id  anime_id  rating\n",
       "0        0       430       9\n",
       "1        0      1004       5\n",
       "2        0      3010       7\n",
       "3        0       570       7\n",
       "4        0      2762       9"
      ]
     },
     "execution_count": 8,
     "metadata": {},
     "output_type": "execute_result"
    }
   ],
   "source": [
    "print(anime_ratings.shape)\n",
    "print(anime_ratings.columns.unique())\n",
    "anime_ratings.head()"
   ]
  },
  {
   "attachments": {},
   "cell_type": "markdown",
   "id": "2f7eb822",
   "metadata": {},
   "source": [
    "## Dataset Cleaning and Merging"
   ]
  },
  {
   "cell_type": "code",
   "execution_count": 9,
   "id": "e70a5364",
   "metadata": {},
   "outputs": [
    {
     "name": "stdout",
     "output_type": "stream",
     "text": [
      "(17562, 6)\n",
      "Index(['MAL_ID', 'Name', 'Score', 'Genres', 'Type', 'Episodes'], dtype='object')\n"
     ]
    },
    {
     "data": {
      "text/html": [
       "<div>\n",
       "<style scoped>\n",
       "    .dataframe tbody tr th:only-of-type {\n",
       "        vertical-align: middle;\n",
       "    }\n",
       "\n",
       "    .dataframe tbody tr th {\n",
       "        vertical-align: top;\n",
       "    }\n",
       "\n",
       "    .dataframe thead th {\n",
       "        text-align: right;\n",
       "    }\n",
       "</style>\n",
       "<table border=\"1\" class=\"dataframe\">\n",
       "  <thead>\n",
       "    <tr style=\"text-align: right;\">\n",
       "      <th></th>\n",
       "      <th>MAL_ID</th>\n",
       "      <th>Name</th>\n",
       "      <th>Score</th>\n",
       "      <th>Genres</th>\n",
       "      <th>Type</th>\n",
       "      <th>Episodes</th>\n",
       "    </tr>\n",
       "  </thead>\n",
       "  <tbody>\n",
       "    <tr>\n",
       "      <th>0</th>\n",
       "      <td>1</td>\n",
       "      <td>Cowboy Bebop</td>\n",
       "      <td>8.78</td>\n",
       "      <td>Action, Adventure, Comedy, Drama, Sci-Fi, Space</td>\n",
       "      <td>TV</td>\n",
       "      <td>26</td>\n",
       "    </tr>\n",
       "    <tr>\n",
       "      <th>1</th>\n",
       "      <td>5</td>\n",
       "      <td>Cowboy Bebop: Tengoku no Tobira</td>\n",
       "      <td>8.39</td>\n",
       "      <td>Action, Drama, Mystery, Sci-Fi, Space</td>\n",
       "      <td>Movie</td>\n",
       "      <td>1</td>\n",
       "    </tr>\n",
       "    <tr>\n",
       "      <th>2</th>\n",
       "      <td>6</td>\n",
       "      <td>Trigun</td>\n",
       "      <td>8.24</td>\n",
       "      <td>Action, Sci-Fi, Adventure, Comedy, Drama, Shounen</td>\n",
       "      <td>TV</td>\n",
       "      <td>26</td>\n",
       "    </tr>\n",
       "    <tr>\n",
       "      <th>3</th>\n",
       "      <td>7</td>\n",
       "      <td>Witch Hunter Robin</td>\n",
       "      <td>7.27</td>\n",
       "      <td>Action, Mystery, Police, Supernatural, Drama, ...</td>\n",
       "      <td>TV</td>\n",
       "      <td>26</td>\n",
       "    </tr>\n",
       "    <tr>\n",
       "      <th>4</th>\n",
       "      <td>8</td>\n",
       "      <td>Bouken Ou Beet</td>\n",
       "      <td>6.98</td>\n",
       "      <td>Adventure, Fantasy, Shounen, Supernatural</td>\n",
       "      <td>TV</td>\n",
       "      <td>52</td>\n",
       "    </tr>\n",
       "  </tbody>\n",
       "</table>\n",
       "</div>"
      ],
      "text/plain": [
       "   MAL_ID                             Name Score  \\\n",
       "0       1                     Cowboy Bebop  8.78   \n",
       "1       5  Cowboy Bebop: Tengoku no Tobira  8.39   \n",
       "2       6                           Trigun  8.24   \n",
       "3       7               Witch Hunter Robin  7.27   \n",
       "4       8                   Bouken Ou Beet  6.98   \n",
       "\n",
       "                                              Genres   Type Episodes  \n",
       "0    Action, Adventure, Comedy, Drama, Sci-Fi, Space     TV       26  \n",
       "1              Action, Drama, Mystery, Sci-Fi, Space  Movie        1  \n",
       "2  Action, Sci-Fi, Adventure, Comedy, Drama, Shounen     TV       26  \n",
       "3  Action, Mystery, Police, Supernatural, Drama, ...     TV       26  \n",
       "4          Adventure, Fantasy, Shounen, Supernatural     TV       52  "
      ]
     },
     "execution_count": 9,
     "metadata": {},
     "output_type": "execute_result"
    }
   ],
   "source": [
    "# Clean main anime dataset and keep necessary features\n",
    "anime_main = anime_main[['MAL_ID', 'Name', 'Score', 'Genres', 'Type', 'Episodes']]\n",
    "anime_main.dropna(inplace=True)\n",
    "\n",
    "print(anime_main.shape)\n",
    "print(anime_main.columns)\n",
    "anime_main.head()"
   ]
  },
  {
   "cell_type": "code",
   "execution_count": 10,
   "id": "bda1f5b6",
   "metadata": {},
   "outputs": [],
   "source": [
    "# Rename columns and merge datasets\n",
    "anime_main = anime_main.rename(columns={'MAL_ID': 'Anime ID'})\n",
    "anime_ratings = anime_ratings.rename(columns={'user_id': 'User ID', 'anime_id': 'Anime ID', 'rating': 'Rating'})\n",
    "anime_df = pd.merge(anime_main, anime_ratings, on='Anime ID')"
   ]
  },
  {
   "cell_type": "code",
   "execution_count": 11,
   "id": "a3777f19",
   "metadata": {},
   "outputs": [
    {
     "name": "stdout",
     "output_type": "stream",
     "text": [
      "(57633278, 8)\n",
      "Index(['Anime ID', 'Name', 'Score', 'Genres', 'Type', 'Episodes', 'User ID',\n",
      "       'Rating'],\n",
      "      dtype='object')\n"
     ]
    },
    {
     "data": {
      "text/html": [
       "<div>\n",
       "<style scoped>\n",
       "    .dataframe tbody tr th:only-of-type {\n",
       "        vertical-align: middle;\n",
       "    }\n",
       "\n",
       "    .dataframe tbody tr th {\n",
       "        vertical-align: top;\n",
       "    }\n",
       "\n",
       "    .dataframe thead th {\n",
       "        text-align: right;\n",
       "    }\n",
       "</style>\n",
       "<table border=\"1\" class=\"dataframe\">\n",
       "  <thead>\n",
       "    <tr style=\"text-align: right;\">\n",
       "      <th></th>\n",
       "      <th>Anime ID</th>\n",
       "      <th>Name</th>\n",
       "      <th>Score</th>\n",
       "      <th>Genres</th>\n",
       "      <th>Type</th>\n",
       "      <th>Episodes</th>\n",
       "      <th>User ID</th>\n",
       "      <th>Rating</th>\n",
       "    </tr>\n",
       "  </thead>\n",
       "  <tbody>\n",
       "    <tr>\n",
       "      <th>0</th>\n",
       "      <td>1</td>\n",
       "      <td>Cowboy Bebop</td>\n",
       "      <td>8.78</td>\n",
       "      <td>Action, Adventure, Comedy, Drama, Sci-Fi, Space</td>\n",
       "      <td>TV</td>\n",
       "      <td>26</td>\n",
       "      <td>3</td>\n",
       "      <td>9</td>\n",
       "    </tr>\n",
       "    <tr>\n",
       "      <th>1</th>\n",
       "      <td>1</td>\n",
       "      <td>Cowboy Bebop</td>\n",
       "      <td>8.78</td>\n",
       "      <td>Action, Adventure, Comedy, Drama, Sci-Fi, Space</td>\n",
       "      <td>TV</td>\n",
       "      <td>26</td>\n",
       "      <td>6</td>\n",
       "      <td>6</td>\n",
       "    </tr>\n",
       "    <tr>\n",
       "      <th>2</th>\n",
       "      <td>1</td>\n",
       "      <td>Cowboy Bebop</td>\n",
       "      <td>8.78</td>\n",
       "      <td>Action, Adventure, Comedy, Drama, Sci-Fi, Space</td>\n",
       "      <td>TV</td>\n",
       "      <td>26</td>\n",
       "      <td>14</td>\n",
       "      <td>9</td>\n",
       "    </tr>\n",
       "    <tr>\n",
       "      <th>3</th>\n",
       "      <td>1</td>\n",
       "      <td>Cowboy Bebop</td>\n",
       "      <td>8.78</td>\n",
       "      <td>Action, Adventure, Comedy, Drama, Sci-Fi, Space</td>\n",
       "      <td>TV</td>\n",
       "      <td>26</td>\n",
       "      <td>19</td>\n",
       "      <td>8</td>\n",
       "    </tr>\n",
       "    <tr>\n",
       "      <th>4</th>\n",
       "      <td>1</td>\n",
       "      <td>Cowboy Bebop</td>\n",
       "      <td>8.78</td>\n",
       "      <td>Action, Adventure, Comedy, Drama, Sci-Fi, Space</td>\n",
       "      <td>TV</td>\n",
       "      <td>26</td>\n",
       "      <td>22</td>\n",
       "      <td>9</td>\n",
       "    </tr>\n",
       "  </tbody>\n",
       "</table>\n",
       "</div>"
      ],
      "text/plain": [
       "   Anime ID          Name Score  \\\n",
       "0         1  Cowboy Bebop  8.78   \n",
       "1         1  Cowboy Bebop  8.78   \n",
       "2         1  Cowboy Bebop  8.78   \n",
       "3         1  Cowboy Bebop  8.78   \n",
       "4         1  Cowboy Bebop  8.78   \n",
       "\n",
       "                                            Genres Type Episodes  User ID  \\\n",
       "0  Action, Adventure, Comedy, Drama, Sci-Fi, Space   TV       26        3   \n",
       "1  Action, Adventure, Comedy, Drama, Sci-Fi, Space   TV       26        6   \n",
       "2  Action, Adventure, Comedy, Drama, Sci-Fi, Space   TV       26       14   \n",
       "3  Action, Adventure, Comedy, Drama, Sci-Fi, Space   TV       26       19   \n",
       "4  Action, Adventure, Comedy, Drama, Sci-Fi, Space   TV       26       22   \n",
       "\n",
       "   Rating  \n",
       "0       9  \n",
       "1       6  \n",
       "2       9  \n",
       "3       8  \n",
       "4       9  "
      ]
     },
     "execution_count": 11,
     "metadata": {},
     "output_type": "execute_result"
    }
   ],
   "source": [
    "print(anime_df.shape)\n",
    "print(anime_df.columns)\n",
    "anime_df.head()"
   ]
  },
  {
   "cell_type": "code",
   "execution_count": 12,
   "id": "9af8939a",
   "metadata": {},
   "outputs": [],
   "source": [
    "anime_sample = anime_df.sample(n=1000)"
   ]
  },
  {
   "attachments": {},
   "cell_type": "markdown",
   "id": "fad0cbd6",
   "metadata": {},
   "source": [
    "## Data Visualizations"
   ]
  },
  {
   "cell_type": "code",
   "execution_count": 13,
   "id": "8e36404c",
   "metadata": {},
   "outputs": [
    {
     "data": {
      "text/plain": [
       "<AxesSubplot:xlabel='Type', ylabel='count'>"
      ]
     },
     "execution_count": 13,
     "metadata": {},
     "output_type": "execute_result"
    },
    {
     "data": {
      "image/png": "[encoded data removed]",
      "text/plain": [
       "<Figure size 640x480 with 1 Axes>"
      ]
     },
     "metadata": {},
     "output_type": "display_data"
    }
   ],
   "source": [
    "sns.countplot(x='Type', data=anime_main, color='cyan')"
   ]
  },
  {
   "attachments": {},
   "cell_type": "markdown",
   "id": "452bdeaf",
   "metadata": {},
   "source": [
    "OVA = Original Video Animation, ONA = Original Net Animation"
   ]
  },
  {
   "cell_type": "code",
   "execution_count": 14,
   "id": "0a999960",
   "metadata": {},
   "outputs": [
    {
     "data": {
      "text/plain": [
       "<AxesSubplot:xlabel='Rating', ylabel='count'>"
      ]
     },
     "execution_count": 14,
     "metadata": {},
     "output_type": "execute_result"
    },
    {
     "data": {
      "image/png": "[encoded data removed]",
      "text/plain": [
       "<Figure size 640x480 with 1 Axes>"
      ]
     },
     "metadata": {},
     "output_type": "display_data"
    }
   ],
   "source": [
    "sns.countplot(x='Rating', data=anime_ratings, color='red')"
   ]
  },
  {
   "cell_type": "code",
   "execution_count": 15,
   "id": "c5ed40b9",
   "metadata": {},
   "outputs": [
    {
     "data": {
      "text/plain": [
       "array(['Action', 'Adventure', 'Comedy', 'Slice of Life', 'Drama',\n",
       "       'Sci-Fi', 'Samurai', 'Game', 'Harem', 'Military', 'Space', 'Music',\n",
       "       'Mecha', 'Supernatural', 'Historical', 'Mystery', 'School',\n",
       "       'Hentai', 'Fantasy', 'Ecchi', 'Horror', 'Kids', 'Sports',\n",
       "       'Dementia', 'Magic', 'Romance', 'Police', 'Psychological', 'Cars',\n",
       "       'Shounen', 'Demons', 'Parody', 'Shoujo', 'Super Power', 'Vampire',\n",
       "       'Martial Arts', 'Seinen', 'Yaoi', 'Thriller', 'Josei', 'Unknown',\n",
       "       'Shounen Ai', ' Adventure', ' Drama', ' Sci-Fi', ' Mystery',\n",
       "       ' Fantasy', ' Sports', ' Comedy', ' Cars', ' Horror', ' Shounen',\n",
       "       ' Romance', ' Supernatural', ' Military', ' Mecha', ' Dementia',\n",
       "       ' Historical', ' Magic', ' Slice of Life', ' Demons', ' Harem',\n",
       "       ' School', ' Ecchi', ' Psychological', ' Game', ' Super Power',\n",
       "       ' Hentai', None, ' Parody', ' Music', ' Space', ' Shoujo',\n",
       "       ' Josei', ' Seinen', ' Samurai', ' Martial Arts', ' Police',\n",
       "       ' Kids', ' Shounen Ai', ' Yaoi', ' Yuri', ' Vampire', ' Shoujo Ai',\n",
       "       ' Thriller'], dtype=object)"
      ]
     },
     "execution_count": 15,
     "metadata": {},
     "output_type": "execute_result"
    }
   ],
   "source": [
    "# unique Genre values\n",
    "genres = anime_main['Genres']\n",
    "genres = pd.DataFrame([sub.split(\",\") for sub in genres])\n",
    "pd.unique(genres.values.ravel('K'))"
   ]
  },
  {
   "cell_type": "code",
   "execution_count": 16,
   "id": "b872c30d",
   "metadata": {},
   "outputs": [],
   "source": [
    "# Create ID to name dictionary\n",
    "def read_item_names():\n",
    "    file_name = \"data/anime.csv\"\n",
    "    rid_to_name = {}\n",
    "    name_to_rid = {}\n",
    "    with open(file_name, encoding=\"ISO-8859-1\") as f:\n",
    "        # skip header line\n",
    "        next(f)\n",
    "        for line in f:\n",
    "            line = line.split(\",\")\n",
    "            rid_to_name[line[0]] = line[1]\n",
    "            name_to_rid[line[1]] = line[0]\n",
    "\n",
    "    return rid_to_name, name_to_rid\n",
    "\n",
    "rid_to_name, name_to_rid = read_item_names()"
   ]
  },
  {
   "attachments": {},
   "cell_type": "markdown",
   "id": "7bec2aff",
   "metadata": {},
   "source": [
    "## Grid Search / SVD"
   ]
  },
  {
   "attachments": {},
   "cell_type": "markdown",
   "id": "4b4af08e",
   "metadata": {},
   "source": [
    "Data Setup"
   ]
  },
  {
   "cell_type": "code",
   "execution_count": 49,
   "id": "9e8c0540",
   "metadata": {},
   "outputs": [],
   "source": [
    "# Sample subset of data\n",
    "svd_anime_sample = anime_df.sample(n=5000)\n",
    "svd_anime_sample = svd_anime_sample[['User ID', 'Anime ID', 'Rating']]"
   ]
  },
  {
   "cell_type": "code",
   "execution_count": 18,
   "id": "b2e964a3",
   "metadata": {},
   "outputs": [],
   "source": [
    "def create_dataset_from_df(df):\n",
    "    reader = Reader(rating_scale=(1,10))\n",
    "    return Dataset.load_from_df(df, reader)\n",
    "\n",
    "# Read into Suprise dataset\n",
    "svd_ratings_dataset =create_dataset_from_df(svd_anime_sample)\n",
    "svd_ratings_dataset = Dataset.load_from_df(svd_anime_sample, reader)"
   ]
  },
  {
   "attachments": {},
   "cell_type": "markdown",
   "id": "42a59f52",
   "metadata": {},
   "source": [
    "Grid Search"
   ]
  },
  {
   "cell_type": "code",
   "execution_count": 19,
   "id": "50c3c52a",
   "metadata": {},
   "outputs": [
    {
     "name": "stderr",
     "output_type": "stream",
     "text": [
      "[Parallel(n_jobs=-1)]: Using backend LokyBackend with 16 concurrent workers.\n",
      "[Parallel(n_jobs=-1)]: Done  10 out of  30 | elapsed:   20.1s remaining:   40.3s\n",
      "[Parallel(n_jobs=-1)]: Done  21 out of  30 | elapsed:   33.0s remaining:   14.1s\n"
     ]
    },
    {
     "name": "stdout",
     "output_type": "stream",
     "text": [
      "{'rmse': 1.5550792687899349, 'mae': 1.185241328008029}\n",
      "{'rmse': {'lr_all': 0.01, 'n_factors': 75, 'reg_all': 0.05, 'n_epochs': 100}, 'mae': {'lr_all': 0.01, 'n_factors': 75, 'reg_all': 0.05, 'n_epochs': 100}}\n"
     ]
    },
    {
     "name": "stderr",
     "output_type": "stream",
     "text": [
      "[Parallel(n_jobs=-1)]: Done  30 out of  30 | elapsed:   39.7s finished\n"
     ]
    }
   ],
   "source": [
    "# Grid search for optimal hyperparameters\n",
    "param_grid = {\n",
    "    'lr_all' : [.05, .01],\n",
    "    'n_factors' : [50, 75, 100],\n",
    "    'reg_all': [.05,.1],\n",
    "    'n_epochs' : [50, 100, 150]\n",
    "}\n",
    "gridsearch_svd = GridSearchCV(\n",
    "    SVD, \n",
    "    param_grid = param_grid, \n",
    "    n_jobs = -1, \n",
    "    joblib_verbose = 3)\n",
    "\n",
    "gridsearch_svd.fit(svd_ratings_dataset)\n",
    "\n",
    "print(gridsearch_svd.best_score)\n",
    "print(gridsearch_svd.best_params)\n"
   ]
  },
  {
   "attachments": {},
   "cell_type": "markdown",
   "id": "d25117fd",
   "metadata": {},
   "source": [
    "Training Model Instance"
   ]
  },
  {
   "cell_type": "code",
   "execution_count": 48,
   "id": "01aacd8b",
   "metadata": {},
   "outputs": [
    {
     "name": "stdout",
     "output_type": "stream",
     "text": [
      "Evaluating RMSE, MAE of algorithm SVD on 5 split(s).\n",
      "\n",
      "                  Fold 1  Fold 2  Fold 3  Fold 4  Fold 5  Mean    Std     \n",
      "RMSE (testset)    1.5616  1.5463  1.5470  1.5667  1.5613  1.5566  0.0083  \n",
      "MAE (testset)     1.1899  1.1767  1.1815  1.2030  1.1865  1.1875  0.0089  \n",
      "Fit time          6.77    6.26    6.37    6.62    6.55    6.51    0.18    \n",
      "Test time         0.05    0.04    0.04    0.04    0.04    0.04    0.00    \n"
     ]
    },
    {
     "data": {
      "text/plain": [
       "1.556595578616685"
      ]
     },
     "execution_count": 48,
     "metadata": {},
     "output_type": "execute_result"
    }
   ],
   "source": [
    "# Create model instance from grid search optimal hyperparameters\n",
    "svd_instance = gridsearch_svd.best_estimator[\"rmse\"]\n",
    "# Print Params\n",
    "# print(svd_instance.__dict__)"
   ]
  },
  {
   "attachments": {},
   "cell_type": "markdown",
   "id": "7a779bcb",
   "metadata": {},
   "source": [
    "Basic SVD Rating Prediction Recommendation System"
   ]
  },
  {
   "cell_type": "code",
   "execution_count": 21,
   "id": "5bb276c8",
   "metadata": {},
   "outputs": [],
   "source": [
    "# Appends a new user to the df for refitting and predicting\n",
    "# We need to do this because suprise does not support iterative training with SVD\n",
    "def create_predict_dataset(base_df, anime_ids, ratings):\n",
    "    predictor_df = base_df.copy()\n",
    "    for i in range(len(anime_ids)):\n",
    "        predictor_df.loc[len(predictor_df)] = [-1,anime_ids[i], ratings[i]]\n",
    "    \n",
    "    return create_dataset_from_df(predictor_df)\n"
   ]
  },
  {
   "cell_type": "code",
   "execution_count": 22,
   "id": "99bbf481",
   "metadata": {},
   "outputs": [],
   "source": [
    "\n",
    "# Displays predictions for some user ID\n",
    "# TODO: Should display name of anime\n",
    "def show_predictions(model_instance, user_id, anime_ids, ratings_df):\n",
    "    for anime_id in anime_ids:\n",
    "        condition = (ratings_df['User ID'] == user_id) & (ratings_df['Anime ID'] == anime_id)\n",
    "        model_instance.predict(\n",
    "            user_id, \n",
    "            anime_id, \n",
    "            #ratings_df.loc[condition, 'Rating'],\n",
    "            verbose = True)\n",
    "\n",
    "# Creates a dataframe for the predictions\n",
    "def get_predictions(model_instance, user_id, anime_ids):\n",
    "\n",
    "    predict_ratings = pd.DataFrame(columns=['Anime ID', 'Rating'])\n",
    "\n",
    "    # Use suprise model predict method to get predictions\n",
    "    # This only works on userIDs that were in the training set\n",
    "    for anime_id in anime_ids:\n",
    "        prediction = model_instance.predict(\n",
    "            user_id, \n",
    "            anime_id)\n",
    "\n",
    "        predict_ratings.loc[len(predict_ratings)] = [anime_id, prediction.est]\n",
    "\n",
    "    return predict_ratings"
   ]
  },
  {
   "cell_type": "code",
   "execution_count": 23,
   "id": "f6fbe8f4",
   "metadata": {},
   "outputs": [
    {
     "name": "stdout",
     "output_type": "stream",
     "text": [
      "      User ID  Anime ID  Rating\n",
      "4507       35        64       7\n",
      "4508       35      6707       9\n",
      "4509       35      6547       8\n",
      "4510       35      4898       9\n",
      "user: 35         item: 64         r_ui = None   est = 7.49   {'was_impossible': False}\n",
      "user: 35         item: 6707       r_ui = None   est = 7.68   {'was_impossible': False}\n",
      "user: 35         item: 6547       r_ui = None   est = 8.08   {'was_impossible': False}\n",
      "user: 35         item: 4898       r_ui = None   est = 7.84   {'was_impossible': False}\n"
     ]
    }
   ],
   "source": [
    "print(anime_ratings[anime_ratings['User ID'] == 35])\n",
    "show_predictions(svd_instance, 35, [64, 6707, 6547, 4898], svd_anime_sample)"
   ]
  },
  {
   "cell_type": "code",
   "execution_count": 24,
   "id": "b7321245",
   "metadata": {},
   "outputs": [],
   "source": [
    "# Create predictions for a mew user provided their anime ratings\n",
    "# This refits the entire model with the new user appended onto the base df with a user ID of -1\n",
    "\n",
    "def create_predictions_for_user(model_instance, base_df, anime_ids, ratings):\n",
    "\n",
    "    # Create suprise dataset with new user\n",
    "    predict_dataset = create_predict_dataset(\n",
    "        base_df, \n",
    "        anime_ids,\n",
    "        ratings)\n",
    "\n",
    "    # Train on entire dataset\n",
    "    # TODO: Should we do this?\n",
    "    model_instance.fit(predict_dataset.build_full_trainset())\n",
    "    # model_instance.fit(full_trainset)\n",
    "\n",
    "    # Create a series of all the anime IDs that want to be predicted (all of them, more or less)\n",
    "    predict_anime_ids = base_df['Anime ID'];\n",
    "    predict_anime_ids = predict_anime_ids.append(pd.Series(anime_ids)).unique()\n",
    "    \n",
    "    # Show predictions for the known ratings\n",
    "    show_predictions(model_instance, -1, anime_ids, svd_anime_sample)\n",
    "\n",
    "    # Generate and return predictions for all the anime\n",
    "    return get_predictions(model_instance, -1, predict_anime_ids)\n",
    "\n",
    "# Print out information for top N predictions\n",
    "def display_top_n(predictions, n):\n",
    "    # Sort descending\n",
    "    predictions = predictions.sort_values('Rating', ascending=False)\n",
    "    \n",
    "    print(predictions)\n",
    "    print(\"Top {} predicted scores\".format(n))\n",
    "    # Print information about top n\n",
    "    for index, row in predictions.head(n).iterrows():\n",
    "        anime_id = row['Anime ID']\n",
    "        rating = row['Rating']\n",
    "        name = rid_to_name[str(int(anime_id))]\n",
    "        print(\"Anime: {} Rating: {} Name: {}\".format(anime_id, rating, name))\n"
   ]
  },
  {
   "attachments": {},
   "cell_type": "markdown",
   "id": "bfb1c432",
   "metadata": {},
   "source": [
    "Tests?"
   ]
  },
  {
   "cell_type": "code",
   "execution_count": 32,
   "id": "31fbdef9",
   "metadata": {},
   "outputs": [
    {
     "name": "stderr",
     "output_type": "stream",
     "text": [
      "C:\\Users\\aryan\\AppData\\Local\\Temp\\ipykernel_50752\\2260177929.py:19: FutureWarning: The series.append method is deprecated and will be removed from pandas in a future version. Use pandas.concat instead.\n",
      "  predict_anime_ids = predict_anime_ids.append(pd.Series(anime_ids)).unique()\n"
     ]
    },
    {
     "name": "stdout",
     "output_type": "stream",
     "text": [
      "user: -1         item: 4224       r_ui = None   est = 9.61   {'was_impossible': False}\n",
      "user: -1         item: 23273      r_ui = None   est = 8.02   {'was_impossible': False}\n",
      "user: -1         item: 1723       r_ui = None   est = 8.96   {'was_impossible': False}\n",
      "user: -1         item: 32281      r_ui = None   est = 8.94   {'was_impossible': False}\n",
      "user: -1         item: 37450      r_ui = None   est = 9.87   {'was_impossible': False}\n",
      "user: -1         item: 2167       r_ui = None   est = 8.91   {'was_impossible': False}\n",
      "user: -1         item: 121        r_ui = None   est = 4.69   {'was_impossible': False}\n",
      "      Anime ID    Rating\n",
      "1219   37450.0  9.873519\n",
      "221     5114.0  9.768874\n",
      "1107   39112.0  9.625468\n",
      "236     4224.0  9.613840\n",
      "665    38524.0  9.578468\n",
      "...        ...       ...\n",
      "2313   31634.0  4.747604\n",
      "2507   16608.0  4.730394\n",
      "669      121.0  4.686380\n",
      "2412   33394.0  4.648334\n",
      "5395   31578.0  4.637466\n",
      "\n",
      "[6384 rows x 2 columns]\n",
      "Top 25 predicted scores\n",
      "Anime: 37450.0 Rating: 9.873518820078202 Name: Seishun Buta Yarou wa Bunny Girl Senpai no Yume wo Minai\n",
      "Anime: 5114.0 Rating: 9.76887354683842 Name: Fullmetal Alchemist: Brotherhood\n",
      "Anime: 39112.0 Rating: 9.62546776623825 Name: Kawaki wo Ameku\n",
      "Anime: 4224.0 Rating: 9.613840190966911 Name: Toradora!\n",
      "Anime: 38524.0 Rating: 9.578467582987672 Name: Shingeki no Kyojin Season 3 Part 2\n",
      "Anime: 4918.0 Rating: 9.468541158839738 Name: xxxHOLiC Shunmuki\n",
      "Anime: 199.0 Rating: 9.457742919918804 Name: Sen to Chihiro no Kamikakushi\n",
      "Anime: 24701.0 Rating: 9.445354514503695 Name: Mushishi Zoku Shou 2nd Season\n",
      "Anime: 33095.0 Rating: 9.419342792248557 Name: Shouwa Genroku Rakugo Shinjuu: Sukeroku Futatabi-hen\n",
      "Anime: 22297.0 Rating: 9.387589912215892 Name: Fate/stay night: Unlimited Blade Works\n",
      "Anime: 1.0 Rating: 9.38098743539307 Name: Cowboy Bebop\n",
      "Anime: 7785.0 Rating: 9.320808520290052 Name: Yojouhan Shinwa Taikei\n",
      "Anime: 1520.0 Rating: 9.320729145226958 Name: Black Jack\n",
      "Anime: 38329.0 Rating: 9.290350455259091 Name: Seishun Buta Yarou wa Yumemiru Shoujo no Yume wo Minai\n",
      "Anime: 5341.0 Rating: 9.26120651852141 Name: Ookami to Koushinryou II\n",
      "Anime: 4155.0 Rating: 9.260460908064623 Name: One Piece Film: Strong World\n",
      "Anime: 32948.0 Rating: 9.235471746084055 Name: Fune wo Amu\n",
      "Anime: 457.0 Rating: 9.229028286082041 Name: Mushishi\n",
      "Anime: 37869.0 Rating: 9.223485646318254 Name: BanG Dream! 2nd Season\n",
      "Anime: 25537.0 Rating: 9.196569690564417 Name: Fate/stay night Movie: Heaven's Feel - I. Presage Flower\n",
      "Anime: 80.0 Rating: 9.19082310431183 Name: Mobile Suit Gundam\n",
      "Anime: 37779.0 Rating: 9.14220282704862 Name: Yakusoku no Neverland\n",
      "Anime: 820.0 Rating: 9.10977903510495 Name: Ginga Eiyuu Densetsu\n",
      "Anime: 3901.0 Rating: 9.090244896039367 Name: Baccano! Specials\n",
      "Anime: 38450.0 Rating: 9.067461660108654 Name: Mo Dao Zu Shi 2nd Season\n"
     ]
    }
   ],
   "source": [
    "# User 1 \n",
    "# Drama / romance\n",
    "\n",
    "user_1_anime_ids = [4224, 23273, 1723, 32281, 37450, 2167, 121]\n",
    "user_1_ratings = [10, 8, 9, 9, 10, 9, 4]\n",
    "\n",
    "# No randomness between each fit\n",
    "svd_instance.random_state = 1\n",
    "\n",
    "user_1_predictions = create_predictions_for_user(\n",
    "    svd_instance,\n",
    "    svd_anime_sample,\n",
    "    user_1_anime_ids,\n",
    "    user_1_ratings\n",
    "    )\n",
    "\n",
    "display_top_n(user_1_predictions, 25)"
   ]
  },
  {
   "cell_type": "code",
   "execution_count": 31,
   "id": "46925b46",
   "metadata": {},
   "outputs": [
    {
     "name": "stderr",
     "output_type": "stream",
     "text": [
      "C:\\Users\\aryan\\AppData\\Local\\Temp\\ipykernel_50752\\2260177929.py:19: FutureWarning: The series.append method is deprecated and will be removed from pandas in a future version. Use pandas.concat instead.\n",
      "  predict_anime_ids = predict_anime_ids.append(pd.Series(anime_ids)).unique()\n"
     ]
    },
    {
     "name": "stdout",
     "output_type": "stream",
     "text": [
      "user: -1         item: 114        r_ui = None   est = 8.99   {'was_impossible': False}\n",
      "user: -1         item: 31964      r_ui = None   est = 9.73   {'was_impossible': False}\n",
      "user: -1         item: 32051      r_ui = None   est = 8.08   {'was_impossible': False}\n",
      "user: -1         item: 34134      r_ui = None   est = 8.92   {'was_impossible': False}\n",
      "user: -1         item: 38000      r_ui = None   est = 9.07   {'was_impossible': False}\n",
      "      Anime ID    Rating\n",
      "429    31964.0  9.728041\n",
      "1106     820.0  9.696133\n",
      "221     5114.0  9.643844\n",
      "1478    6594.0  9.632469\n",
      "458     4565.0  9.598295\n",
      "...        ...       ...\n",
      "1432   19315.0  5.663073\n",
      "3725   32294.0  5.656907\n",
      "1531    1639.0  5.647443\n",
      "2951   30705.0  5.573589\n",
      "3927    3287.0  5.537984\n",
      "\n",
      "[6384 rows x 2 columns]\n",
      "Top 25 predicted scores\n",
      "Anime: 31964.0 Rating: 9.72804083399295 Name: Boku no Hero Academia\n",
      "Anime: 820.0 Rating: 9.696133194342366 Name: Ginga Eiyuu Densetsu\n",
      "Anime: 5114.0 Rating: 9.643844251534121 Name: Fullmetal Alchemist: Brotherhood\n",
      "Anime: 6594.0 Rating: 9.632469178134102 Name: Katanagatari\n",
      "Anime: 4565.0 Rating: 9.598295442156623 Name: Tengen Toppa Gurren Lagann Movie 2: Lagann-hen\n",
      "Anime: 28957.0 Rating: 9.541657114889762 Name: Mushishi Zoku Shou: Suzu no Shizuku\n",
      "Anime: 25313.0 Rating: 9.529875667613727 Name: Gintama': Futon ni Haitte kara Buki Nokoshi ni Kizuite Neru ni Nerenai Toki mo Aru\n",
      "Anime: 9253.0 Rating: 9.524287101167328 Name: Steins;Gate\n",
      "Anime: 39112.0 Rating: 9.4698043246841 Name: Kawaki wo Ameku\n",
      "Anime: 36862.0 Rating: 9.468024834361778 Name: Made in Abyss Movie 3: Fukaki Tamashii no Reimei\n",
      "Anime: 38329.0 Rating: 9.463283242864723 Name: Seishun Buta Yarou wa Yumemiru Shoujo no Yume wo Minai\n",
      "Anime: 38524.0 Rating: 9.457965208332228 Name: Shingeki no Kyojin Season 3 Part 2\n",
      "Anime: 4155.0 Rating: 9.45651437909669 Name: One Piece Film: Strong World\n",
      "Anime: 9969.0 Rating: 9.45343696822827 Name: Gintama'\n",
      "Anime: 24701.0 Rating: 9.451372468341033 Name: Mushishi Zoku Shou 2nd Season\n",
      "Anime: 28977.0 Rating: 9.438612903361436 Name: GintamaÂ°\n",
      "Anime: 7785.0 Rating: 9.426905266623345 Name: Yojouhan Shinwa Taikei\n",
      "Anime: 801.0 Rating: 9.413112017380795 Name: Koukaku Kidoutai: Stand Alone Complex 2nd GIG\n",
      "Anime: 4181.0 Rating: 9.386957185955566 Name: Clannad: After Story\n",
      "Anime: 11577.0 Rating: 9.376199800803493 Name: Steins;Gate Movie: Fuka Ryouiki no DÃ©jÃ  vu\n",
      "Anime: 263.0 Rating: 9.368454359259031 Name: Hajime no Ippo\n",
      "Anime: 1471.0 Rating: 9.367373995516495 Name: City Hunter 2\n",
      "Anime: 32281.0 Rating: 9.36620511579275 Name: Kimi no Na wa.\n",
      "Anime: 34599.0 Rating: 9.363784845718422 Name: Made in Abyss\n",
      "Anime: 33.0 Rating: 9.336166792538192 Name: Kenpuu Denki Berserk\n"
     ]
    }
   ],
   "source": [
    "# User 1 \n",
    "# Action / Adventure\n",
    "user_2_pred = create_predictions_for_user(\n",
    "    svd_instance,\n",
    "    svd_anime_sample,\n",
    "    [114, 31964, 32051, 34134, 38000],\n",
    "    [9, 10, 8, 9, 9]\n",
    "    )\n",
    "\n",
    "display_top_n(user_2_pred, 25)"
   ]
  },
  {
   "cell_type": "code",
   "execution_count": 27,
   "id": "dd311ec2",
   "metadata": {},
   "outputs": [
    {
     "name": "stderr",
     "output_type": "stream",
     "text": [
      "C:\\Users\\aryan\\AppData\\Local\\Temp\\ipykernel_50752\\2260177929.py:19: FutureWarning: The series.append method is deprecated and will be removed from pandas in a future version. Use pandas.concat instead.\n",
      "  predict_anime_ids = predict_anime_ids.append(pd.Series(anime_ids)).unique()\n"
     ]
    },
    {
     "name": "stdout",
     "output_type": "stream",
     "text": [
      "user: -1         item: 114        r_ui = None   est = 4.09   {'was_impossible': False}\n",
      "user: -1         item: 31964      r_ui = None   est = 5.08   {'was_impossible': False}\n",
      "user: -1         item: 32051      r_ui = None   est = 4.08   {'was_impossible': False}\n",
      "user: -1         item: 34134      r_ui = None   est = 6.05   {'was_impossible': False}\n",
      "user: -1         item: 38000      r_ui = None   est = 4.36   {'was_impossible': False}\n",
      "user: -1         item: 39533      r_ui = None   est = 9.85   {'was_impossible': False}\n",
      "user: -1         item: 30346      r_ui = None   est = 9.88   {'was_impossible': False}\n",
      "user: -1         item: 44055      r_ui = None   est = 8.97   {'was_impossible': False}\n",
      "user: -1         item: 918        r_ui = None   est = 4.19   {'was_impossible': False}\n",
      "      Anime ID    Rating\n",
      "2309   30346.0  9.879264\n",
      "446    39533.0  9.847979\n",
      "6384   44055.0  8.969129\n",
      "3250   37869.0  8.474872\n",
      "167    33674.0  8.376201\n",
      "...        ...       ...\n",
      "2141    1647.0  3.860471\n",
      "3187     413.0  3.855566\n",
      "2951   30705.0  3.735276\n",
      "2313   31634.0  3.457626\n",
      "3927    3287.0  3.029303\n",
      "\n",
      "[6385 rows x 2 columns]\n",
      "Top 25 predicted scores\n",
      "Anime: 30346.0 Rating: 9.879263650514268 Name: Doukyuusei (Movie)\n",
      "Anime: 39533.0 Rating: 9.847978571496322 Name: Given\n",
      "Anime: 44055.0 Rating: 8.969128752421838 Name: Sasaki to Miyano\n",
      "Anime: 37869.0 Rating: 8.474872103699742 Name: BanG Dream! 2nd Season\n",
      "Anime: 33674.0 Rating: 8.37620149896248 Name: No Game No Life: Zero\n",
      "Anime: 38329.0 Rating: 8.302547016670044 Name: Seishun Buta Yarou wa Yumemiru Shoujo no Yume wo Minai\n",
      "Anime: 29803.0 Rating: 8.281350042718032 Name: Overlord\n",
      "Anime: 9253.0 Rating: 8.257823749195271 Name: Steins;Gate\n",
      "Anime: 7785.0 Rating: 8.248976694252434 Name: Yojouhan Shinwa Taikei\n",
      "Anime: 16498.0 Rating: 8.226298305586193 Name: Shingeki no Kyojin\n",
      "Anime: 4181.0 Rating: 8.222895051970644 Name: Clannad: After Story\n",
      "Anime: 23847.0 Rating: 8.220860499335132 Name: Yahari Ore no Seishun Love Comedy wa Machigatteiru. Zoku\n",
      "Anime: 877.0 Rating: 8.194522436614204 Name: Nana\n",
      "Anime: 32948.0 Rating: 8.18491887373246 Name: Fune wo Amu\n",
      "Anime: 513.0 Rating: 8.145601185155172 Name: Tenkuu no Shiro Laputa\n",
      "Anime: 199.0 Rating: 8.12725704497106 Name: Sen to Chihiro no Kamikakushi\n",
      "Anime: 12189.0 Rating: 8.1250277011382 Name: Hyouka\n",
      "Anime: 5420.0 Rating: 8.110020407394936 Name: Kemono no Souja Erin\n",
      "Anime: 32547.0 Rating: 8.082148606355537 Name: Non Non Biyori Repeat: Hotaru ga Tanoshinda\n",
      "Anime: 237.0 Rating: 8.075691460666384 Name: Koukyoushihen Eureka Seven\n",
      "Anime: 820.0 Rating: 8.04932236949416 Name: Ginga Eiyuu Densetsu\n",
      "Anime: 37521.0 Rating: 8.030363854641939 Name: Vinland Saga\n",
      "Anime: 4162.0 Rating: 8.027453674935964 Name: Taiho Shichau zo: Nagisa no Koutsuu Yuudou\n",
      "Anime: 263.0 Rating: 7.9979166093182466 Name: Hajime no Ippo\n",
      "Anime: 164.0 Rating: 7.996458271646269 Name: Mononoke Hime\n"
     ]
    }
   ],
   "source": [
    "# User 3 \n",
    "# Boys Love\n",
    "user_3_anime_ids = [114, 31964, 32051, 34134, 38000, 39533, 30346, 44055, 918]\n",
    "user_3_ratings = [4, 5, 4, 6, 4, 10, 10, 9, 4]\n",
    "\n",
    "user_3_predictions = create_predictions_for_user(\n",
    "    svd_instance,\n",
    "    svd_anime_sample,\n",
    "    user_3_anime_ids,\n",
    "    user_3_ratings\n",
    ")\n",
    "\n",
    "display_top_n(user_3_predictions, 25)"
   ]
  },
  {
   "attachments": {},
   "cell_type": "markdown",
   "id": "a92fea38",
   "metadata": {},
   "source": [
    "Older SVD Stuff idk what this does"
   ]
  },
  {
   "cell_type": "code",
   "execution_count": 28,
   "id": "e4145fc5",
   "metadata": {},
   "outputs": [],
   "source": [
    "# from collections import defaultdict\n",
    "\n",
    "# def get_top_n(predictions, n = 10):\n",
    "#     top_n = defaultdict(list)\n",
    "#     for uid, iid, true_r, est, _ in predictions:\n",
    "#         top_n[uid].append((iid, est))\n",
    "\n",
    "#     # Then sort the predictions for each user and retrieve the k highest ones.\n",
    "#     for uid, user_ratings in top_n.items():\n",
    "#         user_ratings.sort(key=lambda x: x[1], reverse=True)\n",
    "#         top_n[uid] = user_ratings[:n]\n",
    "\n",
    "#     return top_n"
   ]
  },
  {
   "cell_type": "code",
   "execution_count": 29,
   "id": "d266fd4d",
   "metadata": {},
   "outputs": [
    {
     "ename": "NameError",
     "evalue": "name 'anime_predictions' is not defined",
     "output_type": "error",
     "traceback": [
      "\u001b[1;31m---------------------------------------------------------------------------\u001b[0m",
      "\u001b[1;31mNameError\u001b[0m                                 Traceback (most recent call last)",
      "\u001b[1;32m~\\AppData\\Local\\Temp\\ipykernel_50752\\3069659902.py\u001b[0m in \u001b[0;36m<module>\u001b[1;34m\u001b[0m\n\u001b[1;32m----> 1\u001b[1;33m \u001b[0mtop_anime\u001b[0m \u001b[1;33m=\u001b[0m \u001b[0mget_top_n\u001b[0m\u001b[1;33m(\u001b[0m\u001b[0manime_predictions\u001b[0m\u001b[1;33m,\u001b[0m\u001b[0mn\u001b[0m\u001b[1;33m=\u001b[0m\u001b[1;36m10\u001b[0m\u001b[1;33m)\u001b[0m\u001b[1;33m\u001b[0m\u001b[1;33m\u001b[0m\u001b[0m\n\u001b[0m\u001b[0;32m      2\u001b[0m \u001b[1;33m\u001b[0m\u001b[0m\n\u001b[0;32m      3\u001b[0m \u001b[1;32mfor\u001b[0m \u001b[0muid\u001b[0m\u001b[1;33m,\u001b[0m \u001b[0muser_ratings\u001b[0m \u001b[1;32min\u001b[0m \u001b[0mtop_anime\u001b[0m\u001b[1;33m.\u001b[0m\u001b[0mitems\u001b[0m\u001b[1;33m(\u001b[0m\u001b[1;33m)\u001b[0m\u001b[1;33m:\u001b[0m\u001b[1;33m\u001b[0m\u001b[1;33m\u001b[0m\u001b[0m\n\u001b[0;32m      4\u001b[0m     \u001b[1;32mif\u001b[0m \u001b[0mlen\u001b[0m\u001b[1;33m(\u001b[0m\u001b[1;33m[\u001b[0m\u001b[0miid\u001b[0m \u001b[1;32mfor\u001b[0m \u001b[1;33m(\u001b[0m\u001b[0miid\u001b[0m\u001b[1;33m,\u001b[0m \u001b[0m_\u001b[0m\u001b[1;33m)\u001b[0m \u001b[1;32min\u001b[0m \u001b[0muser_ratings\u001b[0m\u001b[1;33m]\u001b[0m\u001b[1;33m)\u001b[0m \u001b[1;33m==\u001b[0m \u001b[1;36m10\u001b[0m\u001b[1;33m:\u001b[0m\u001b[1;33m\u001b[0m\u001b[1;33m\u001b[0m\u001b[0m\n\u001b[0;32m      5\u001b[0m         \u001b[0mprint\u001b[0m\u001b[1;33m(\u001b[0m\u001b[0muid\u001b[0m\u001b[1;33m,\u001b[0m \u001b[1;33m[\u001b[0m\u001b[0miid\u001b[0m \u001b[1;32mfor\u001b[0m \u001b[1;33m(\u001b[0m\u001b[0miid\u001b[0m\u001b[1;33m,\u001b[0m \u001b[0m_\u001b[0m\u001b[1;33m)\u001b[0m \u001b[1;32min\u001b[0m \u001b[0muser_ratings\u001b[0m\u001b[1;33m]\u001b[0m\u001b[1;33m)\u001b[0m\u001b[1;33m\u001b[0m\u001b[1;33m\u001b[0m\u001b[0m\n",
      "\u001b[1;31mNameError\u001b[0m: name 'anime_predictions' is not defined"
     ]
    }
   ],
   "source": [
    "# top_anime = get_top_n(anime_predictions,n=10)\n",
    "\n",
    "# for uid, user_ratings in top_anime.items():\n",
    "#     if len([iid for (iid, _) in user_ratings]) == 10:\n",
    "#         print(uid, [iid for (iid, _) in user_ratings])"
   ]
  },
  {
   "cell_type": "code",
   "execution_count": null,
   "id": "2cf1b89f",
   "metadata": {},
   "outputs": [],
   "source": [
    "# user_id = -1\n",
    "# anime_ids = []\n",
    "# for uid, user_ratings in top_anime.items():\n",
    "#     if len([iid for (iid, _) in user_ratings]) == 10:\n",
    "#         user_id = uid\n",
    "#         anime_ids = [iid for (iid, _) in user_ratings]\n",
    "#         break\n",
    "# print(user_id, anime_ids)\n"
   ]
  },
  {
   "cell_type": "code",
   "execution_count": null,
   "id": "96ed04a6",
   "metadata": {},
   "outputs": [],
   "source": [
    "# for anime_id in anime_ids:\n",
    "#     print(anime_main.loc[anime_main['Anime ID'] == anime_id]['Name'].to_string(index=False))"
   ]
  },
  {
   "attachments": {},
   "cell_type": "markdown",
   "id": "83648f46",
   "metadata": {},
   "source": [
    "## KNN "
   ]
  },
  {
   "cell_type": "code",
   "execution_count": 37,
   "id": "733fbe83",
   "metadata": {},
   "outputs": [],
   "source": [
    "knn_anime_sample = anime_df.sample(n=5000)[['User ID', 'Anime ID', 'Rating']]\n",
    "\n",
    "reader = Reader(line_format = 'user item rating', sep='')\n",
    "knn_anime_data = Dataset.load_from_df(knn_anime_sample, reader)\n",
    "\n",
    "knn_anime_trainset = knn_anime_data.build_full_trainset()\n",
    "knn_anime_testset = knn_anime_trainset.build_anti_testset()"
   ]
  },
  {
   "cell_type": "code",
   "execution_count": 41,
   "id": "82b38078",
   "metadata": {},
   "outputs": [
    {
     "name": "stdout",
     "output_type": "stream",
     "text": [
      "Estimating biases using als...\n",
      "Computing the msd similarity matrix...\n",
      "Done computing similarity matrix.\n"
     ]
    }
   ],
   "source": [
    "simulation_variables = {\"Name\" : \"pearson_baseline\", \"user_based\" : False}\n",
    "knn_baseline = KNNBaseline(sim_options = simulation_variables)\n",
    "knn_baseline.fit(knn_anime_trainset)\n",
    "\n",
    "anime_name = \"Cowboy Bebop\"\n",
    "anime_raw_id = int(name_to_rid[anime_name])\n",
    "anime_inner_id = knn_baseline.trainset.to_inner_iid(anime_raw_id)\n",
    "\n",
    "anime_neighbors = knn_baseline.get_neighbors(anime_inner_id, k=10)\n",
    "\n",
    "anime_neighbors = (\n",
    "    knn_baseline.trainset.to_raw_iid(inner_id) for inner_id in anime_neighbors\n",
    ")\n",
    "\n",
    "anime_neighbors = (rid_to_name[str(rid)] for rid in anime_neighbors)"
   ]
  },
  {
   "cell_type": "code",
   "execution_count": 42,
   "id": "e71a7fde",
   "metadata": {},
   "outputs": [
    {
     "name": "stdout",
     "output_type": "stream",
     "text": [
      "The 10 nearest neighbors of Cowboy Bebop are:\n",
      "Mezzo Forte\n",
      "Zoids Fuzors\n",
      "Fate/Zero\n",
      "Kiniro no Corda: Secondo Passo\n",
      "Mirai Nikki\n",
      "Mononoke Hime\n",
      "Wotaku ni Koi wa Muzukashii\n",
      "Bleach Movie 1: Memories of Nobody\n",
      "Mahou no Stage Fancy Lala\n",
      "Steins;Gate 0\n"
     ]
    }
   ],
   "source": [
    "print(\"The 10 nearest neighbors of\", anime_name, \"are:\")\n",
    "for anime in anime_neighbors:\n",
    "    print(anime)"
   ]
  },
  {
   "attachments": {},
   "cell_type": "markdown",
   "id": "2eafe5dd",
   "metadata": {},
   "source": [
    "## Cross Validation"
   ]
  },
  {
   "cell_type": "code",
   "execution_count": 45,
   "id": "ffa04602",
   "metadata": {},
   "outputs": [
    {
     "name": "stdout",
     "output_type": "stream",
     "text": [
      "2.9907821892542756\n"
     ]
    }
   ],
   "source": [
    "knn_basic = KNNBasic(sim_options = {'name':'pearson','user_based':True})\n",
    "\n",
    "cv_knn_baseline = cross_validate(knn_basic, knn_anime_data, n_jobs=-1)\n",
    "print(np.mean(cv_knn_baseline['test_rmse']))"
   ]
  },
  {
   "cell_type": "code",
   "execution_count": 46,
   "id": "5968a38b",
   "metadata": {},
   "outputs": [
    {
     "data": {
      "text/plain": [
       "{'test_rmse': array([2.98546479, 2.99583044, 2.96293773, 3.05908483, 2.95059316]),\n",
       " 'test_mae': array([2.645, 2.657, 2.607, 2.73 , 2.614]),\n",
       " 'fit_time': (0.43232035636901855,\n",
       "  0.4418449401855469,\n",
       "  0.41533398628234863,\n",
       "  0.4521176815032959,\n",
       "  0.4691200256347656),\n",
       " 'test_time': (0.0075299739837646484,\n",
       "  0.0059986114501953125,\n",
       "  0.00792551040649414,\n",
       "  0.006028175354003906,\n",
       "  0.006009578704833984)}"
      ]
     },
     "execution_count": 46,
     "metadata": {},
     "output_type": "execute_result"
    }
   ],
   "source": [
    "cv_knn_baseline"
   ]
  }
 ],
 "metadata": {
  "kernelspec": {
   "display_name": "base",
   "language": "python",
   "name": "python3"
  },
  "language_info": {
   "codemirror_mode": {
    "name": "ipython",
    "version": 3
   },
   "file_extension": ".py",
   "mimetype": "text/x-python",
   "name": "python",
   "nbconvert_exporter": "python",
   "pygments_lexer": "ipython3",
   "version": "3.9.13"
  }
 },
 "nbformat": 4,
 "nbformat_minor": 5
}
