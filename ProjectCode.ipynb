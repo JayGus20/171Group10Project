{
 "cells": [
  {
   "attachments": {},
   "cell_type": "markdown",
   "id": "3975cfe6",
   "metadata": {},
   "source": [
    "# Anime Recommendation System Project"
   ]
  },
  {
   "attachments": {},
   "cell_type": "markdown",
   "id": "293017f2",
   "metadata": {},
   "source": [
    "## Imported Libraries"
   ]
  },
  {
   "attachments": {},
   "cell_type": "markdown",
   "id": "01cda693",
   "metadata": {},
   "source": [
    "#### Common Data Science Libraries"
   ]
  },
  {
   "cell_type": "code",
   "execution_count": 1,
   "id": "95126b08",
   "metadata": {},
   "outputs": [],
   "source": [
    "import numpy as np\n",
    "import pandas as pd\n",
    "\n",
    "import matplotlib.pyplot as plt\n",
    "%matplotlib inline\n",
    "import seaborn as sns"
   ]
  },
  {
   "attachments": {},
   "cell_type": "markdown",
   "id": "6bd077d4",
   "metadata": {},
   "source": [
    "#### Surprise Libary (for SVD and KNN models)"
   ]
  },
  {
   "cell_type": "code",
   "execution_count": 2,
   "id": "6365d15d",
   "metadata": {},
   "outputs": [],
   "source": [
    "from surprise.model_selection import train_test_split\n",
    "from surprise.model_selection import GridSearchCV\n",
    "from surprise.model_selection import cross_validate\n",
    "from surprise.prediction_algorithms import KNNWithMeans, KNNBasic, KNNBaseline\n",
    "from surprise.prediction_algorithms import knns\n",
    "from surprise.prediction_algorithms import SVD\n",
    "from surprise.similarities import cosine, msd, pearson\n",
    "from surprise import accuracy\n",
    "from surprise import Reader\n",
    "from surprise import Dataset"
   ]
  },
  {
   "attachments": {},
   "cell_type": "markdown",
   "id": "12b92884",
   "metadata": {},
   "source": [
    "## Data Preprocessing"
   ]
  },
  {
   "attachments": {},
   "cell_type": "markdown",
   "id": "834d8b2d",
   "metadata": {},
   "source": [
    "#### Main Anime Dataset (anime.csv)"
   ]
  },
  {
   "cell_type": "code",
   "execution_count": 3,
   "id": "5214f766",
   "metadata": {},
   "outputs": [],
   "source": [
    "anime_df = pd.read_csv(\"data/anime.csv\")"
   ]
  },
  {
   "cell_type": "code",
   "execution_count": 4,
   "id": "c4bc1205",
   "metadata": {},
   "outputs": [
    {
     "name": "stdout",
     "output_type": "stream",
     "text": [
      "(17562, 35)\n",
      "Index(['MAL_ID', 'Name', 'Score', 'Genres', 'English name', 'Japanese name',\n",
      "       'Type', 'Episodes', 'Aired', 'Premiered', 'Producers', 'Licensors',\n",
      "       'Studios', 'Source', 'Duration', 'Rating', 'Ranked', 'Popularity',\n",
      "       'Members', 'Favorites', 'Watching', 'Completed', 'On-Hold', 'Dropped',\n",
      "       'Plan to Watch', 'Score-10', 'Score-9', 'Score-8', 'Score-7', 'Score-6',\n",
      "       'Score-5', 'Score-4', 'Score-3', 'Score-2', 'Score-1'],\n",
      "      dtype='object')\n"
     ]
    },
    {
     "data": {
      "text/html": [
       "<div>\n",
       "<style scoped>\n",
       "    .dataframe tbody tr th:only-of-type {\n",
       "        vertical-align: middle;\n",
       "    }\n",
       "\n",
       "    .dataframe tbody tr th {\n",
       "        vertical-align: top;\n",
       "    }\n",
       "\n",
       "    .dataframe thead th {\n",
       "        text-align: right;\n",
       "    }\n",
       "</style>\n",
       "<table border=\"1\" class=\"dataframe\">\n",
       "  <thead>\n",
       "    <tr style=\"text-align: right;\">\n",
       "      <th></th>\n",
       "      <th>MAL_ID</th>\n",
       "      <th>Name</th>\n",
       "      <th>Score</th>\n",
       "      <th>Genres</th>\n",
       "      <th>English name</th>\n",
       "      <th>Japanese name</th>\n",
       "      <th>Type</th>\n",
       "      <th>Episodes</th>\n",
       "      <th>Aired</th>\n",
       "      <th>Premiered</th>\n",
       "      <th>...</th>\n",
       "      <th>Score-10</th>\n",
       "      <th>Score-9</th>\n",
       "      <th>Score-8</th>\n",
       "      <th>Score-7</th>\n",
       "      <th>Score-6</th>\n",
       "      <th>Score-5</th>\n",
       "      <th>Score-4</th>\n",
       "      <th>Score-3</th>\n",
       "      <th>Score-2</th>\n",
       "      <th>Score-1</th>\n",
       "    </tr>\n",
       "  </thead>\n",
       "  <tbody>\n",
       "    <tr>\n",
       "      <th>0</th>\n",
       "      <td>1</td>\n",
       "      <td>Cowboy Bebop</td>\n",
       "      <td>8.78</td>\n",
       "      <td>Action, Adventure, Comedy, Drama, Sci-Fi, Space</td>\n",
       "      <td>Cowboy Bebop</td>\n",
       "      <td>カウボーイビバップ</td>\n",
       "      <td>TV</td>\n",
       "      <td>26</td>\n",
       "      <td>Apr 3, 1998 to Apr 24, 1999</td>\n",
       "      <td>Spring 1998</td>\n",
       "      <td>...</td>\n",
       "      <td>229170</td>\n",
       "      <td>182126</td>\n",
       "      <td>131625</td>\n",
       "      <td>62330</td>\n",
       "      <td>20688</td>\n",
       "      <td>8904</td>\n",
       "      <td>3184</td>\n",
       "      <td>1357</td>\n",
       "      <td>741</td>\n",
       "      <td>1580</td>\n",
       "    </tr>\n",
       "    <tr>\n",
       "      <th>1</th>\n",
       "      <td>5</td>\n",
       "      <td>Cowboy Bebop: Tengoku no Tobira</td>\n",
       "      <td>8.39</td>\n",
       "      <td>Action, Drama, Mystery, Sci-Fi, Space</td>\n",
       "      <td>Cowboy Bebop:The Movie</td>\n",
       "      <td>カウボーイビバップ 天国の扉</td>\n",
       "      <td>Movie</td>\n",
       "      <td>1</td>\n",
       "      <td>1-Sep-01</td>\n",
       "      <td>Unknown</td>\n",
       "      <td>...</td>\n",
       "      <td>30043</td>\n",
       "      <td>49201</td>\n",
       "      <td>49505</td>\n",
       "      <td>22632</td>\n",
       "      <td>5805</td>\n",
       "      <td>1877</td>\n",
       "      <td>577</td>\n",
       "      <td>221</td>\n",
       "      <td>109</td>\n",
       "      <td>379</td>\n",
       "    </tr>\n",
       "    <tr>\n",
       "      <th>2</th>\n",
       "      <td>6</td>\n",
       "      <td>Trigun</td>\n",
       "      <td>8.24</td>\n",
       "      <td>Action, Sci-Fi, Adventure, Comedy, Drama, Shounen</td>\n",
       "      <td>Trigun</td>\n",
       "      <td>トライガン</td>\n",
       "      <td>TV</td>\n",
       "      <td>26</td>\n",
       "      <td>Apr 1, 1998 to Sep 30, 1998</td>\n",
       "      <td>Spring 1998</td>\n",
       "      <td>...</td>\n",
       "      <td>50229</td>\n",
       "      <td>75651</td>\n",
       "      <td>86142</td>\n",
       "      <td>49432</td>\n",
       "      <td>15376</td>\n",
       "      <td>5838</td>\n",
       "      <td>1965</td>\n",
       "      <td>664</td>\n",
       "      <td>316</td>\n",
       "      <td>533</td>\n",
       "    </tr>\n",
       "    <tr>\n",
       "      <th>3</th>\n",
       "      <td>7</td>\n",
       "      <td>Witch Hunter Robin</td>\n",
       "      <td>7.27</td>\n",
       "      <td>Action, Mystery, Police, Supernatural, Drama, ...</td>\n",
       "      <td>Witch Hunter Robin</td>\n",
       "      <td>Witch Hunter ROBIN (ウイッチハンターロビン)</td>\n",
       "      <td>TV</td>\n",
       "      <td>26</td>\n",
       "      <td>Jul 2, 2002 to Dec 24, 2002</td>\n",
       "      <td>Summer 2002</td>\n",
       "      <td>...</td>\n",
       "      <td>2182</td>\n",
       "      <td>4806</td>\n",
       "      <td>10128</td>\n",
       "      <td>11618</td>\n",
       "      <td>5709</td>\n",
       "      <td>2920</td>\n",
       "      <td>1083</td>\n",
       "      <td>353</td>\n",
       "      <td>164</td>\n",
       "      <td>131</td>\n",
       "    </tr>\n",
       "    <tr>\n",
       "      <th>4</th>\n",
       "      <td>8</td>\n",
       "      <td>Bouken Ou Beet</td>\n",
       "      <td>6.98</td>\n",
       "      <td>Adventure, Fantasy, Shounen, Supernatural</td>\n",
       "      <td>Beet the Vandel Buster</td>\n",
       "      <td>冒険王ビィト</td>\n",
       "      <td>TV</td>\n",
       "      <td>52</td>\n",
       "      <td>Sep 30, 2004 to Sep 29, 2005</td>\n",
       "      <td>Fall 2004</td>\n",
       "      <td>...</td>\n",
       "      <td>312</td>\n",
       "      <td>529</td>\n",
       "      <td>1242</td>\n",
       "      <td>1713</td>\n",
       "      <td>1068</td>\n",
       "      <td>634</td>\n",
       "      <td>265</td>\n",
       "      <td>83</td>\n",
       "      <td>50</td>\n",
       "      <td>27</td>\n",
       "    </tr>\n",
       "  </tbody>\n",
       "</table>\n",
       "<p>5 rows × 35 columns</p>\n",
       "</div>"
      ],
      "text/plain": [
       "   MAL_ID                             Name Score  \\\n",
       "0       1                     Cowboy Bebop  8.78   \n",
       "1       5  Cowboy Bebop: Tengoku no Tobira  8.39   \n",
       "2       6                           Trigun  8.24   \n",
       "3       7               Witch Hunter Robin  7.27   \n",
       "4       8                   Bouken Ou Beet  6.98   \n",
       "\n",
       "                                              Genres            English name  \\\n",
       "0    Action, Adventure, Comedy, Drama, Sci-Fi, Space            Cowboy Bebop   \n",
       "1              Action, Drama, Mystery, Sci-Fi, Space  Cowboy Bebop:The Movie   \n",
       "2  Action, Sci-Fi, Adventure, Comedy, Drama, Shounen                  Trigun   \n",
       "3  Action, Mystery, Police, Supernatural, Drama, ...      Witch Hunter Robin   \n",
       "4          Adventure, Fantasy, Shounen, Supernatural  Beet the Vandel Buster   \n",
       "\n",
       "                      Japanese name   Type Episodes  \\\n",
       "0                         カウボーイビバップ     TV       26   \n",
       "1                    カウボーイビバップ 天国の扉  Movie        1   \n",
       "2                             トライガン     TV       26   \n",
       "3  Witch Hunter ROBIN (ウイッチハンターロビン)     TV       26   \n",
       "4                            冒険王ビィト     TV       52   \n",
       "\n",
       "                          Aired    Premiered  ... Score-10 Score-9 Score-8  \\\n",
       "0   Apr 3, 1998 to Apr 24, 1999  Spring 1998  ...   229170  182126  131625   \n",
       "1                      1-Sep-01      Unknown  ...    30043   49201   49505   \n",
       "2   Apr 1, 1998 to Sep 30, 1998  Spring 1998  ...    50229   75651   86142   \n",
       "3   Jul 2, 2002 to Dec 24, 2002  Summer 2002  ...     2182    4806   10128   \n",
       "4  Sep 30, 2004 to Sep 29, 2005    Fall 2004  ...      312     529    1242   \n",
       "\n",
       "  Score-7 Score-6 Score-5 Score-4  Score-3  Score-2  Score-1  \n",
       "0   62330   20688    8904    3184     1357      741     1580  \n",
       "1   22632    5805    1877     577      221      109      379  \n",
       "2   49432   15376    5838    1965      664      316      533  \n",
       "3   11618    5709    2920    1083      353      164      131  \n",
       "4    1713    1068     634     265       83       50       27  \n",
       "\n",
       "[5 rows x 35 columns]"
      ]
     },
     "execution_count": 4,
     "metadata": {},
     "output_type": "execute_result"
    }
   ],
   "source": [
    "print(anime_df.shape)\n",
    "print(anime_df.columns.unique())\n",
    "anime_df.head()"
   ]
  },
  {
   "attachments": {},
   "cell_type": "markdown",
   "id": "f7068e1f",
   "metadata": {},
   "source": [
    "#### Anime Ratings Dataset (rating_complete.csv)"
   ]
  },
  {
   "cell_type": "code",
   "execution_count": 5,
   "id": "30fc7799",
   "metadata": {},
   "outputs": [],
   "source": [
    "ratings_df = pd.read_csv(\"data/rating_complete.csv\")"
   ]
  },
  {
   "cell_type": "code",
   "execution_count": 6,
   "id": "e69a94be",
   "metadata": {},
   "outputs": [
    {
     "name": "stdout",
     "output_type": "stream",
     "text": [
      "(57633278, 3)\n",
      "Index(['user_id', 'anime_id', 'rating'], dtype='object')\n"
     ]
    },
    {
     "data": {
      "text/html": [
       "<div>\n",
       "<style scoped>\n",
       "    .dataframe tbody tr th:only-of-type {\n",
       "        vertical-align: middle;\n",
       "    }\n",
       "\n",
       "    .dataframe tbody tr th {\n",
       "        vertical-align: top;\n",
       "    }\n",
       "\n",
       "    .dataframe thead th {\n",
       "        text-align: right;\n",
       "    }\n",
       "</style>\n",
       "<table border=\"1\" class=\"dataframe\">\n",
       "  <thead>\n",
       "    <tr style=\"text-align: right;\">\n",
       "      <th></th>\n",
       "      <th>user_id</th>\n",
       "      <th>anime_id</th>\n",
       "      <th>rating</th>\n",
       "    </tr>\n",
       "  </thead>\n",
       "  <tbody>\n",
       "    <tr>\n",
       "      <th>0</th>\n",
       "      <td>0</td>\n",
       "      <td>430</td>\n",
       "      <td>9</td>\n",
       "    </tr>\n",
       "    <tr>\n",
       "      <th>1</th>\n",
       "      <td>0</td>\n",
       "      <td>1004</td>\n",
       "      <td>5</td>\n",
       "    </tr>\n",
       "    <tr>\n",
       "      <th>2</th>\n",
       "      <td>0</td>\n",
       "      <td>3010</td>\n",
       "      <td>7</td>\n",
       "    </tr>\n",
       "    <tr>\n",
       "      <th>3</th>\n",
       "      <td>0</td>\n",
       "      <td>570</td>\n",
       "      <td>7</td>\n",
       "    </tr>\n",
       "    <tr>\n",
       "      <th>4</th>\n",
       "      <td>0</td>\n",
       "      <td>2762</td>\n",
       "      <td>9</td>\n",
       "    </tr>\n",
       "  </tbody>\n",
       "</table>\n",
       "</div>"
      ],
      "text/plain": [
       "   user_id  anime_id  rating\n",
       "0        0       430       9\n",
       "1        0      1004       5\n",
       "2        0      3010       7\n",
       "3        0       570       7\n",
       "4        0      2762       9"
      ]
     },
     "execution_count": 6,
     "metadata": {},
     "output_type": "execute_result"
    }
   ],
   "source": [
    "print(ratings_df.shape)\n",
    "print(ratings_df.columns.unique())\n",
    "ratings_df.head()"
   ]
  },
  {
   "attachments": {},
   "cell_type": "markdown",
   "id": "2f7eb822",
   "metadata": {},
   "source": [
    "#### Dataset Cleaning"
   ]
  },
  {
   "cell_type": "code",
   "execution_count": 8,
   "id": "569129e3",
   "metadata": {},
   "outputs": [
    {
     "name": "stdout",
     "output_type": "stream",
     "text": [
      "Before:\n",
      "(17562, 35)\n",
      "(57633278, 3)\n",
      "\n",
      "After:\n",
      "(17562, 35)\n",
      "(57633278, 3)\n"
     ]
    }
   ],
   "source": [
    "print(\"Before:\")\n",
    "print(anime_df.shape)\n",
    "print(ratings_df.shape)\n",
    "\n",
    "anime_df.dropna(inplace=True)\n",
    "ratings_df.dropna(inplace=True)\n",
    "\n",
    "print(\"\\nAfter:\")\n",
    "print(anime_df.shape)\n",
    "print(ratings_df.shape)"
   ]
  },
  {
   "attachments": {},
   "cell_type": "markdown",
   "id": "b34225c4",
   "metadata": {},
   "source": [
    "#### CSV for mapping Name to ID used by app.py (id_to_name.csv)"
   ]
  },
  {
   "cell_type": "code",
   "execution_count": 7,
   "id": "fc1b9589",
   "metadata": {},
   "outputs": [],
   "source": [
    "name_to_id_df = anime_df[['MAL_ID', 'Name', 'English name']]\n",
    "name_to_id_df.to_csv('data/id_to_name.csv', index=False)"
   ]
  },
  {
   "attachments": {},
   "cell_type": "markdown",
   "id": "36bec1f1",
   "metadata": {},
   "source": [
    "#### Dictionaries for Anime ID and Name Mappings"
   ]
  },
  {
   "cell_type": "code",
   "execution_count": 28,
   "id": "b872c30d",
   "metadata": {},
   "outputs": [],
   "source": [
    "# Create ID to name dictionary\n",
    "def read_item_names():\n",
    "    file_name = \"data/anime.csv\"\n",
    "    rid_to_name = {}\n",
    "    name_to_rid = {}\n",
    "    with open(file_name, encoding=\"ISO-8859-1\") as f:\n",
    "        # skip header line\n",
    "        next(f)\n",
    "        for line in f:\n",
    "            line = line.split(\",\")\n",
    "            rid_to_name[line[0]] = line[1]\n",
    "            name_to_rid[line[1]] = line[0]\n",
    "\n",
    "    return rid_to_name, name_to_rid\n",
    "\n",
    "rid_to_name, name_to_rid = read_item_names()"
   ]
  },
  {
   "attachments": {},
   "cell_type": "markdown",
   "id": "fad0cbd6",
   "metadata": {},
   "source": [
    "## Data Exploratory Analysis"
   ]
  },
  {
   "cell_type": "code",
   "execution_count": 33,
   "id": "2ab6ec75",
   "metadata": {},
   "outputs": [
    {
     "name": "stdout",
     "output_type": "stream",
     "text": [
      "Number of rated anime: 16872\n",
      "Total number of anime: 17562\n",
      "Percentage of rated anime: 96.07%\n"
     ]
    }
   ],
   "source": [
    "ratings_counts = ratings_df['anime_id'].value_counts()\n",
    "print(f'Number of rated anime: {len(ratings_counts)}')\n",
    "print(f'Total number of anime: {len(anime_df)}')\n",
    "print(f'Percentage of rated anime: {(len(ratings_counts) / len(anime_df) * 100):.2f}%')"
   ]
  },
  {
   "cell_type": "code",
   "execution_count": 34,
   "id": "0a999960",
   "metadata": {},
   "outputs": [
    {
     "name": "stdout",
     "output_type": "stream",
     "text": [
      "Rating Counts:\n"
     ]
    },
    {
     "data": {
      "text/plain": [
       "8     14642156\n",
       "7     13325549\n",
       "9      9773857\n",
       "6      6849293\n",
       "10     6716048\n",
       "5      3436250\n",
       "4      1455102\n",
       "3       696048\n",
       "2       405556\n",
       "1       333419\n",
       "Name: rating, dtype: int64"
      ]
     },
     "execution_count": 34,
     "metadata": {},
     "output_type": "execute_result"
    },
    {
     "data": {
      "image/png": "[encoded data removed]",
      "text/plain": [
       "<Figure size 640x480 with 1 Axes>"
      ]
     },
     "metadata": {},
     "output_type": "display_data"
    }
   ],
   "source": [
    "rating_values = ratings_df['rating'].unique()\n",
    "plt.bar(rating_counts.index, rating_counts)\n",
    "plt.xlabel(\"Rating\")\n",
    "plt.xticks(rating_values)\n",
    "plt.ylabel(\"Frequency (in millions)\")\n",
    "\n",
    "print(\"Rating Counts:\")\n",
    "ratings_df['rating'].value_counts()"
   ]
  },
  {
   "cell_type": "code",
   "execution_count": 35,
   "id": "2186d4cb",
   "metadata": {},
   "outputs": [],
   "source": [
    "# returns bounds to be considered outlier for a distribution based on IQR method\n",
    "def iqr_bounds(value_counts):\n",
    "    quartiles = np.percentile(value_counts, [25, 50, 75])\n",
    "    iqr = quartiles[2] - quartiles[0]\n",
    "    lower = quartiles[0] - 1.5 * iqr\n",
    "    upper = quartiles[2] + 1.5 * iqr\n",
    "    return lower, upper\n",
    "\n",
    "# plots both a histogram and boxplot for user ratings per anime and user in a 4x4 grid\n",
    "# contains an outliers parameter to keep/remove outliers from the distribution\n",
    "def plot_distributions(df, outliers):\n",
    "    fig, axs = plt.subplots(2, 2, figsize=(8, 8))\n",
    "    fig.tight_layout(pad=5)\n",
    "\n",
    "    x_labels = [\"Ratings Count Per Anime\", \"Ratings Count Per User\"]\n",
    "\n",
    "    for idx, column in enumerate(['anime_id', 'user_id']):\n",
    "        value_counts = df[column].value_counts()\n",
    "        lower, upper = iqr_bounds(value_counts)\n",
    "\n",
    "        if not outliers:\n",
    "            value_counts = value_counts[(value_counts >= lower) & (value_counts <= upper)]\n",
    "\n",
    "        axs[0, idx].hist(value_counts, bins=50, edgecolor = \"black\")\n",
    "        axs[0, idx].set_xlabel(x_labels[idx])\n",
    "        axs[0, idx].set_ylabel(\"Frequency\")\n",
    "\n",
    "        axs[1, idx].boxplot(value_counts, vert=False)\n",
    "        axs[1, idx].set_xlabel(x_labels[idx])\n",
    "        axs[1, idx].set_yticks([])"
   ]
  },
  {
   "attachments": {},
   "cell_type": "markdown",
   "id": "4d5c1a59",
   "metadata": {},
   "source": [
    "#### Ratings Distributions with Outliers"
   ]
  },
  {
   "cell_type": "code",
   "execution_count": 24,
   "id": "d0289f04",
   "metadata": {},
   "outputs": [
    {
     "data": {
      "image/png": "[encoded data removed]",
      "text/plain": [
       "<Figure size 800x800 with 4 Axes>"
      ]
     },
     "metadata": {},
     "output_type": "display_data"
    }
   ],
   "source": [
    "plot_distributions(ratings_df, outliers=True)"
   ]
  },
  {
   "attachments": {},
   "cell_type": "markdown",
   "id": "b0a77e3f",
   "metadata": {},
   "source": [
    "#### Ratings Distributions without Outliers"
   ]
  },
  {
   "cell_type": "code",
   "execution_count": 25,
   "id": "163cf085",
   "metadata": {},
   "outputs": [
    {
     "data": {
      "image/png": "[encoded data removed]",
      "text/plain": [
       "<Figure size 800x800 with 4 Axes>"
      ]
     },
     "metadata": {},
     "output_type": "display_data"
    }
   ],
   "source": [
    "plot_distributions(ratings_df, outliers=False)"
   ]
  },
  {
   "attachments": {},
   "cell_type": "markdown",
   "id": "598a6005",
   "metadata": {},
   "source": [
    "#### Ratings Random Sample (without Outliers)"
   ]
  },
  {
   "cell_type": "code",
   "execution_count": 36,
   "id": "9af8939a",
   "metadata": {},
   "outputs": [],
   "source": [
    "# From a dataframe sample all the ratings from N random users, using 'User ID'\n",
    "def sample_n_user_ratings(source_df, n):\n",
    "    users = source_df['user_id'].unique()\n",
    "    user_id_set = set(np.random.choice(users, size=n, replace=False))\n",
    "\n",
    "    result_df = source_df[source_df['user_id'].isin(user_id_set)].copy()\n",
    "    \n",
    "    return result_df\n"
   ]
  },
  {
   "cell_type": "code",
   "execution_count": 39,
   "id": "b930d382",
   "metadata": {},
   "outputs": [
    {
     "name": "stdout",
     "output_type": "stream",
     "text": [
      "Sampled User Count: 2000\n",
      "Sampled Unique Anime Rated: 10179\n"
     ]
    },
    {
     "data": {
      "image/png": "[encoded data removed]",
      "text/plain": [
       "<Figure size 800x800 with 4 Axes>"
      ]
     },
     "metadata": {},
     "output_type": "display_data"
    }
   ],
   "source": [
    "ratings_sample = sample_n_user_ratings(ratings_df, 2000)\n",
    "plot_distributions(ratings_sample, outliers=False)\n",
    "\n",
    "print('Sampled User Count: {}'.format(len(ratings_sample['user_id'].unique())))\n",
    "print('Sampled Unique Anime Rated: {}'.format(len(ratings_sample['anime_id'].unique())))"
   ]
  },
  {
   "attachments": {},
   "cell_type": "markdown",
   "id": "8bc1f19a",
   "metadata": {},
   "source": [
    "#### Ratings Sample CSV File (frontend_ratings_sample.csv)"
   ]
  },
  {
   "cell_type": "code",
   "execution_count": null,
   "id": "c9f90997",
   "metadata": {},
   "outputs": [],
   "source": [
    "# Save as file for frontend usage\n",
    "ratings_sample.to_csv('data/frontend_ratings_sample.csv', index=False)"
   ]
  },
  {
   "attachments": {},
   "cell_type": "markdown",
   "id": "7bec2aff",
   "metadata": {},
   "source": [
    "## Grid Search / SVD"
   ]
  },
  {
   "attachments": {},
   "cell_type": "markdown",
   "id": "4b4af08e",
   "metadata": {},
   "source": [
    "Data Setup"
   ]
  },
  {
   "cell_type": "code",
   "execution_count": null,
   "id": "b2e964a3",
   "metadata": {},
   "outputs": [],
   "source": [
    "def create_dataset_from_df(df):\n",
    "    reader = Reader(rating_scale=(1,10))\n",
    "    return Dataset.load_from_df(df, reader)\n",
    "\n",
    "# Read into Suprise dataset\n",
    "svd_ratings_dataset =create_dataset_from_df(ratings_sample)"
   ]
  },
  {
   "attachments": {},
   "cell_type": "markdown",
   "id": "42a59f52",
   "metadata": {},
   "source": [
    "Grid Search"
   ]
  },
  {
   "cell_type": "code",
   "execution_count": null,
   "id": "50c3c52a",
   "metadata": {},
   "outputs": [],
   "source": [
    "# Grid search for optimal hyperparameters\n",
    "param_grid = {\n",
    "    'lr_all' : [.01],\n",
    "    'n_factors' : [50, 75, 100],\n",
    "    'reg_all': [.1],\n",
    "    'n_epochs' : [50, 100, 150]\n",
    "}\n",
    "gridsearch_svd = GridSearchCV(\n",
    "    SVD, \n",
    "    param_grid = param_grid, \n",
    "    n_jobs = -1, \n",
    "    joblib_verbose = 3)\n",
    "\n",
    "gridsearch_svd.fit(svd_ratings_dataset)\n",
    "\n",
    "print(gridsearch_svd.best_score)\n",
    "print(gridsearch_svd.best_params)\n"
   ]
  },
  {
   "attachments": {},
   "cell_type": "markdown",
   "id": "d25117fd",
   "metadata": {},
   "source": [
    "Training Model Instance"
   ]
  },
  {
   "cell_type": "code",
   "execution_count": null,
   "id": "01aacd8b",
   "metadata": {},
   "outputs": [],
   "source": [
    "# Create model instance from grid search optimal hyperparameters\n",
    "svd_instance = gridsearch_svd.best_estimator[\"rmse\"]\n",
    "# Print Params\n",
    "print(svd_instance.__dict__)"
   ]
  },
  {
   "cell_type": "code",
   "execution_count": null,
   "id": "97361963",
   "metadata": {},
   "outputs": [],
   "source": [
    "# Graph RMSE over training epochs\n",
    "svd_instance.fit(svd_ratings_dataset.build_full_trainset())"
   ]
  },
  {
   "cell_type": "code",
   "execution_count": null,
   "id": "1d998a4a",
   "metadata": {},
   "outputs": [],
   "source": [
    "\n",
    "mse_per_epoch = svd_instance.history['rmse']\n",
    "\n",
    "for epoch, mse in enumerate(mse_per_epoch, start=1):\n",
    "    print(f\"Epoch {epoch}: MSE = {mse}\")"
   ]
  },
  {
   "attachments": {},
   "cell_type": "markdown",
   "id": "7a779bcb",
   "metadata": {},
   "source": [
    "Basic SVD Rating Prediction Recommendation System"
   ]
  },
  {
   "cell_type": "code",
   "execution_count": null,
   "id": "5bb276c8",
   "metadata": {},
   "outputs": [],
   "source": [
    "# Appends a new user to the df for refitting and predicting\n",
    "# We need to do this because suprise does not support iterative training with SVD\n",
    "def create_predict_dataset(base_df, anime_ids, ratings):\n",
    "    predictor_df = base_df.copy()\n",
    "    for i in range(len(anime_ids)):\n",
    "        predictor_df.loc[len(predictor_df)] = [-1,anime_ids[i], ratings[i]]\n",
    "    \n",
    "    return create_dataset_from_df(predictor_df)\n"
   ]
  },
  {
   "cell_type": "code",
   "execution_count": null,
   "id": "99bbf481",
   "metadata": {},
   "outputs": [],
   "source": [
    "\n",
    "# Displays predictions for some user ID\n",
    "# TODO: Should display name of anime\n",
    "def show_predictions(model_instance, user_id, anime_ids, ratings_df):\n",
    "    for anime_id in anime_ids:\n",
    "        condition = (ratings_df['User ID'] == user_id) & (ratings_df['Anime ID'] == anime_id)\n",
    "        model_instance.predict(\n",
    "            user_id, \n",
    "            anime_id, \n",
    "            #ratings_df.loc[condition, 'Rating'],\n",
    "            verbose = True)\n",
    "\n",
    "# Creates a dataframe for the predictions\n",
    "def get_predictions(model_instance, user_id, anime_ids):\n",
    "\n",
    "    predict_ratings = pd.DataFrame(columns=['Anime ID', 'Rating'])\n",
    "\n",
    "    # Use suprise model predict method to get predictions\n",
    "    # This only works on userIDs that were in the training set\n",
    "    for anime_id in anime_ids:\n",
    "        prediction = model_instance.predict(\n",
    "            user_id, \n",
    "            anime_id)\n",
    "\n",
    "        predict_ratings.loc[len(predict_ratings)] = [anime_id, prediction.est]\n",
    "\n",
    "    return predict_ratings"
   ]
  },
  {
   "cell_type": "code",
   "execution_count": null,
   "id": "0df42f85",
   "metadata": {},
   "outputs": [],
   "source": [
    "# print(anime_ratings[anime_ratings['User ID'] == 35])\n",
    "# show_predictions(svd_instance, 35, [64, 6707, 6547, 4898], svd_ratings_sample)"
   ]
  },
  {
   "cell_type": "code",
   "execution_count": null,
   "id": "51af1db6",
   "metadata": {},
   "outputs": [],
   "source": [
    "# Create predictions for a mew user provided their anime ratings\n",
    "# This refits the entire model with the new user appended onto the base df with a user ID of -1\n",
    "\n",
    "def create_predictions_for_user(model_instance, base_df, anime_ids, ratings):\n",
    "\n",
    "    # Create suprise dataset with new user\n",
    "    predict_dataset = create_predict_dataset(\n",
    "        base_df, \n",
    "        anime_ids,\n",
    "        ratings)\n",
    "\n",
    "    # Train on entire dataset\n",
    "    # TODO: Should we do this?\n",
    "    model_instance.fit(predict_dataset.build_full_trainset())\n",
    "    # model_instance.fit(full_trainset)\n",
    "\n",
    "    # Create a series of all the anime IDs that want to be predicted (all of them, more or less)\n",
    "    predict_anime_ids = base_df['Anime ID'];\n",
    "    predict_anime_ids = predict_anime_ids.append(pd.Series(anime_ids)).unique()\n",
    "    \n",
    "    # Show predictions for the known ratings\n",
    "    # show_predictions(model_instance, -1, anime_ids, svd_ratings_sample)\n",
    "\n",
    "    # Generate and return predictions for all the anime\n",
    "    return get_predictions(model_instance, -1, predict_anime_ids)\n",
    "\n",
    "# Print out information for top N predictions\n",
    "def display_top_n(predictions, n):\n",
    "    # Sort descending\n",
    "    predictions = predictions.sort_values('Rating', ascending=False)\n",
    "    \n",
    "    print(predictions)\n",
    "    print(\"Top {} predicted scores\".format(n))\n",
    "    # Print information about top n\n",
    "    for index, row in predictions.head(n).iterrows():\n",
    "        anime_id = row['Anime ID']\n",
    "        rating = row['Rating']\n",
    "        name = rid_to_name[str(int(anime_id))]\n",
    "        print(\"Anime: {} Rating: {} Name: {}\".format(anime_id, rating, name))"
   ]
  },
  {
   "cell_type": "code",
   "execution_count": null,
   "id": "4f5af9f2",
   "metadata": {},
   "outputs": [],
   "source": [
    "# User 1 \n",
    "# Drama / romance\n",
    "\n",
    "user_1_anime_ids = [4224, 23273, 1723, 32281, 37450, 2167, 121]\n",
    "user_1_ratings = [10, 8, 9, 9, 10, 9, 4]\n",
    "\n",
    "# No randomness between each fit\n",
    "svd_instance.random_state = 1\n",
    "\n",
    "user_1_predictions = create_predictions_for_user(\n",
    "    svd_instance,\n",
    "    svd_ratings_sample,\n",
    "    user_1_anime_ids,\n",
    "    user_1_ratings\n",
    "    )\n",
    "\n",
    "display_top_n(user_1_predictions, 25)"
   ]
  },
  {
   "cell_type": "code",
   "execution_count": null,
   "id": "3b23ffc0",
   "metadata": {},
   "outputs": [],
   "source": [
    "# User 2 \n",
    "# Action / Adventure\n",
    "user_2_pred = create_predictions_for_user(\n",
    "    svd_instance,\n",
    "    svd_ratings_sample,\n",
    "    [114, 31964, 32051, 34134, 38000],\n",
    "    [9, 10, 8, 9, 9]\n",
    "    )\n",
    "\n",
    "display_top_n(user_2_pred, 25)"
   ]
  },
  {
   "cell_type": "code",
   "execution_count": null,
   "id": "dd311ec2",
   "metadata": {},
   "outputs": [],
   "source": [
    "# User 3 \n",
    "# Boys Love\n",
    "user_3_anime_ids = [114, 31964, 32051, 34134, 38000, 39533, 30346, 44055, 918]\n",
    "user_3_ratings = [4, 5, 4, 6, 4, 10, 10, 9, 4]\n",
    "\n",
    "user_3_predictions = create_predictions_for_user(\n",
    "    svd_instance,\n",
    "    svd_ratings_sample,\n",
    "    user_3_anime_ids,\n",
    "    user_3_ratings\n",
    ")\n",
    "\n",
    "display_top_n(user_3_predictions, 25)"
   ]
  },
  {
   "cell_type": "code",
   "execution_count": null,
   "id": "e4145fc5",
   "metadata": {},
   "outputs": [],
   "source": [
    "# from collections import defaultdict\n",
    "\n",
    "# def get_top_n(predictions, n = 10):\n",
    "#     top_n = defaultdict(list)\n",
    "#     for uid, iid, true_r, est, _ in predictions:\n",
    "#         top_n[uid].append((iid, est))\n",
    "\n",
    "#     # Then sort the predictions for each user and retrieve the k highest ones.\n",
    "#     for uid, user_ratings in top_n.items():\n",
    "#         user_ratings.sort(key=lambda x: x[1], reverse=True)\n",
    "#         top_n[uid] = user_ratings[:n]\n",
    "\n",
    "#     return top_n"
   ]
  },
  {
   "cell_type": "code",
   "execution_count": null,
   "id": "d266fd4d",
   "metadata": {},
   "outputs": [],
   "source": [
    "# top_anime = get_top_n(anime_predictions,n=10)\n",
    "\n",
    "# for uid, user_ratings in top_anime.items():\n",
    "#     if len([iid for (iid, _) in user_ratings]) == 10:\n",
    "#         print(uid, [iid for (iid, _) in user_ratings])"
   ]
  },
  {
   "cell_type": "code",
   "execution_count": null,
   "id": "2cf1b89f",
   "metadata": {},
   "outputs": [],
   "source": [
    "# user_id = -1\n",
    "# anime_ids = []\n",
    "# for uid, user_ratings in top_anime.items():\n",
    "#     if len([iid for (iid, _) in user_ratings]) == 10:\n",
    "#         user_id = uid\n",
    "#         anime_ids = [iid for (iid, _) in user_ratings]\n",
    "#         break\n",
    "# print(user_id, anime_ids)"
   ]
  },
  {
   "cell_type": "code",
   "execution_count": null,
   "id": "96ed04a6",
   "metadata": {},
   "outputs": [],
   "source": [
    "# for anime_id in anime_ids:\n",
    "#     print(anime_main.loc[anime_main['Anime ID'] == anime_id]['Name'].to_string(index=False))"
   ]
  },
  {
   "attachments": {},
   "cell_type": "markdown",
   "id": "83648f46",
   "metadata": {},
   "source": [
    "## KNN "
   ]
  },
  {
   "cell_type": "code",
   "execution_count": null,
   "id": "733fbe83",
   "metadata": {},
   "outputs": [],
   "source": [
    "reader = Reader(rating_scale=(1,10))\n",
    "knn_anime_data = Dataset.load_from_df(ratings_sample, reader)\n",
    "\n",
    "knn_anime_trainset = knn_anime_data.build_full_trainset()\n",
    "knn_anime_testset = knn_anime_trainset.build_anti_testset()"
   ]
  },
  {
   "cell_type": "code",
   "execution_count": null,
   "id": "82b38078",
   "metadata": {},
   "outputs": [],
   "source": [
    "simulation_variables = {\"Name\" : \"pearson_baseline\", \"user_based\" : False, \"min_support\" : 4}\n",
    "knn_baseline = KNNBasic(sim_options = simulation_variables)\n",
    "knn_baseline.fit(knn_anime_trainset)\n",
    "\n",
    "anime_name = \"Kimi no Na wa.\"\n",
    "anime_raw_id = int(name_to_rid[anime_name])\n",
    "anime_inner_id = knn_baseline.trainset.to_inner_iid(anime_raw_id)\n",
    "\n",
    "print(rid_to_name[str(knn_baseline.trainset.to_raw_iid(anime_inner_id))])\n",
    "\n",
    "anime_neighbors = knn_baseline.get_neighbors(anime_inner_id, k=10)\n",
    "\n",
    "for inner_id in anime_neighbors:\n",
    "    print(rid_to_name[str(knn_baseline.trainset.to_raw_iid(inner_id))])\n",
    "\n",
    "anime_neighbors = (\n",
    "    knn_baseline.trainset.to_raw_iid(inner_id) for inner_id in anime_neighbors\n",
    ")\n",
    "\n",
    "anime_neighbors = (rid_to_name[str(rid)] for rid in anime_neighbors)"
   ]
  },
  {
   "cell_type": "code",
   "execution_count": null,
   "id": "b8d5e7e5",
   "metadata": {},
   "outputs": [],
   "source": [
    "print(anime_raw_id)"
   ]
  },
  {
   "cell_type": "code",
   "execution_count": null,
   "id": "e71a7fde",
   "metadata": {},
   "outputs": [],
   "source": [
    "print(\"The 10 nearest neighbors of\", anime_name, \"are:\")\n",
    "for anime in anime_neighbors:\n",
    "    print(anime)"
   ]
  },
  {
   "attachments": {},
   "cell_type": "markdown",
   "id": "2eafe5dd",
   "metadata": {},
   "source": [
    "## Cross Validation"
   ]
  },
  {
   "cell_type": "code",
   "execution_count": null,
   "id": "ffa04602",
   "metadata": {},
   "outputs": [],
   "source": [
    "knn_basic = KNNBasic(sim_options = {'name':'pearson','user_based':True})\n",
    "\n",
    "cv_knn_baseline = cross_validate(knn_basic, knn_anime_data, n_jobs=-1)\n",
    "print(np.mean(cv_knn_baseline['test_rmse']))"
   ]
  },
  {
   "cell_type": "code",
   "execution_count": null,
   "id": "5968a38b",
   "metadata": {},
   "outputs": [],
   "source": [
    "cv_knn_baseline"
   ]
  },
  {
   "attachments": {},
   "cell_type": "markdown",
   "id": "36b4778b",
   "metadata": {},
   "source": [
    "## Exported Models for Front-end"
   ]
  },
  {
   "cell_type": "code",
   "execution_count": null,
   "id": "863622d3",
   "metadata": {},
   "outputs": [],
   "source": [
    "import pickle\n",
    "\n",
    "pickle.dump(knn_baseline, open('knn_model.pkl','wb'))\n",
    "pickle.dump(svd_instance, open('svd_model.pkl','wb'))"
   ]
  }
 ],
 "metadata": {
  "kernelspec": {
   "display_name": "base",
   "language": "python",
   "name": "python3"
  },
  "language_info": {
   "codemirror_mode": {
    "name": "ipython",
    "version": 3
   },
   "file_extension": ".py",
   "mimetype": "text/x-python",
   "name": "python",
   "nbconvert_exporter": "python",
   "pygments_lexer": "ipython3",
   "version": "3.9.13"
  }
 },
 "nbformat": 4,
 "nbformat_minor": 5
}
